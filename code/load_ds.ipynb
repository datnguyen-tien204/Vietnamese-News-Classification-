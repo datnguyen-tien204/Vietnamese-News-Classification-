{
 "cells": [
  {
   "cell_type": "code",
   "execution_count": 1,
   "outputs": [],
   "source": [
    "import pandas as pd\n",
    "\n",
    "df = pd.read_csv('Dataset_articles_NoID.csv')"
   ],
   "metadata": {
    "collapsed": false,
    "ExecuteTime": {
     "end_time": "2024-01-03T04:44:39.969610800Z",
     "start_time": "2024-01-03T04:43:56.023770500Z"
    }
   },
   "id": "6a216a155af5ed39"
  },
  {
   "cell_type": "code",
   "execution_count": 2,
   "outputs": [
    {
     "name": "stdout",
     "output_type": "stream",
     "text": [
      "                                                      URL  \\\n",
      "3749    https://laodong.vn/cong-doan/ldld-tp-bao-loc-t...   \n",
      "5110    https://laodong.vn/cong-doan/cuoi-thang-nhieu-...   \n",
      "5179    https://laodong.vn/cong-doan/tong-ldldvn-hieu-...   \n",
      "5253    https://laodong.vn/cong-doan/van-de-nha-o-duoc...   \n",
      "11813   https://laodong.vn/cong-doan/toan-van-tham-lua...   \n",
      "...                                                   ...   \n",
      "312375  https://laodong.vn/cong-doan/quy-xa-hoi-tu-thi...   \n",
      "312386  https://laodong.vn/cong-doan/khoi-cong-xay-dun...   \n",
      "312387  https://laodong.vn/cong-doan/gia-dinh-doan-vie...   \n",
      "312395  https://laodong.vn/cong-doan/ldld-da-nang-trao...   \n",
      "312398  https://laodong.vn/cong-doan/quy-tam-long-vang...   \n",
      "\n",
      "                                                    Title  \\\n",
      "3749    LĐLĐ TP. Bảo Lộc thành lập công đoàn cơ sở 546...   \n",
      "5110    Cuối tháng, nhiều công nhân chỉ ăn cơm chan ca...   \n",
      "5179    Tổng LĐLĐVN: Hiệu trưởng Trường Đại học Tôn Đứ...   \n",
      "5253    Vấn đề nhà ở được nhiều công nhân phản ánh với...   \n",
      "11813   Toàn văn tham luận của Chủ tịch Tổng Liên đoàn...   \n",
      "...                                                   ...   \n",
      "312375  Quỹ Xã hội từ thiện Tấm lòng Vàng Lao Động hỗ ...   \n",
      "312386  Khởi công xây dựng phòng học cho trẻ mẫu giáo ...   \n",
      "312387  Gia đình đoàn viên CĐ có người thiệt mạng, mất...   \n",
      "312395  LĐLĐ Đà Nẵng trao tiền hỗ trợ “Mái ấm công đoà...   \n",
      "312398  Quỹ Tấm lòng vàng Lao Động hỗ trợ 324 triệu đồ...   \n",
      "\n",
      "                                                  Summary  \\\n",
      "3749    LĐLĐ TP. Bảo Lộc tỉnh Lâm Đồng vừa tổ chức đại...   \n",
      "5110    Chiều 10.7, Tổng LĐLĐVN tổ chức Tọa đàm về mức...   \n",
      "5179    Chiều 10.6, Tổng LĐLĐVN đã có thông tin với bá...   \n",
      "5253    Ngày 11.5, tại Cty Yamaha Việt Nam (KCN Nội Bà...   \n",
      "11813   Báo Lao Động xin trân trọng giới thiệu toàn vă...   \n",
      "...                                                   ...   \n",
      "312375  Ngày 30 và 31.8, Quỹ XHTT Tấm lòng Vàng Lao Độ...   \n",
      "312386  Với hơn 2000 dân, cả xã đảo chỉ có duy nhất 1 ...   \n",
      "312387  Được sự ủy quyền của Tổng LĐLĐVN, ông Vương Vă...   \n",
      "312395  Sáng 25.7, LĐLĐ Đà Nẵng đã tổ chức buổi đến th...   \n",
      "312398  Sáng 14.7, đồng chí Lê Thị Hải Yến - Phó chủ t...   \n",
      "\n",
      "                                                 Contents  \\\n",
      "3749    Sau một thời gian tích cực tuyên truyền, vận đ...   \n",
      "5110    Tại buổi tọa đàm, mức sống tối thiểu là nội du...   \n",
      "5179    Tổng LĐLĐVN luôn tạo điều kiện tốt nhất cho Tr...   \n",
      "5253    Các đồng chí: Nguyễn Đức Chung, Uỷ viên TƯ Đản...   \n",
      "11813   Kính thưa Đoàn Chủ tịch Đại hội! Kính thưa toà...   \n",
      "...                                                   ...   \n",
      "312375  Ngoài số sách vở và sữa, Ngân hàng BIDV chi nh...   \n",
      "312386  Ngày 4.8, LĐLĐ tỉnh Khánh Hòa, đại diện Quỹ XH...   \n",
      "312387                                                NaN   \n",
      "312395  Tại buổi thăm, ông Nguyễn Đức Thanh, Phó Chủ t...   \n",
      "312398  Đón nhận số tiền 324 triệu đồng từ đại diện LĐ...   \n",
      "\n",
      "                                      Date         Author(s)   Category  \\\n",
      "3749     Thứ sáu, 18/09/2020 10:38 (GMT+7)      Đỗ Đức Thiệm  Công đoàn   \n",
      "5110      Thứ tư, 10/07/2019 17:29 (GMT+7)  Quế Chi – Hà Anh  Công đoàn   \n",
      "5179     Thứ hai, 10/06/2019 22:14 (GMT+7)           Hà Anh   Công đoàn   \n",
      "5253     Thứ bảy, 11/05/2019 15:27 (GMT+7)          Việt Lâm  Công đoàn   \n",
      "11813     Thứ tư, 27/01/2021 17:35 (GMT+7)                 .  Công đoàn   \n",
      "...                                    ...               ...        ...   \n",
      "312375   Thứ năm, 31/08/2017 10:45 (GMT+7)         Đặng Tiến  Công đoàn   \n",
      "312386  Chủ nhật, 06/08/2017 20:05 (GMT+7)            T.Thúy  Công đoàn   \n",
      "312387  Chủ nhật, 06/08/2017 17:01 (GMT+7)         Cường Ngô  Công đoàn   \n",
      "312395    Thứ ba, 25/07/2017 16:20 (GMT+7)       THUỲ TRANG   Công đoàn   \n",
      "312398   Thứ sáu, 14/07/2017 20:05 (GMT+7)         Trần Tuấn  Công đoàn   \n",
      "\n",
      "                                                     Tags  \n",
      "3749    ['Đoàn viên', 'Công đoàn cơ sở', 'Lâm Đồng', '...  \n",
      "5110    ['Công nhân', 'Tổng LĐLĐVN', 'Lương tối thiểu ...  \n",
      "5179    ['Đại học Tôn Đức Thắng', 'Tổng Liên đoàn Lao ...  \n",
      "5253    ['Công nhân', 'Hà Nội', 'Tín dụng đen', 'Chủ t...  \n",
      "11813   ['Liên đoàn lao động', 'Tổng Liên đoàn Lao Độn...  \n",
      "...                                                   ...  \n",
      "312375              ['Quỹ xã hội từ thiện Tấm lòng vàng']  \n",
      "312386                                   ['Trẻ mẫu giáo']  \n",
      "312387                                      ['Đoàn viên']  \n",
      "312395  ['Công nhân', 'Mái ấm Công đoàn', 'Thủ tướng',...  \n",
      "312398  ['Quỹ Tấm lòng Vàng', 'Quỹ Tấm lòng vàng Lao Đ...  \n",
      "\n",
      "[23917 rows x 8 columns]\n"
     ]
    }
   ],
   "source": [
    "cong_doan_data = df[df['Category'] == 'Công đoàn']\n",
    "print(cong_doan_data)"
   ],
   "metadata": {
    "collapsed": false,
    "ExecuteTime": {
     "end_time": "2024-01-03T04:44:40.055091600Z",
     "start_time": "2024-01-03T04:44:40.005657100Z"
    }
   },
   "id": "2a8dbed31d82b720"
  },
  {
   "cell_type": "code",
   "execution_count": 11,
   "outputs": [
    {
     "name": "stdout",
     "output_type": "stream",
     "text": [
      "URL          https://laodong.vn/bat-dong-san/vu-song-lo-ubn...\n",
      "Title        Vụ Sông Lô: UBND xã Phước Đồng trả lời \"không ...\n",
      "Summary      \"Không rõ\", \"không nắm rõ\" hoặc \"không xác địn...\n",
      "Contents     Theo đó, văn bản do ông Bùi Cao Pháp - Phó chủ...\n",
      "Date                         Thứ sáu, 18/09/2020 12:50 (GMT+7)\n",
      "Author(s)                                           Nhiệt Băng\n",
      "Category                                          Bất động sản\n",
      "Tags         ['Khu du lịch và giải trí Sông Lô', 'Công ty T...\n",
      "Name: 3748, dtype: object\n"
     ]
    }
   ],
   "source": [
    "row_3749 = df.iloc[3748]\n",
    "\n",
    "print(row_3749.head(10))"
   ],
   "metadata": {
    "collapsed": false,
    "ExecuteTime": {
     "end_time": "2024-01-03T04:49:20.211438200Z",
     "start_time": "2024-01-03T04:49:20.190721300Z"
    }
   },
   "id": "326c66adf3db7f31"
  },
  {
   "cell_type": "code",
   "execution_count": null,
   "outputs": [],
   "source": [],
   "metadata": {
    "collapsed": false
   },
   "id": "64a97b1b22eeb936"
  }
 ],
 "metadata": {
  "kernelspec": {
   "display_name": "Python 3",
   "language": "python",
   "name": "python3"
  },
  "language_info": {
   "codemirror_mode": {
    "name": "ipython",
    "version": 2
   },
   "file_extension": ".py",
   "mimetype": "text/x-python",
   "name": "python",
   "nbconvert_exporter": "python",
   "pygments_lexer": "ipython2",
   "version": "2.7.6"
  }
 },
 "nbformat": 4,
 "nbformat_minor": 5
}
