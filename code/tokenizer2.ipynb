{
 "metadata": {
  "kernelspec": {
   "name": "python3",
   "display_name": "Python 3",
   "language": "python"
  },
  "language_info": {
   "name": "python",
   "version": "3.10.12",
   "mimetype": "text/x-python",
   "codemirror_mode": {
    "name": "ipython",
    "version": 3
   },
   "pygments_lexer": "ipython3",
   "nbconvert_exporter": "python",
   "file_extension": ".py"
  },
  "kaggle": {
   "accelerator": "none",
   "dataSources": [
    {
     "sourceId": 3715281,
     "sourceType": "datasetVersion",
     "datasetId": 2222238
    }
   ],
   "dockerImageVersionId": 30587,
   "isInternetEnabled": true,
   "language": "python",
   "sourceType": "notebook",
   "isGpuEnabled": false
  }
 },
 "nbformat_minor": 4,
 "nbformat": 4,
 "cells": [
  {
   "cell_type": "code",
   "source": [
    "import torch\n",
    "import torch.nn as nn\n",
    "import numpy as np\n",
    "from tqdm import tqdm\n",
    "from sklearn.model_selection import train_test_split\n",
    "from torch.utils.data import DataLoader\n",
    "from torch.optim import lr_scheduler\n",
    "import pandas as pd\n",
    "import os\n",
    "import matplotlib.pyplot as plt\n",
    "from sklearn.metrics import confusion_matrix\n",
    "from sklearn.metrics import f1_score\n",
    "\n",
    "from sklearn.utils import class_weight\n",
    "from pyvi import ViTokenizer\n",
    "from sklearn.metrics import confusion_matrix,classification_report\n",
    "from collections import Counter\n",
    "from sklearn.utils import resample\n",
    "from utils import load_checkpoint"
   ],
   "metadata": {
    "execution": {
     "iopub.status.busy": "2023-11-20T05:01:46.964401Z",
     "iopub.execute_input": "2023-11-20T05:01:46.964889Z",
     "iopub.status.idle": "2023-11-20T05:01:51.463640Z",
     "shell.execute_reply.started": "2023-11-20T05:01:46.964846Z",
     "shell.execute_reply": "2023-11-20T05:01:51.462434Z"
    },
    "trusted": true,
    "ExecuteTime": {
     "end_time": "2023-11-25T10:03:23.873029300Z",
     "start_time": "2023-11-25T10:02:49.928532900Z"
    }
   },
   "execution_count": 1,
   "outputs": []
  },
  {
   "cell_type": "code",
   "source": [
    "from model import AttentionModel\n",
    "from dataset import TextDataset"
   ],
   "metadata": {
    "execution": {
     "iopub.status.busy": "2023-11-20T05:01:51.465899Z",
     "iopub.execute_input": "2023-11-20T05:01:51.466840Z",
     "iopub.status.idle": "2023-11-20T05:01:51.473941Z",
     "shell.execute_reply.started": "2023-11-20T05:01:51.466790Z",
     "shell.execute_reply": "2023-11-20T05:01:51.472877Z"
    },
    "trusted": true,
    "ExecuteTime": {
     "end_time": "2023-11-25T10:03:23.897026800Z",
     "start_time": "2023-11-25T10:03:23.871023200Z"
    }
   },
   "execution_count": 2,
   "outputs": []
  },
  {
   "cell_type": "code",
   "source": [
    "from torch.utils.tensorboard import SummaryWriter\n",
    "writer = SummaryWriter()"
   ],
   "metadata": {
    "execution": {
     "iopub.status.busy": "2023-11-20T05:01:51.475304Z",
     "iopub.execute_input": "2023-11-20T05:01:51.475652Z",
     "iopub.status.idle": "2023-11-20T05:02:05.937284Z",
     "shell.execute_reply.started": "2023-11-20T05:01:51.475624Z",
     "shell.execute_reply": "2023-11-20T05:02:05.936174Z"
    },
    "trusted": true,
    "ExecuteTime": {
     "end_time": "2023-11-25T10:03:26.719943400Z",
     "start_time": "2023-11-25T10:03:23.900022900Z"
    }
   },
   "execution_count": 3,
   "outputs": []
  },
  {
   "cell_type": "markdown",
   "source": [
    "# Load data"
   ],
   "metadata": {}
  },
  {
   "cell_type": "code",
   "source": [
    "# data_path = '../data'\n",
    "# model_path = '../model'"
   ],
   "metadata": {
    "ExecuteTime": {
     "end_time": "2023-11-25T10:03:26.744863100Z",
     "start_time": "2023-11-25T10:03:26.721860900Z"
    }
   },
   "execution_count": 4,
   "outputs": []
  },
  {
   "cell_type": "code",
   "source": [
    "df_ = pd.read_csv(r'E:\\NLP\\Vietnamese-Text-Classification-master\\data\\test.csv')"
   ],
   "metadata": {
    "execution": {
     "iopub.status.busy": "2023-11-20T05:12:54.917920Z",
     "iopub.execute_input": "2023-11-20T05:12:54.918866Z"
    },
    "trusted": true,
    "ExecuteTime": {
     "end_time": "2023-11-21T14:38:27.499156Z",
     "start_time": "2023-11-21T14:38:27.458037900Z"
    }
   },
   "execution_count": 5,
   "outputs": []
  },
  {
   "cell_type": "code",
   "source": [
    "test_data = df_.sample(n=5000, random_state=42)  # Lấy ngẫu nhiên 1000 bản ghi\n",
    "train_data = df_.drop(test_data.index)  # Loại bỏ các bản ghi test khỏi tập train\n",
    "\n",
    "# In thông tin về kích thước của tập train và test\n",
    "print(f'Size of training set: {len(train_data)}')\n",
    "print(f'Size of test set: {len(test_data)}')\n",
    "\n",
    "# Lưu dữ liệu vào các tệp CSV riêng biệt\n",
    "# train_data.to_csv('train.csv', index=False)\n",
    "# test_data.to_csv('test.csv', index=False)"
   ],
   "metadata": {
    "trusted": true,
    "ExecuteTime": {
     "end_time": "2023-11-25T10:03:30.879928300Z",
     "start_time": "2023-11-25T10:03:29.449243600Z"
    }
   },
   "execution_count": 5,
   "outputs": [
    {
     "ename": "NameError",
     "evalue": "name 'df_' is not defined",
     "output_type": "error",
     "traceback": [
      "\u001B[1;31m---------------------------------------------------------------------------\u001B[0m",
      "\u001B[1;31mNameError\u001B[0m                                 Traceback (most recent call last)",
      "Cell \u001B[1;32mIn[5], line 1\u001B[0m\n\u001B[1;32m----> 1\u001B[0m test_data \u001B[38;5;241m=\u001B[39m \u001B[43mdf_\u001B[49m\u001B[38;5;241m.\u001B[39msample(n\u001B[38;5;241m=\u001B[39m\u001B[38;5;241m5000\u001B[39m, random_state\u001B[38;5;241m=\u001B[39m\u001B[38;5;241m42\u001B[39m)  \u001B[38;5;66;03m# Lấy ngẫu nhiên 1000 bản ghi\u001B[39;00m\n\u001B[0;32m      2\u001B[0m train_data \u001B[38;5;241m=\u001B[39m df_\u001B[38;5;241m.\u001B[39mdrop(test_data\u001B[38;5;241m.\u001B[39mindex)  \u001B[38;5;66;03m# Loại bỏ các bản ghi test khỏi tập train\u001B[39;00m\n\u001B[0;32m      4\u001B[0m \u001B[38;5;66;03m# In thông tin về kích thước của tập train và test\u001B[39;00m\n",
      "\u001B[1;31mNameError\u001B[0m: name 'df_' is not defined"
     ]
    }
   ]
  },
  {
   "cell_type": "code",
   "source": [
    "train_data.head(10)"
   ],
   "metadata": {
    "trusted": true,
    "ExecuteTime": {
     "end_time": "2023-11-21T14:38:43.049384900Z",
     "start_time": "2023-11-21T14:38:42.987908Z"
    }
   },
   "execution_count": 7,
   "outputs": [
    {
     "ename": "NameError",
     "evalue": "name 'train_data' is not defined",
     "output_type": "error",
     "traceback": [
      "\u001B[1;31m---------------------------------------------------------------------------\u001B[0m",
      "\u001B[1;31mNameError\u001B[0m                                 Traceback (most recent call last)",
      "Cell \u001B[1;32mIn[7], line 1\u001B[0m\n\u001B[1;32m----> 1\u001B[0m \u001B[43mtrain_data\u001B[49m\u001B[38;5;241m.\u001B[39mhead(\u001B[38;5;241m10\u001B[39m)\n",
      "\u001B[1;31mNameError\u001B[0m: name 'train_data' is not defined"
     ]
    }
   ]
  },
  {
   "cell_type": "code",
   "source": [
    "test_data.head(10)"
   ],
   "metadata": {
    "trusted": true
   },
   "execution_count": null,
   "outputs": []
  },
  {
   "cell_type": "code",
   "source": [
    "drop_columns=['Date','Author(s)','Tags']\n",
    "train_data = train_data.drop(columns=drop_columns)\n",
    "test_data =test_data.drop(columns=drop_columns)\n",
    "train_data.head(10)"
   ],
   "metadata": {
    "trusted": true
   },
   "execution_count": null,
   "outputs": []
  },
  {
   "cell_type": "code",
   "source": [
    "unique_values = train_data['Category'].unique()\n",
    "unique_values"
   ],
   "metadata": {
    "trusted": true
   },
   "execution_count": null,
   "outputs": []
  },
  {
   "cell_type": "code",
   "source": [
    "def display_missing(df,features_columns):\n",
    "    n_rows=df.shape[0]\n",
    "    for col in features_columns:\n",
    "        missing_count=df[col].isnull().sum()\n",
    "        if missing_count>0:\n",
    "            print(f\"{col} has {missing_count} missing values\")\n",
    "column_names = train_data.columns\n",
    "print(\"Train:\",display_missing(train_data,column_names))\n",
    "print(\"Test:\",display_missing(test_data,column_names))"
   ],
   "metadata": {
    "trusted": true
   },
   "execution_count": null,
   "outputs": []
  },
  {
   "cell_type": "code",
   "source": [
    "train_data = train_data.dropna(subset=['Contents'])\n",
    "train_data = train_data.dropna(subset=['Summary'])\n",
    "test_data = test_data.dropna(subset=['Contents'])\n",
    "test_data = test_data.dropna(subset=['Summary'])\n",
    "print(train_data)\n",
    "print(test_data)"
   ],
   "metadata": {
    "trusted": true
   },
   "execution_count": null,
   "outputs": []
  },
  {
   "cell_type": "code",
   "source": [
    "print(\"Train:\",display_missing(train_data,column_names))\n",
    "print(\"Test:\",display_missing(test_data,column_names))"
   ],
   "metadata": {
    "trusted": true
   },
   "execution_count": null,
   "outputs": []
  },
  {
   "cell_type": "code",
   "source": [
    "from sklearn.preprocessing import LabelEncoder\n",
    "label_encoder = LabelEncoder()\n",
    "train_data['Category'] = label_encoder.fit_transform(train_data['Category'])\n",
    "test_data['Category'] = label_encoder.fit_transform(test_data['Category'])"
   ],
   "metadata": {
    "trusted": true
   },
   "execution_count": null,
   "outputs": []
  },
  {
   "cell_type": "code",
   "source": [
    "unique_values = train_data['Category'].unique()\n",
    "unique_values"
   ],
   "metadata": {
    "trusted": true
   },
   "execution_count": null,
   "outputs": []
  },
  {
   "cell_type": "code",
   "source": [
    "train_data['Category'].value_counts()"
   ],
   "metadata": {
    "trusted": true
   },
   "execution_count": null,
   "outputs": []
  },
  {
   "cell_type": "code",
   "source": [
    "train_data.head(10)"
   ],
   "metadata": {
    "trusted": true
   },
   "execution_count": null,
   "outputs": []
  },
  {
   "cell_type": "code",
   "source": [
    "train_data['Contents'] = pd.concat([train_data['Contents'], train_data['Summary']], axis=1)\n",
    "train_data = df.drop('Summary', axis=1)"
   ],
   "metadata": {
    "trusted": true
   },
   "execution_count": null,
   "outputs": []
  },
  {
   "cell_type": "code",
   "source": [
    "train_data"
   ],
   "metadata": {
    "trusted": true
   },
   "execution_count": null,
   "outputs": []
  },
  {
   "cell_type": "code",
   "source": [
    "train_data.columns"
   ],
   "metadata": {
    "execution": {
     "iopub.status.busy": "2023-11-20T05:11:04.158220Z",
     "iopub.execute_input": "2023-11-20T05:11:04.158697Z",
     "iopub.status.idle": "2023-11-20T05:11:04.167799Z",
     "shell.execute_reply.started": "2023-11-20T05:11:04.158660Z",
     "shell.execute_reply": "2023-11-20T05:11:04.166273Z"
    },
    "trusted": true
   },
   "execution_count": null,
   "outputs": []
  },
  {
   "cell_type": "code",
   "source": [
    "question  = train_data"
   ],
   "metadata": {
    "execution": {
     "iopub.status.busy": "2023-11-20T02:41:50.029639Z",
     "iopub.execute_input": "2023-11-20T02:41:50.030576Z",
     "iopub.status.idle": "2023-11-20T02:41:50.035510Z",
     "shell.execute_reply.started": "2023-11-20T02:41:50.030534Z",
     "shell.execute_reply": "2023-11-20T02:41:50.034283Z"
    },
    "trusted": true
   },
   "execution_count": null,
   "outputs": []
  },
  {
   "cell_type": "code",
   "source": [
    "question['length'] = [len(item) for item in list(question['Contents'])]\n",
    "question['num_word'] = [len(item.split(' ')) for item in list(question['Contents'])]"
   ],
   "metadata": {
    "execution": {
     "iopub.status.busy": "2023-11-20T02:41:52.754845Z",
     "iopub.execute_input": "2023-11-20T02:41:52.755301Z",
     "iopub.status.idle": "2023-11-20T02:42:04.899423Z",
     "shell.execute_reply.started": "2023-11-20T02:41:52.755263Z",
     "shell.execute_reply": "2023-11-20T02:42:04.898217Z"
    },
    "trusted": true
   },
   "execution_count": null,
   "outputs": []
  },
  {
   "cell_type": "code",
   "source": [
    "np.mean(question['num_word'])"
   ],
   "metadata": {
    "execution": {
     "iopub.status.busy": "2023-11-20T02:42:39.545683Z",
     "iopub.execute_input": "2023-11-20T02:42:39.546210Z",
     "iopub.status.idle": "2023-11-20T02:42:39.555344Z",
     "shell.execute_reply.started": "2023-11-20T02:42:39.546165Z",
     "shell.execute_reply": "2023-11-20T02:42:39.554178Z"
    },
    "trusted": true
   },
   "execution_count": null,
   "outputs": []
  },
  {
   "cell_type": "code",
   "source": [
    "plt.hist(list(question['num_word']), bins = 1000)"
   ],
   "metadata": {
    "trusted": true
   },
   "execution_count": null,
   "outputs": []
  },
  {
   "cell_type": "code",
   "source": [
    "def tokenize(text):\n",
    "    list_token = ViTokenizer.tokenize(text)\n",
    "    return list_token.split(' ')"
   ],
   "metadata": {
    "execution": {
     "iopub.status.busy": "2023-11-20T02:43:11.138356Z",
     "iopub.execute_input": "2023-11-20T02:43:11.138784Z",
     "iopub.status.idle": "2023-11-20T02:43:11.144770Z",
     "shell.execute_reply.started": "2023-11-20T02:43:11.138754Z",
     "shell.execute_reply": "2023-11-20T02:43:11.143493Z"
    },
    "trusted": true
   },
   "execution_count": null,
   "outputs": []
  },
  {
   "cell_type": "code",
   "source": [
    "counts = Counter()\n",
    "for index, row in question.iterrows():\n",
    "    counts.update(tokenize(row['Contents']))"
   ],
   "metadata": {
    "scrolled": true,
    "trusted": true
   },
   "execution_count": null,
   "outputs": []
  },
  {
   "cell_type": "code",
   "source": [
    "#deleting infrequent words\n",
    "print(\"num_words before:\",len(counts.keys()))\n",
    "for word in list(counts):\n",
    "    if counts[word] < 2:\n",
    "        del counts[word]\n",
    "print(\"num_words after:\",len(counts.keys()))"
   ],
   "metadata": {
    "trusted": true
   },
   "execution_count": null,
   "outputs": []
  },
  {
   "cell_type": "code",
   "source": [
    "vocab2index = {\"\":0, \"UNK\":1}\n",
    "words = [\"\", \"UNK\"]\n",
    "for word in counts:\n",
    "    vocab2index[word] = len(words)\n",
    "    words.append(word)"
   ],
   "metadata": {
    "trusted": true
   },
   "execution_count": null,
   "outputs": []
  },
  {
   "cell_type": "code",
   "source": [
    "def encode_sentence(text, vocab2index, N=75):\n",
    "    tokenized = tokenize(text)\n",
    "    encoded = np.zeros(N, dtype=int)\n",
    "    enc1 = np.array([vocab2index.get(word, vocab2index[\"UNK\"]) for word in tokenized])\n",
    "#     print(len(enc1))\n",
    "    length = min(N, len(enc1))\n",
    "    encoded[:length] = enc1[:length]\n",
    "#     print(len(encoded))\n",
    "    return [encoded]\n",
    "#     return encoded, length"
   ],
   "metadata": {
    "trusted": true
   },
   "execution_count": null,
   "outputs": []
  },
  {
   "cell_type": "code",
   "source": [
    "N = 22\n",
    "question['encoded'] = question['Contents'].apply(lambda x: np.array(encode_sentence(x,vocab2index,N)))\n",
    "question.head()"
   ],
   "metadata": {
    "trusted": true
   },
   "execution_count": null,
   "outputs": []
  },
  {
   "cell_type": "code",
   "source": [
    "question.to_csv('/kaggle/working/train_tokenized.csv', index=False)"
   ],
   "metadata": {},
   "execution_count": null,
   "outputs": []
  },
  {
   "cell_type": "markdown",
   "source": [
    "# Test"
   ],
   "metadata": {}
  },
  {
   "cell_type": "code",
   "source": [
    "# load_model"
   ],
   "metadata": {},
   "execution_count": null,
   "outputs": []
  },
  {
   "cell_type": "code",
   "source": [
    "# filename = os.path.join(model_path,'model_intent.pth')\n",
    "# joblib.dump(load_model, filename)\n",
    "# # with open('vectorizer.pickle', 'wb') as handle:\n",
    "# #     pickle.dump(vectorizer, handle, protocol=pickle.HIGHEST_PROTOCOL)"
   ],
   "metadata": {},
   "execution_count": null,
   "outputs": []
  },
  {
   "cell_type": "code",
   "source": [
    "# import requests\n",
    "# url = 'https://api-intent.herokuapp.com/predict'\n",
    "# pred = requests.post(url,json={'message':'ad cho em hỏi chương trình tiên tiến với chất lượng cao khác nhau thế nào ạ'})\n",
    "# print(pred.json())\n"
   ],
   "metadata": {
    "scrolled": true
   },
   "execution_count": null,
   "outputs": []
  },
  {
   "cell_type": "code",
   "source": [
    "# for x,y in val_dl:\n",
    "#     print(x.shape)"
   ],
   "metadata": {},
   "execution_count": null,
   "outputs": []
  },
  {
   "cell_type": "code",
   "source": [
    "# vocab2index"
   ],
   "metadata": {},
   "execution_count": null,
   "outputs": []
  }
 ]
}
