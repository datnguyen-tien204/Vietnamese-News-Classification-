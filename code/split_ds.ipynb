{
 "cells": [
  {
   "cell_type": "code",
   "execution_count": 1,
   "id": "initial_id",
   "metadata": {
    "collapsed": true,
    "ExecuteTime": {
     "end_time": "2024-01-18T18:21:59.752563300Z",
     "start_time": "2024-01-18T18:21:35.757535500Z"
    }
   },
   "outputs": [],
   "source": [
    "import pandas as pd\n",
    "df=pd.read_csv(\"Dataset_articles_NoID.csv\")"
   ]
  },
  {
   "cell_type": "code",
   "execution_count": 2,
   "outputs": [
    {
     "data": {
      "text/plain": "                                                 URL  \\\n0  https://laodong.vn/bat-dong-san/thong-tin-ngoc...   \n1  https://laodong.vn/bat-dong-san/lo-hong-trong-...   \n2  https://laodong.vn/bat-dong-san/som-hoan-thien...   \n3  https://laodong.vn/bat-dong-san/chi-tiet-ho-so...   \n4  https://laodong.vn/bat-dong-san/khoi-tao-khong...   \n5  https://laodong.vn/bat-dong-san/can-canh-khu-d...   \n6  https://laodong.vn/quy-hoach/tiep-tuc-cuong-ch...   \n7  https://laodong.vn/bat-dong-san/nguyen-tac-thi...   \n8  https://laodong.vn/bat-dong-san/thanh-hoa-dung...   \n9  https://laodong.vn/nha-dep/kinh-nghiem-thue-vi...   \n\n                                               Title  \\\n0  Thông tin “Ngọc Trinh mua đất ở Bảo Lộc\" chỉ l...   \n1  Lỗ hổng trong việc thẩm tra năng lực tài chính...   \n2  Sớm hoàn thiện các dự án nhà ở xã hội để CNLĐ ...   \n3            Chi tiết hồ sơ hoàn công nhà ở năm 2022   \n4  Khởi tạo không gian sống đẳng cấp, đón sóng đầ...   \n5  Cận cảnh Khu đô thị Thanh Hà bất ngờ bị \"cò\" đ...   \n6  Tiếp tục cưỡng chế 15 biệt thự Ocean View Nha ...   \n7                  Nguyên tắc thiết kế nhà ở công vụ   \n8  Thanh Hoá: Dừng đột ngột phiên đấu giá dự án t...   \n9  Kinh nghiệm thuê villa, homestay chất lượng kh...   \n\n                                             Summary  \\\n0  Lâm Đồng - Lãnh đạo thành phố Bảo Lộc, Lâm Đồn...   \n1  TPHCM - Việc không thể cưỡng chế thuế của hai ...   \n2  Hiện trên địa bàn tỉnh Ninh Bình có 32 khu, cụ...   \n3  Hoàn công nhà ở với ý nghĩa là điều kiện để đư...   \n4  Có rất nhiều lý do khiến những dự án thấp nội ...   \n5  Khu đô thị Thanh Hà Cienco 5 (thuộc quận Hà Đô...   \n6  Khánh Hòa - Bên cạnh việc tổ chức cưỡng chế, c...   \n7  Dưới đây là nguyên tắc thiết kế nhà ở công vụ ...   \n8  Thanh Hoá - Dự án Trường tiểu học và THCS dân ...   \n9  Chuyến du lịch sắp tới, bạn đang phân vân giữa...   \n\n                                            Contents  \\\n0  Những ngày vừa qua, trên trang Facebook chính ...   \n1  Theo thông tin từ Cục Thuế TP.HCM, hiện cơ qua...   \n2  CNLĐ mong muốn sớm được tiếp cận với nhà ở xã ...   \n3  Hoàn công nhà ở là một thủ tục hành chính tron...   \n4  Đi dọc đường Lê Văn Lương kéo dài xuống khu Dư...   \n5  Những ngày qua, đất khu đô thị Thanh Hà Cienco...   \n6  Ngày 19.5, UBND phường Vĩnh Trường cho biết, v...   \n7  Nhà ở công vụ là loại hình nhà ở được xây dựng...   \n8  Từ \"rút ống thở\" nửa chừng… Ngày 17.5.2004, UB...   \n9  Villa là gì? Villa hay được gọi là biệt thự là...   \n\n                                Date        Author(s)      Category  \\\n0  Thứ sáu, 20/05/2022 08:56 (GMT+7)     Phương Nhiên  Bất động sản   \n1  Thứ sáu, 20/05/2022 08:10 (GMT+7)         Gia Miêu  Bất động sản   \n2  Thứ sáu, 20/05/2022 07:47 (GMT+7)    NGUYỄN TRƯỜNG  Bất động sản   \n3  Thứ sáu, 20/05/2022 06:44 (GMT+7)  Kim Nhung (T/H)  Bất động sản   \n4  Thứ năm, 19/05/2022 15:30 (GMT+7)     Huyền Nguyễn  Bất động sản   \n5  Thứ năm, 19/05/2022 14:21 (GMT+7)       CAO NGUYÊN  Bất động sản   \n6  Thứ năm, 19/05/2022 09:27 (GMT+7)         Hữu Long  Bất động sản   \n7  Thứ năm, 19/05/2022 08:26 (GMT+7)  Kim Nhung (T/H)  Bất động sản   \n8   Thứ tư, 18/05/2022 18:28 (GMT+7)        Xuân Hùng  Bất động sản   \n9   Thứ tư, 18/05/2022 16:30 (GMT+7)   Minh Huy (T/H)  Bất động sản   \n\n                                                Tags  \n0  ['Lâm Đồng', 'Ngọc Trinh', 'Chiêu trò', 'Giá đ...  \n1                       ['Thủ Thiêm', 'Đấu giá đất']  \n2  ['Dự án', 'Nhà ở xã hội', 'Dự án nhà ở xã hội'...  \n3  ['Giấy phép xây dựng', 'Hồ sơ hoàn công', 'nhà...  \n4                                   ['An Quý Villa']  \n5  ['Khu đô thị', 'Xây dựng', 'Khu đô thị Thanh ...  \n6  ['Khánh Hòa', 'Nha Trang', 'Ocean View Nha Tra...  \n7  ['Nhà công vụ', 'Nhà ở công vụ', 'nhà ở', 'Thi...  \n8  ['Đất vàng', 'Thanh  Hoá', 'Cty Tây Đô', 'Dự á...  \n9  ['Du lịch', 'Tiết kiệm chi phí', 'Nghỉ dưỡng',...  ",
      "text/html": "<div>\n<style scoped>\n    .dataframe tbody tr th:only-of-type {\n        vertical-align: middle;\n    }\n\n    .dataframe tbody tr th {\n        vertical-align: top;\n    }\n\n    .dataframe thead th {\n        text-align: right;\n    }\n</style>\n<table border=\"1\" class=\"dataframe\">\n  <thead>\n    <tr style=\"text-align: right;\">\n      <th></th>\n      <th>URL</th>\n      <th>Title</th>\n      <th>Summary</th>\n      <th>Contents</th>\n      <th>Date</th>\n      <th>Author(s)</th>\n      <th>Category</th>\n      <th>Tags</th>\n    </tr>\n  </thead>\n  <tbody>\n    <tr>\n      <th>0</th>\n      <td>https://laodong.vn/bat-dong-san/thong-tin-ngoc...</td>\n      <td>Thông tin “Ngọc Trinh mua đất ở Bảo Lộc\" chỉ l...</td>\n      <td>Lâm Đồng - Lãnh đạo thành phố Bảo Lộc, Lâm Đồn...</td>\n      <td>Những ngày vừa qua, trên trang Facebook chính ...</td>\n      <td>Thứ sáu, 20/05/2022 08:56 (GMT+7)</td>\n      <td>Phương Nhiên</td>\n      <td>Bất động sản</td>\n      <td>['Lâm Đồng', 'Ngọc Trinh', 'Chiêu trò', 'Giá đ...</td>\n    </tr>\n    <tr>\n      <th>1</th>\n      <td>https://laodong.vn/bat-dong-san/lo-hong-trong-...</td>\n      <td>Lỗ hổng trong việc thẩm tra năng lực tài chính...</td>\n      <td>TPHCM - Việc không thể cưỡng chế thuế của hai ...</td>\n      <td>Theo thông tin từ Cục Thuế TP.HCM, hiện cơ qua...</td>\n      <td>Thứ sáu, 20/05/2022 08:10 (GMT+7)</td>\n      <td>Gia Miêu</td>\n      <td>Bất động sản</td>\n      <td>['Thủ Thiêm', 'Đấu giá đất']</td>\n    </tr>\n    <tr>\n      <th>2</th>\n      <td>https://laodong.vn/bat-dong-san/som-hoan-thien...</td>\n      <td>Sớm hoàn thiện các dự án nhà ở xã hội để CNLĐ ...</td>\n      <td>Hiện trên địa bàn tỉnh Ninh Bình có 32 khu, cụ...</td>\n      <td>CNLĐ mong muốn sớm được tiếp cận với nhà ở xã ...</td>\n      <td>Thứ sáu, 20/05/2022 07:47 (GMT+7)</td>\n      <td>NGUYỄN TRƯỜNG</td>\n      <td>Bất động sản</td>\n      <td>['Dự án', 'Nhà ở xã hội', 'Dự án nhà ở xã hội'...</td>\n    </tr>\n    <tr>\n      <th>3</th>\n      <td>https://laodong.vn/bat-dong-san/chi-tiet-ho-so...</td>\n      <td>Chi tiết hồ sơ hoàn công nhà ở năm 2022</td>\n      <td>Hoàn công nhà ở với ý nghĩa là điều kiện để đư...</td>\n      <td>Hoàn công nhà ở là một thủ tục hành chính tron...</td>\n      <td>Thứ sáu, 20/05/2022 06:44 (GMT+7)</td>\n      <td>Kim Nhung (T/H)</td>\n      <td>Bất động sản</td>\n      <td>['Giấy phép xây dựng', 'Hồ sơ hoàn công', 'nhà...</td>\n    </tr>\n    <tr>\n      <th>4</th>\n      <td>https://laodong.vn/bat-dong-san/khoi-tao-khong...</td>\n      <td>Khởi tạo không gian sống đẳng cấp, đón sóng đầ...</td>\n      <td>Có rất nhiều lý do khiến những dự án thấp nội ...</td>\n      <td>Đi dọc đường Lê Văn Lương kéo dài xuống khu Dư...</td>\n      <td>Thứ năm, 19/05/2022 15:30 (GMT+7)</td>\n      <td>Huyền Nguyễn</td>\n      <td>Bất động sản</td>\n      <td>['An Quý Villa']</td>\n    </tr>\n    <tr>\n      <th>5</th>\n      <td>https://laodong.vn/bat-dong-san/can-canh-khu-d...</td>\n      <td>Cận cảnh Khu đô thị Thanh Hà bất ngờ bị \"cò\" đ...</td>\n      <td>Khu đô thị Thanh Hà Cienco 5 (thuộc quận Hà Đô...</td>\n      <td>Những ngày qua, đất khu đô thị Thanh Hà Cienco...</td>\n      <td>Thứ năm, 19/05/2022 14:21 (GMT+7)</td>\n      <td>CAO NGUYÊN</td>\n      <td>Bất động sản</td>\n      <td>['Khu đô thị', 'Xây dựng', 'Khu đô thị Thanh ...</td>\n    </tr>\n    <tr>\n      <th>6</th>\n      <td>https://laodong.vn/quy-hoach/tiep-tuc-cuong-ch...</td>\n      <td>Tiếp tục cưỡng chế 15 biệt thự Ocean View Nha ...</td>\n      <td>Khánh Hòa - Bên cạnh việc tổ chức cưỡng chế, c...</td>\n      <td>Ngày 19.5, UBND phường Vĩnh Trường cho biết, v...</td>\n      <td>Thứ năm, 19/05/2022 09:27 (GMT+7)</td>\n      <td>Hữu Long</td>\n      <td>Bất động sản</td>\n      <td>['Khánh Hòa', 'Nha Trang', 'Ocean View Nha Tra...</td>\n    </tr>\n    <tr>\n      <th>7</th>\n      <td>https://laodong.vn/bat-dong-san/nguyen-tac-thi...</td>\n      <td>Nguyên tắc thiết kế nhà ở công vụ</td>\n      <td>Dưới đây là nguyên tắc thiết kế nhà ở công vụ ...</td>\n      <td>Nhà ở công vụ là loại hình nhà ở được xây dựng...</td>\n      <td>Thứ năm, 19/05/2022 08:26 (GMT+7)</td>\n      <td>Kim Nhung (T/H)</td>\n      <td>Bất động sản</td>\n      <td>['Nhà công vụ', 'Nhà ở công vụ', 'nhà ở', 'Thi...</td>\n    </tr>\n    <tr>\n      <th>8</th>\n      <td>https://laodong.vn/bat-dong-san/thanh-hoa-dung...</td>\n      <td>Thanh Hoá: Dừng đột ngột phiên đấu giá dự án t...</td>\n      <td>Thanh Hoá - Dự án Trường tiểu học và THCS dân ...</td>\n      <td>Từ \"rút ống thở\" nửa chừng… Ngày 17.5.2004, UB...</td>\n      <td>Thứ tư, 18/05/2022 18:28 (GMT+7)</td>\n      <td>Xuân Hùng</td>\n      <td>Bất động sản</td>\n      <td>['Đất vàng', 'Thanh  Hoá', 'Cty Tây Đô', 'Dự á...</td>\n    </tr>\n    <tr>\n      <th>9</th>\n      <td>https://laodong.vn/nha-dep/kinh-nghiem-thue-vi...</td>\n      <td>Kinh nghiệm thuê villa, homestay chất lượng kh...</td>\n      <td>Chuyến du lịch sắp tới, bạn đang phân vân giữa...</td>\n      <td>Villa là gì? Villa hay được gọi là biệt thự là...</td>\n      <td>Thứ tư, 18/05/2022 16:30 (GMT+7)</td>\n      <td>Minh Huy (T/H)</td>\n      <td>Bất động sản</td>\n      <td>['Du lịch', 'Tiết kiệm chi phí', 'Nghỉ dưỡng',...</td>\n    </tr>\n  </tbody>\n</table>\n</div>"
     },
     "execution_count": 2,
     "metadata": {},
     "output_type": "execute_result"
    }
   ],
   "source": [
    "df.head(10)"
   ],
   "metadata": {
    "collapsed": false,
    "ExecuteTime": {
     "end_time": "2024-01-18T18:21:59.866539400Z",
     "start_time": "2024-01-18T18:21:59.756078Z"
    }
   },
   "id": "6c08d2dcd55d1fc4"
  },
  {
   "cell_type": "code",
   "execution_count": 3,
   "outputs": [
    {
     "name": "stdout",
     "output_type": "stream",
     "text": [
      "Summary has 180 missing values\n",
      "Contents has 5557 missing values\n",
      "Author(s) has 821 missing values\n",
      "Train: None\n"
     ]
    }
   ],
   "source": [
    "def display_missing(df,features_columns):\n",
    "    n_rows=df.shape[0]\n",
    "    for col in features_columns:\n",
    "        missing_count=df[col].isnull().sum()\n",
    "        if missing_count>0:\n",
    "            print(f\"{col} has {missing_count} missing values\")\n",
    "column_names = df.columns\n",
    "print(\"Train:\",display_missing(df,column_names))"
   ],
   "metadata": {
    "collapsed": false,
    "ExecuteTime": {
     "end_time": "2024-01-18T18:22:00.189848300Z",
     "start_time": "2024-01-18T18:21:59.804365900Z"
    }
   },
   "id": "ed87165a833d9419"
  },
  {
   "cell_type": "code",
   "execution_count": 4,
   "outputs": [],
   "source": [
    "df = df.dropna(subset=['Contents'])\n",
    "df= df.dropna(subset=['Summary'])\n",
    "df=df.dropna(subset=['Author(s)'])"
   ],
   "metadata": {
    "collapsed": false,
    "ExecuteTime": {
     "end_time": "2024-01-18T18:22:00.814282100Z",
     "start_time": "2024-01-18T18:22:00.197911100Z"
    }
   },
   "id": "e34acb5262896c05"
  },
  {
   "cell_type": "code",
   "execution_count": 5,
   "outputs": [
    {
     "data": {
      "text/plain": "                                               Title  \\\n0  Thông tin “Ngọc Trinh mua đất ở Bảo Lộc\" chỉ l...   \n1  Lỗ hổng trong việc thẩm tra năng lực tài chính...   \n2  Sớm hoàn thiện các dự án nhà ở xã hội để CNLĐ ...   \n3            Chi tiết hồ sơ hoàn công nhà ở năm 2022   \n4  Khởi tạo không gian sống đẳng cấp, đón sóng đầ...   \n5  Cận cảnh Khu đô thị Thanh Hà bất ngờ bị \"cò\" đ...   \n6  Tiếp tục cưỡng chế 15 biệt thự Ocean View Nha ...   \n7                  Nguyên tắc thiết kế nhà ở công vụ   \n8  Thanh Hoá: Dừng đột ngột phiên đấu giá dự án t...   \n9  Kinh nghiệm thuê villa, homestay chất lượng kh...   \n\n                                             Summary  \\\n0  Lâm Đồng - Lãnh đạo thành phố Bảo Lộc, Lâm Đồn...   \n1  TPHCM - Việc không thể cưỡng chế thuế của hai ...   \n2  Hiện trên địa bàn tỉnh Ninh Bình có 32 khu, cụ...   \n3  Hoàn công nhà ở với ý nghĩa là điều kiện để đư...   \n4  Có rất nhiều lý do khiến những dự án thấp nội ...   \n5  Khu đô thị Thanh Hà Cienco 5 (thuộc quận Hà Đô...   \n6  Khánh Hòa - Bên cạnh việc tổ chức cưỡng chế, c...   \n7  Dưới đây là nguyên tắc thiết kế nhà ở công vụ ...   \n8  Thanh Hoá - Dự án Trường tiểu học và THCS dân ...   \n9  Chuyến du lịch sắp tới, bạn đang phân vân giữa...   \n\n                                            Contents      Category  \n0  Những ngày vừa qua, trên trang Facebook chính ...  Bất động sản  \n1  Theo thông tin từ Cục Thuế TP.HCM, hiện cơ qua...  Bất động sản  \n2  CNLĐ mong muốn sớm được tiếp cận với nhà ở xã ...  Bất động sản  \n3  Hoàn công nhà ở là một thủ tục hành chính tron...  Bất động sản  \n4  Đi dọc đường Lê Văn Lương kéo dài xuống khu Dư...  Bất động sản  \n5  Những ngày qua, đất khu đô thị Thanh Hà Cienco...  Bất động sản  \n6  Ngày 19.5, UBND phường Vĩnh Trường cho biết, v...  Bất động sản  \n7  Nhà ở công vụ là loại hình nhà ở được xây dựng...  Bất động sản  \n8  Từ \"rút ống thở\" nửa chừng… Ngày 17.5.2004, UB...  Bất động sản  \n9  Villa là gì? Villa hay được gọi là biệt thự là...  Bất động sản  ",
      "text/html": "<div>\n<style scoped>\n    .dataframe tbody tr th:only-of-type {\n        vertical-align: middle;\n    }\n\n    .dataframe tbody tr th {\n        vertical-align: top;\n    }\n\n    .dataframe thead th {\n        text-align: right;\n    }\n</style>\n<table border=\"1\" class=\"dataframe\">\n  <thead>\n    <tr style=\"text-align: right;\">\n      <th></th>\n      <th>Title</th>\n      <th>Summary</th>\n      <th>Contents</th>\n      <th>Category</th>\n    </tr>\n  </thead>\n  <tbody>\n    <tr>\n      <th>0</th>\n      <td>Thông tin “Ngọc Trinh mua đất ở Bảo Lộc\" chỉ l...</td>\n      <td>Lâm Đồng - Lãnh đạo thành phố Bảo Lộc, Lâm Đồn...</td>\n      <td>Những ngày vừa qua, trên trang Facebook chính ...</td>\n      <td>Bất động sản</td>\n    </tr>\n    <tr>\n      <th>1</th>\n      <td>Lỗ hổng trong việc thẩm tra năng lực tài chính...</td>\n      <td>TPHCM - Việc không thể cưỡng chế thuế của hai ...</td>\n      <td>Theo thông tin từ Cục Thuế TP.HCM, hiện cơ qua...</td>\n      <td>Bất động sản</td>\n    </tr>\n    <tr>\n      <th>2</th>\n      <td>Sớm hoàn thiện các dự án nhà ở xã hội để CNLĐ ...</td>\n      <td>Hiện trên địa bàn tỉnh Ninh Bình có 32 khu, cụ...</td>\n      <td>CNLĐ mong muốn sớm được tiếp cận với nhà ở xã ...</td>\n      <td>Bất động sản</td>\n    </tr>\n    <tr>\n      <th>3</th>\n      <td>Chi tiết hồ sơ hoàn công nhà ở năm 2022</td>\n      <td>Hoàn công nhà ở với ý nghĩa là điều kiện để đư...</td>\n      <td>Hoàn công nhà ở là một thủ tục hành chính tron...</td>\n      <td>Bất động sản</td>\n    </tr>\n    <tr>\n      <th>4</th>\n      <td>Khởi tạo không gian sống đẳng cấp, đón sóng đầ...</td>\n      <td>Có rất nhiều lý do khiến những dự án thấp nội ...</td>\n      <td>Đi dọc đường Lê Văn Lương kéo dài xuống khu Dư...</td>\n      <td>Bất động sản</td>\n    </tr>\n    <tr>\n      <th>5</th>\n      <td>Cận cảnh Khu đô thị Thanh Hà bất ngờ bị \"cò\" đ...</td>\n      <td>Khu đô thị Thanh Hà Cienco 5 (thuộc quận Hà Đô...</td>\n      <td>Những ngày qua, đất khu đô thị Thanh Hà Cienco...</td>\n      <td>Bất động sản</td>\n    </tr>\n    <tr>\n      <th>6</th>\n      <td>Tiếp tục cưỡng chế 15 biệt thự Ocean View Nha ...</td>\n      <td>Khánh Hòa - Bên cạnh việc tổ chức cưỡng chế, c...</td>\n      <td>Ngày 19.5, UBND phường Vĩnh Trường cho biết, v...</td>\n      <td>Bất động sản</td>\n    </tr>\n    <tr>\n      <th>7</th>\n      <td>Nguyên tắc thiết kế nhà ở công vụ</td>\n      <td>Dưới đây là nguyên tắc thiết kế nhà ở công vụ ...</td>\n      <td>Nhà ở công vụ là loại hình nhà ở được xây dựng...</td>\n      <td>Bất động sản</td>\n    </tr>\n    <tr>\n      <th>8</th>\n      <td>Thanh Hoá: Dừng đột ngột phiên đấu giá dự án t...</td>\n      <td>Thanh Hoá - Dự án Trường tiểu học và THCS dân ...</td>\n      <td>Từ \"rút ống thở\" nửa chừng… Ngày 17.5.2004, UB...</td>\n      <td>Bất động sản</td>\n    </tr>\n    <tr>\n      <th>9</th>\n      <td>Kinh nghiệm thuê villa, homestay chất lượng kh...</td>\n      <td>Chuyến du lịch sắp tới, bạn đang phân vân giữa...</td>\n      <td>Villa là gì? Villa hay được gọi là biệt thự là...</td>\n      <td>Bất động sản</td>\n    </tr>\n  </tbody>\n</table>\n</div>"
     },
     "execution_count": 5,
     "metadata": {},
     "output_type": "execute_result"
    }
   ],
   "source": [
    "drop_columns=['Date','Author(s)','Tags','URL']\n",
    "train_data = df.drop(columns=drop_columns)\n",
    "train_data.head(10)"
   ],
   "metadata": {
    "collapsed": false,
    "ExecuteTime": {
     "end_time": "2024-01-18T18:22:00.911972200Z",
     "start_time": "2024-01-18T18:22:00.812282500Z"
    }
   },
   "id": "c80f9af16ce40cd6"
  },
  {
   "cell_type": "code",
   "execution_count": 6,
   "outputs": [],
   "source": [
    "df['Category'] = df['Category'].replace('Media', 'Công đoàn')"
   ],
   "metadata": {
    "collapsed": false,
    "ExecuteTime": {
     "end_time": "2024-01-18T18:22:01.067892600Z",
     "start_time": "2024-01-18T18:22:00.877301300Z"
    }
   },
   "id": "fd39e350cad04333"
  },
  {
   "cell_type": "code",
   "execution_count": 7,
   "outputs": [
    {
     "data": {
      "text/plain": "Xã hội                        57942\nThể thao                      31050\nCông đoàn                     30722\nThế giới                      28978\nPháp luật                     28703\nKinh doanh                    28416\nGiáo dục                      22731\nVăn hóa - Giải trí            19250\nThời sự                       17188\nSức khỏe                      12062\nBạn đọc                        8571\nBất động sản                   6722\nGia đình - Hôn nhân            4381\nXe +                           4108\nTấm Lòng Vàng                  1938\nCông nghệ                      1615\nLao Động cuối tuần              684\nLưu trữ                         430\nLao Động & Đời sống             375\nDiễn đàn                        325\nTin hoạt động                   226\nTin tức việc làm                211\nThông tin tiện ích               97\nSự kiện Bình luận                66\nPhóng sự                         51\nTin địa phương                   35\nQuỹ TLV                          28\nThông tin doanh nghiệp           18\nTin bài xem thêm                 13\nDu lịch                          11\nSổ tay kinh tế                    9\nNgười Việt tử tế                  3\nLao Động Xuân                     2\nTin bài liên quan                 2\nPhóng sự - Điều tra               2\nTin bài nổi bật                   1\nVideo                             1\nTản mạn - Chuyện dọc đường        1\nName: Category, dtype: int64"
     },
     "execution_count": 7,
     "metadata": {},
     "output_type": "execute_result"
    }
   ],
   "source": [
    "df['Category'].value_counts()"
   ],
   "metadata": {
    "collapsed": false,
    "ExecuteTime": {
     "end_time": "2024-01-18T18:22:01.069424200Z",
     "start_time": "2024-01-18T18:22:00.998539300Z"
    }
   },
   "id": "6ebd4a636e0f61eb"
  },
  {
   "cell_type": "code",
   "execution_count": 8,
   "outputs": [],
   "source": [
    "category_counts = df['Category'].value_counts()\n",
    "\n",
    "# Lấy danh sách các categories có số lượng mẫu ít hơn 50\n",
    "categories_to_drop = category_counts[category_counts < 50].index.tolist()\n",
    "\n",
    "# Loại bỏ các hàng chứa categories có số lượng mẫu ít hơn 50 từ dataframe\n",
    "filtered_df = df[~df['Category'].isin(categories_to_drop)]"
   ],
   "metadata": {
    "collapsed": false,
    "ExecuteTime": {
     "end_time": "2024-01-18T18:22:01.344423100Z",
     "start_time": "2024-01-18T18:22:01.045303700Z"
    }
   },
   "id": "b45859c461bd9852"
  },
  {
   "cell_type": "code",
   "execution_count": 9,
   "outputs": [],
   "source": [
    "df=filtered_df"
   ],
   "metadata": {
    "collapsed": false,
    "ExecuteTime": {
     "end_time": "2024-01-18T18:22:01.386710600Z",
     "start_time": "2024-01-18T18:22:01.339883200Z"
    }
   },
   "id": "d31f81e149e5141b"
  },
  {
   "cell_type": "code",
   "execution_count": 10,
   "outputs": [
    {
     "data": {
      "text/plain": "Index(['URL', 'Title', 'Summary', 'Contents', 'Date', 'Author(s)', 'Category',\n       'Tags'],\n      dtype='object')"
     },
     "execution_count": 10,
     "metadata": {},
     "output_type": "execute_result"
    }
   ],
   "source": [
    "df.columns"
   ],
   "metadata": {
    "collapsed": false,
    "ExecuteTime": {
     "end_time": "2024-01-18T18:22:01.425942100Z",
     "start_time": "2024-01-18T18:22:01.387703100Z"
    }
   },
   "id": "86d5c1656e145134"
  },
  {
   "cell_type": "code",
   "execution_count": 11,
   "outputs": [
    {
     "name": "stdout",
     "output_type": "stream",
     "text": [
      "Bất động sản           100\n",
      "Xã hội                 100\n",
      "Tin tức việc làm       100\n",
      "Gia đình - Hôn nhân    100\n",
      "Công nghệ              100\n",
      "Tấm Lòng Vàng          100\n",
      "Diễn đàn               100\n",
      "Thể thao               100\n",
      "Sức khỏe               100\n",
      "Giáo dục               100\n",
      "Lưu trữ                100\n",
      "Lao Động & Đời sống    100\n",
      "Văn hóa - Giải trí     100\n",
      "Thế giới               100\n",
      "Xe +                   100\n",
      "Pháp luật              100\n",
      "Bạn đọc                100\n",
      "Công đoàn              100\n",
      "Thời sự                100\n",
      "Kinh doanh             100\n",
      "Lao Động cuối tuần     100\n",
      "Tin hoạt động          100\n",
      "Thông tin tiện ích      97\n",
      "Sự kiện Bình luận       66\n",
      "Phóng sự                51\n",
      "Name: Category, dtype: int64\n"
     ]
    }
   ],
   "source": [
    "# Định nghĩa số lượng mẫu bạn muốn lấy từ mỗi category\n",
    "samples_per_category = 100\n",
    "\n",
    "# Tạo một dataframe mới để lưu trữ mẫu được lấy\n",
    "sampled_data = pd.DataFrame()\n",
    "\n",
    "# Lặp qua mỗi category và lấy mẫu\n",
    "for category in df['Category'].unique():\n",
    "    # Lấy số lượng mẫu thực tế trong category hiện tại\n",
    "    category_samples_count = df[df['Category'] == category].shape[0]\n",
    "\n",
    "    # Kiểm tra nếu số lượng mẫu thực tế ít hơn 5000, thì lấy tất cả mẫu có sẵn\n",
    "    if category_samples_count < samples_per_category:\n",
    "        category_samples = df[df['Category'] == category]\n",
    "    else:\n",
    "        # Lọc ra các hàng thuộc category hiện tại và lấy mẫu ngẫu nhiên\n",
    "        category_samples = df[df['Category'] == category].sample(samples_per_category)\n",
    "    \n",
    "    # Thêm mẫu lấy được vào dataframe lưu trữ\n",
    "    sampled_data = pd.concat([sampled_data, category_samples])\n",
    "\n",
    "# In thông tin về số lượng mẫu đã lấy được\n",
    "print(sampled_data['Category'].value_counts())"
   ],
   "metadata": {
    "collapsed": false,
    "ExecuteTime": {
     "end_time": "2024-01-18T18:22:02.928028500Z",
     "start_time": "2024-01-18T18:22:01.403302200Z"
    }
   },
   "id": "92ad0249c478f529"
  },
  {
   "cell_type": "code",
   "execution_count": 12,
   "outputs": [],
   "source": [
    "sampled_data.to_csv('data_final2.csv', index=False)\n"
   ],
   "metadata": {
    "collapsed": false,
    "ExecuteTime": {
     "end_time": "2024-01-18T18:22:03.294215400Z",
     "start_time": "2024-01-18T18:22:02.909411200Z"
    }
   },
   "id": "ade597e7c2b6f3aa"
  },
  {
   "cell_type": "code",
   "execution_count": 13,
   "outputs": [
    {
     "data": {
      "text/plain": "Index(['URL', 'Title', 'Summary', 'Contents', 'Date', 'Author(s)', 'Category',\n       'Tags'],\n      dtype='object')"
     },
     "execution_count": 13,
     "metadata": {},
     "output_type": "execute_result"
    }
   ],
   "source": [
    "sampled_data.columns"
   ],
   "metadata": {
    "collapsed": false,
    "ExecuteTime": {
     "end_time": "2024-01-18T18:22:03.302446800Z",
     "start_time": "2024-01-18T18:22:03.289208600Z"
    }
   },
   "id": "e0754eeb362fda7f"
  },
  {
   "cell_type": "code",
   "execution_count": 13,
   "outputs": [],
   "source": [],
   "metadata": {
    "collapsed": false,
    "ExecuteTime": {
     "end_time": "2024-01-18T18:22:03.337701200Z",
     "start_time": "2024-01-18T18:22:03.297693800Z"
    }
   },
   "id": "43bb99d2baad016c"
  }
 ],
 "metadata": {
  "kernelspec": {
   "display_name": "Python 3",
   "language": "python",
   "name": "python3"
  },
  "language_info": {
   "codemirror_mode": {
    "name": "ipython",
    "version": 2
   },
   "file_extension": ".py",
   "mimetype": "text/x-python",
   "name": "python",
   "nbconvert_exporter": "python",
   "pygments_lexer": "ipython2",
   "version": "2.7.6"
  }
 },
 "nbformat": 4,
 "nbformat_minor": 5
}
