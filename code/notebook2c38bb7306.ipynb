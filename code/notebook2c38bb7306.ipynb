{
 "cells": [
  {
   "cell_type": "markdown",
   "id": "dfae7174",
   "metadata": {
    "id": "VshARt06kwaM",
    "papermill": {
     "duration": 0.011681,
     "end_time": "2023-11-25T03:33:04.886450",
     "exception": false,
     "start_time": "2023-11-25T03:33:04.874769",
     "status": "completed"
    },
    "tags": []
   },
   "source": [
    "## Libraries"
   ]
  },
  {
   "cell_type": "code",
   "execution_count": 1,
   "id": "44e75d64",
   "metadata": {
    "execution": {
     "iopub.execute_input": "2023-11-25T03:33:04.909862Z",
     "iopub.status.busy": "2023-11-25T03:33:04.909493Z",
     "iopub.status.idle": "2023-11-25T03:33:17.980580Z",
     "shell.execute_reply": "2023-11-25T03:33:17.979372Z"
    },
    "papermill": {
     "duration": 13.085498,
     "end_time": "2023-11-25T03:33:17.982991",
     "exception": false,
     "start_time": "2023-11-25T03:33:04.897493",
     "status": "completed"
    },
    "tags": [],
    "ExecuteTime": {
     "end_time": "2023-11-25T10:20:22.846661400Z",
     "start_time": "2023-11-25T10:20:11.740881300Z"
    }
   },
   "outputs": [],
   "source": [
    "!pip install -q --upgrade wandb"
   ]
  },
  {
   "cell_type": "code",
   "execution_count": 2,
   "id": "e421ae56",
   "metadata": {
    "execution": {
     "iopub.execute_input": "2023-11-25T03:33:18.007201Z",
     "iopub.status.busy": "2023-11-25T03:33:18.006810Z",
     "iopub.status.idle": "2023-11-25T03:33:29.642054Z",
     "shell.execute_reply": "2023-11-25T03:33:29.641133Z"
    },
    "papermill": {
     "duration": 11.650147,
     "end_time": "2023-11-25T03:33:29.644477",
     "exception": false,
     "start_time": "2023-11-25T03:33:17.994330",
     "status": "completed"
    },
    "tags": []
   },
   "outputs": [
    {
     "name": "stdout",
     "output_type": "stream",
     "text": [
      "Collecting gdown\r\n",
      "  Downloading gdown-4.7.1-py3-none-any.whl (15 kB)\r\n",
      "Requirement already satisfied: filelock in /opt/conda/lib/python3.10/site-packages (from gdown) (3.12.2)\r\n",
      "Requirement already satisfied: requests[socks] in /opt/conda/lib/python3.10/site-packages (from gdown) (2.31.0)\r\n",
      "Requirement already satisfied: six in /opt/conda/lib/python3.10/site-packages (from gdown) (1.16.0)\r\n",
      "Requirement already satisfied: tqdm in /opt/conda/lib/python3.10/site-packages (from gdown) (4.66.1)\r\n",
      "Requirement already satisfied: beautifulsoup4 in /opt/conda/lib/python3.10/site-packages (from gdown) (4.12.2)\r\n",
      "Requirement already satisfied: soupsieve>1.2 in /opt/conda/lib/python3.10/site-packages (from beautifulsoup4->gdown) (2.3.2.post1)\r\n",
      "Requirement already satisfied: charset-normalizer<4,>=2 in /opt/conda/lib/python3.10/site-packages (from requests[socks]->gdown) (3.2.0)\r\n",
      "Requirement already satisfied: idna<4,>=2.5 in /opt/conda/lib/python3.10/site-packages (from requests[socks]->gdown) (3.4)\r\n",
      "Requirement already satisfied: urllib3<3,>=1.21.1 in /opt/conda/lib/python3.10/site-packages (from requests[socks]->gdown) (1.26.15)\r\n",
      "Requirement already satisfied: certifi>=2017.4.17 in /opt/conda/lib/python3.10/site-packages (from requests[socks]->gdown) (2023.7.22)\r\n",
      "Requirement already satisfied: PySocks!=1.5.7,>=1.5.6 in /opt/conda/lib/python3.10/site-packages (from requests[socks]->gdown) (1.7.1)\r\n",
      "Installing collected packages: gdown\r\n",
      "Successfully installed gdown-4.7.1\r\n"
     ]
    }
   ],
   "source": [
    "!pip install gdown"
   ]
  },
  {
   "cell_type": "code",
   "execution_count": 3,
   "id": "c96615ff",
   "metadata": {
    "execution": {
     "iopub.execute_input": "2023-11-25T03:33:29.669695Z",
     "iopub.status.busy": "2023-11-25T03:33:29.669349Z",
     "iopub.status.idle": "2023-11-25T03:33:38.476477Z",
     "shell.execute_reply": "2023-11-25T03:33:38.475254Z"
    },
    "papermill": {
     "duration": 8.822534,
     "end_time": "2023-11-25T03:33:38.478875",
     "exception": false,
     "start_time": "2023-11-25T03:33:29.656341",
     "status": "completed"
    },
    "tags": []
   },
   "outputs": [
    {
     "name": "stdout",
     "output_type": "stream",
     "text": [
      "Downloading...\r\n",
      "From: https://drive.google.com/uc?id=15pp6g1dVh7kNXa-eXSMi_-1DTbuB2kIF&confirm=t\r\n",
      "To: /kaggle/working/train_data.csv\r\n",
      "100%|█████████████████████████████████████████| 725M/725M [00:04<00:00, 161MB/s]\r\n",
      "Downloading...\r\n",
      "From: https://drive.google.com/uc?id=1BYoR55Z9SAKKs9IQplu7ybG3p_osRDAH&confirm=t\r\n",
      "To: /kaggle/working/test_data.csv\r\n",
      "100%|███████████████████████████████████████| 7.03M/7.03M [00:00<00:00, 117MB/s]\r\n"
     ]
    }
   ],
   "source": [
    "# !gdown https://drive.google.com/file/d/15pp6g1dVh7kNXa-eXSMi_-1DTbuB2kIF/view?usp=sharing\n",
    "# !gdown https://drive.google.com/file/d/1BYoR55Z9SAKKs9IQplu7ybG3p_osRDAH/view?usp=sharing\n",
    "!gdown \"https://drive.google.com/uc?id=15pp6g1dVh7kNXa-eXSMi_-1DTbuB2kIF&confirm=t\"\n",
    "!gdown \"https://drive.google.com/uc?id=1BYoR55Z9SAKKs9IQplu7ybG3p_osRDAH&confirm=t\""
   ]
  },
  {
   "cell_type": "code",
   "execution_count": 2,
   "outputs": [
    {
     "name": "stdout",
     "output_type": "stream",
     "text": [
      "Collecting mlxtend\n",
      "  Downloading mlxtend-0.23.0-py3-none-any.whl.metadata (7.3 kB)\n",
      "Requirement already satisfied: scipy>=1.2.1 in e:\\anaconda\\envs\\word_spelling_autocorrect\\lib\\site-packages (from mlxtend) (1.10.1)\n",
      "Requirement already satisfied: numpy>=1.16.2 in e:\\anaconda\\envs\\word_spelling_autocorrect\\lib\\site-packages (from mlxtend) (1.24.3)\n",
      "Requirement already satisfied: pandas>=0.24.2 in e:\\anaconda\\envs\\word_spelling_autocorrect\\lib\\site-packages (from mlxtend) (1.4.4)\n",
      "Collecting scikit-learn>=1.0.2 (from mlxtend)\n",
      "  Using cached scikit_learn-1.3.2-cp38-cp38-win_amd64.whl.metadata (11 kB)\n",
      "Requirement already satisfied: matplotlib>=3.0.0 in e:\\anaconda\\envs\\word_spelling_autocorrect\\lib\\site-packages (from mlxtend) (3.7.2)\n",
      "Requirement already satisfied: joblib>=0.13.2 in e:\\anaconda\\envs\\word_spelling_autocorrect\\lib\\site-packages (from mlxtend) (1.2.0)\n",
      "Requirement already satisfied: contourpy>=1.0.1 in e:\\anaconda\\envs\\word_spelling_autocorrect\\lib\\site-packages (from matplotlib>=3.0.0->mlxtend) (1.0.5)\n",
      "Requirement already satisfied: cycler>=0.10 in e:\\anaconda\\envs\\word_spelling_autocorrect\\lib\\site-packages (from matplotlib>=3.0.0->mlxtend) (0.11.0)\n",
      "Requirement already satisfied: fonttools>=4.22.0 in e:\\anaconda\\envs\\word_spelling_autocorrect\\lib\\site-packages (from matplotlib>=3.0.0->mlxtend) (4.25.0)\n",
      "Requirement already satisfied: kiwisolver>=1.0.1 in e:\\anaconda\\envs\\word_spelling_autocorrect\\lib\\site-packages (from matplotlib>=3.0.0->mlxtend) (1.4.4)\n",
      "Requirement already satisfied: packaging>=20.0 in e:\\anaconda\\envs\\word_spelling_autocorrect\\lib\\site-packages (from matplotlib>=3.0.0->mlxtend) (23.1)\n",
      "Requirement already satisfied: pillow>=6.2.0 in e:\\anaconda\\envs\\word_spelling_autocorrect\\lib\\site-packages (from matplotlib>=3.0.0->mlxtend) (10.0.1)\n",
      "Requirement already satisfied: pyparsing<3.1,>=2.3.1 in e:\\anaconda\\envs\\word_spelling_autocorrect\\lib\\site-packages (from matplotlib>=3.0.0->mlxtend) (3.0.9)\n",
      "Requirement already satisfied: python-dateutil>=2.7 in e:\\anaconda\\envs\\word_spelling_autocorrect\\lib\\site-packages (from matplotlib>=3.0.0->mlxtend) (2.8.2)\n",
      "Requirement already satisfied: importlib-resources>=3.2.0 in e:\\anaconda\\envs\\word_spelling_autocorrect\\lib\\site-packages (from matplotlib>=3.0.0->mlxtend) (6.1.0)\n",
      "Requirement already satisfied: pytz>=2020.1 in e:\\anaconda\\envs\\word_spelling_autocorrect\\lib\\site-packages (from pandas>=0.24.2->mlxtend) (2023.3.post1)\n",
      "Requirement already satisfied: threadpoolctl>=2.0.0 in e:\\anaconda\\envs\\word_spelling_autocorrect\\lib\\site-packages (from scikit-learn>=1.0.2->mlxtend) (2.2.0)\n",
      "Requirement already satisfied: zipp>=3.1.0 in e:\\anaconda\\envs\\word_spelling_autocorrect\\lib\\site-packages (from importlib-resources>=3.2.0->matplotlib>=3.0.0->mlxtend) (3.11.0)\n",
      "Requirement already satisfied: six>=1.5 in e:\\anaconda\\envs\\word_spelling_autocorrect\\lib\\site-packages (from python-dateutil>=2.7->matplotlib>=3.0.0->mlxtend) (1.16.0)\n",
      "Downloading mlxtend-0.23.0-py3-none-any.whl (1.4 MB)\n",
      "   ---------------------------------------- 0.0/1.4 MB ? eta -:--:--\n",
      "   ---------------------------------------- 0.0/1.4 MB ? eta -:--:--\n",
      "   - -------------------------------------- 0.1/1.4 MB 825.8 kB/s eta 0:00:02\n",
      "   --- ------------------------------------ 0.1/1.4 MB 1.2 MB/s eta 0:00:02\n",
      "   ------- -------------------------------- 0.3/1.4 MB 1.7 MB/s eta 0:00:01\n",
      "   --------- ------------------------------ 0.4/1.4 MB 1.6 MB/s eta 0:00:01\n",
      "   --------------- ------------------------ 0.6/1.4 MB 2.2 MB/s eta 0:00:01\n",
      "   -------------------- ------------------- 0.8/1.4 MB 2.5 MB/s eta 0:00:01\n",
      "   ----------------------------- ---------- 1.1/1.4 MB 3.0 MB/s eta 0:00:01\n",
      "   ------------------------------------- -- 1.4/1.4 MB 3.2 MB/s eta 0:00:01\n",
      "   ---------------------------------------- 1.4/1.4 MB 3.2 MB/s eta 0:00:00\n",
      "Using cached scikit_learn-1.3.2-cp38-cp38-win_amd64.whl (9.3 MB)\n",
      "Installing collected packages: scikit-learn, mlxtend\n",
      "  Attempting uninstall: scikit-learn\n",
      "    Found existing installation: scikit-learn 0.23.2\n",
      "    Uninstalling scikit-learn-0.23.2:\n",
      "      Successfully uninstalled scikit-learn-0.23.2\n",
      "Successfully installed mlxtend-0.23.0 scikit-learn-1.3.2\n"
     ]
    }
   ],
   "source": [
    "!pip install mlxtend"
   ],
   "metadata": {
    "collapsed": false,
    "ExecuteTime": {
     "end_time": "2023-11-25T10:21:07.552061600Z",
     "start_time": "2023-11-25T10:20:52.198467200Z"
    }
   },
   "id": "fe20deb9d9a17c93"
  },
  {
   "cell_type": "code",
   "execution_count": 3,
   "id": "8faf293b",
   "metadata": {
    "execution": {
     "iopub.execute_input": "2023-11-25T03:33:38.510154Z",
     "iopub.status.busy": "2023-11-25T03:33:38.509816Z",
     "iopub.status.idle": "2023-11-25T03:33:52.122134Z",
     "shell.execute_reply": "2023-11-25T03:33:52.121323Z"
    },
    "id": "QhTKStzQdKFo",
    "papermill": {
     "duration": 13.630883,
     "end_time": "2023-11-25T03:33:52.124688",
     "exception": false,
     "start_time": "2023-11-25T03:33:38.493805",
     "status": "completed"
    },
    "tags": [],
    "ExecuteTime": {
     "end_time": "2023-11-25T10:21:20.580622900Z",
     "start_time": "2023-11-25T10:21:12.036218300Z"
    }
   },
   "outputs": [],
   "source": [
    "import pandas as pd\n",
    "import numpy as np\n",
    "\n",
    "#Data Visualization\n",
    "import matplotlib.pyplot as plt\n",
    "\n",
    "#Text Color\n",
    "from termcolor import colored\n",
    "\n",
    "#Train Test Split\n",
    "from sklearn.model_selection import train_test_split\n",
    "\n",
    "#Model Evaluation\n",
    "from sklearn.metrics import confusion_matrix, precision_score, recall_score, accuracy_score\n",
    "from mlxtend.plotting import plot_confusion_matrix\n",
    "\n",
    "#Deep Learning\n",
    "import tensorflow as tf\n",
    "from tensorflow.keras.models import Model, Sequential\n",
    "from tensorflow.keras.layers import Embedding, LSTM, Dense, Dropout, GlobalMaxPooling1D, Bidirectional\n",
    "from tensorflow.keras.preprocessing.text import Tokenizer\n",
    "from tensorflow.keras.optimizers import Adam\n",
    "from tensorflow.keras.preprocessing.sequence import pad_sequences\n",
    "from tensorflow.keras.callbacks import ModelCheckpoint, EarlyStopping\n",
    "from tensorflow.keras.utils import plot_model"
   ]
  },
  {
   "cell_type": "code",
   "execution_count": null,
   "outputs": [],
   "source": [],
   "metadata": {
    "collapsed": false
   },
   "id": "309c30b6c0575324"
  },
  {
   "cell_type": "code",
   "execution_count": 4,
   "id": "6d641ab1",
   "metadata": {
    "execution": {
     "iopub.execute_input": "2023-11-25T03:33:52.157031Z",
     "iopub.status.busy": "2023-11-25T03:33:52.155928Z",
     "iopub.status.idle": "2023-11-25T03:33:54.323066Z",
     "shell.execute_reply": "2023-11-25T03:33:54.322159Z"
    },
    "papermill": {
     "duration": 2.184999,
     "end_time": "2023-11-25T03:33:54.325213",
     "exception": false,
     "start_time": "2023-11-25T03:33:52.140214",
     "status": "completed"
    },
    "tags": [],
    "ExecuteTime": {
     "end_time": "2023-11-25T10:21:46.563602200Z",
     "start_time": "2023-11-25T10:21:41.799834Z"
    }
   },
   "outputs": [
    {
     "name": "stderr",
     "output_type": "stream",
     "text": [
      "\u001B[34m\u001B[1mwandb\u001B[0m: Currently logged in as: \u001B[33mnguyendatdtqn\u001B[0m (\u001B[33mnguyen_dat2\u001B[0m). Use \u001B[1m`wandb login --relogin`\u001B[0m to force relogin\n",
      "\u001B[34m\u001B[1mwandb\u001B[0m: \u001B[33mWARNING\u001B[0m If you're specifying your api key in code, ensure this code is not shared publicly.\n",
      "\u001B[34m\u001B[1mwandb\u001B[0m: \u001B[33mWARNING\u001B[0m Consider setting the WANDB_API_KEY environment variable, or running `wandb login` from the command line.\n",
      "\u001B[34m\u001B[1mwandb\u001B[0m: Appending key for api.wandb.ai to your netrc file: C:\\Users\\nguye/.netrc\n"
     ]
    },
    {
     "data": {
      "text/plain": "True"
     },
     "execution_count": 4,
     "metadata": {},
     "output_type": "execute_result"
    }
   ],
   "source": [
    "import wandb\n",
    "from wandb.keras import WandbCallback\n",
    "\n",
    "# Login to wandb\n",
    "wandb.login (key=\"8247272aa95730700b26a36fe0fe272034c54c4e\")"
   ]
  },
  {
   "cell_type": "markdown",
   "id": "f28f1359",
   "metadata": {
    "id": "goVtDzzelMOO",
    "papermill": {
     "duration": 0.014944,
     "end_time": "2023-11-25T03:33:54.355686",
     "exception": false,
     "start_time": "2023-11-25T03:33:54.340742",
     "status": "completed"
    },
    "tags": []
   },
   "source": [
    "## Data Preprocessing"
   ]
  },
  {
   "cell_type": "code",
   "execution_count": 5,
   "id": "771ce588",
   "metadata": {
    "execution": {
     "iopub.execute_input": "2023-11-25T03:33:54.388155Z",
     "iopub.status.busy": "2023-11-25T03:33:54.387306Z",
     "iopub.status.idle": "2023-11-25T03:33:54.391761Z",
     "shell.execute_reply": "2023-11-25T03:33:54.390887Z"
    },
    "papermill": {
     "duration": 0.022685,
     "end_time": "2023-11-25T03:33:54.393585",
     "exception": false,
     "start_time": "2023-11-25T03:33:54.370900",
     "status": "completed"
    },
    "tags": [],
    "ExecuteTime": {
     "end_time": "2023-11-25T10:21:49.931553900Z",
     "start_time": "2023-11-25T10:21:49.905460Z"
    }
   },
   "outputs": [],
   "source": [
    "# wandb config\n",
    "WANDB_CONFIG = {\n",
    "     'competition': 'Vietnamese News Classification', \n",
    "              '_wandb_kernel': 'neuracort'\n",
    "    }"
   ]
  },
  {
   "cell_type": "code",
   "execution_count": 6,
   "id": "342cbfcc",
   "metadata": {
    "execution": {
     "iopub.execute_input": "2023-11-25T03:33:54.425732Z",
     "iopub.status.busy": "2023-11-25T03:33:54.425381Z",
     "iopub.status.idle": "2023-11-25T03:33:54.429529Z",
     "shell.execute_reply": "2023-11-25T03:33:54.428644Z"
    },
    "papermill": {
     "duration": 0.02249,
     "end_time": "2023-11-25T03:33:54.431443",
     "exception": false,
     "start_time": "2023-11-25T03:33:54.408953",
     "status": "completed"
    },
    "tags": [],
    "ExecuteTime": {
     "end_time": "2023-11-25T10:22:07.826203Z",
     "start_time": "2023-11-25T10:22:07.507910400Z"
    }
   },
   "outputs": [],
   "source": [
    "df_=pd.read_csv(r\"E:\\NLP\\Vietnamese-Text-Classification-master\\data\\test.csv\")"
   ]
  },
  {
   "cell_type": "code",
   "execution_count": 8,
   "id": "d8b4b339",
   "metadata": {
    "execution": {
     "iopub.execute_input": "2023-11-25T03:33:54.465515Z",
     "iopub.status.busy": "2023-11-25T03:33:54.465180Z",
     "iopub.status.idle": "2023-11-25T03:33:54.469233Z",
     "shell.execute_reply": "2023-11-25T03:33:54.468404Z"
    },
    "papermill": {
     "duration": 0.024521,
     "end_time": "2023-11-25T03:33:54.471075",
     "exception": false,
     "start_time": "2023-11-25T03:33:54.446554",
     "status": "completed"
    },
    "tags": [],
    "ExecuteTime": {
     "end_time": "2023-11-25T10:23:13.839941700Z",
     "start_time": "2023-11-25T10:22:22.090797700Z"
    }
   },
   "outputs": [
    {
     "name": "stdout",
     "output_type": "stream",
     "text": [
      "['a lô', 'a ha', 'ai', 'ai ai', 'ai nấy', 'ai đó', 'alô', 'amen', 'anh', 'anh ấy', 'ba', 'ba ba', 'ba bản', 'ba cùng', 'ba họ', 'ba ngày', 'ba ngôi', 'ba tăng', 'bao giờ', 'bao lâu', 'bao nhiêu', 'bao nả', 'bay biến', 'biết', 'biết bao', 'biết bao nhiêu', 'biết chắc', 'biết chừng nào', 'biết mình', 'biết mấy', 'biết thế', 'biết trước', 'biết việc', 'biết đâu', 'biết đâu chừng', 'biết đâu đấy', 'biết được', 'buổi', 'buổi làm', 'buổi mới', 'buổi ngày', 'buổi sớm', 'bà', 'bà ấy', 'bài', 'bài bác', 'bài bỏ', 'bài cái', 'bác', 'bán', 'bán cấp', 'bán dạ', 'bán thế', 'bây bẩy', 'bây chừ', 'bây giờ', 'bây nhiêu', 'bèn', 'béng', 'bên', 'bên bị', 'bên có', 'bên cạnh', 'bông', 'bước', 'bước khỏi', 'bước tới', 'bước đi', 'bạn', 'bản', 'bản bộ', 'bản riêng', 'bản thân', 'bản ý', 'bất chợt', 'bất cứ', 'bất giác', 'bất kì', 'bất kể', 'bất kỳ', 'bất luận', 'bất ngờ', 'bất nhược', 'bất quá', 'bất quá chỉ', 'bất thình lình', 'bất tử', 'bất đồ', 'bấy', 'bấy chầy', 'bấy chừ', 'bấy giờ', 'bấy lâu', 'bấy lâu nay', 'bấy nay', 'bấy nhiêu', 'bập bà bập bõm', 'bập bõm', 'bắt đầu', 'bắt đầu từ', 'bằng', 'bằng cứ', 'bằng không', 'bằng người', 'bằng nhau', 'bằng như', 'bằng nào', 'bằng nấy', 'bằng vào', 'bằng được', 'bằng ấy', 'bển', 'bệt', 'bị', 'bị chú', 'bị vì', 'bỏ', 'bỏ bà', 'bỏ cha', 'bỏ cuộc', 'bỏ không', 'bỏ lại', 'bỏ mình', 'bỏ mất', 'bỏ mẹ', 'bỏ nhỏ', 'bỏ quá', 'bỏ ra', 'bỏ riêng', 'bỏ việc', 'bỏ xa', 'bỗng', 'bỗng chốc', 'bỗng dưng', 'bỗng không', 'bỗng nhiên', 'bỗng nhưng', 'bỗng thấy', 'bỗng đâu', 'bộ', 'bộ thuộc', 'bộ điều', 'bội phần', 'bớ', 'bởi', 'bởi ai', 'bởi chưng', 'bởi nhưng', 'bởi sao', 'bởi thế', 'bởi thế cho nên', 'bởi tại', 'bởi vì', 'bởi vậy', 'bởi đâu', 'bức', 'cao', 'cao lâu', 'cao ráo', 'cao răng', 'cao sang', 'cao số', 'cao thấp', 'cao thế', 'cao xa', 'cha', 'cha chả', 'chao ôi', 'chia sẻ', 'chiếc', 'cho', 'cho biết', 'cho chắc', 'cho hay', 'cho nhau', 'cho nên', 'cho rằng', 'cho rồi', 'cho thấy', 'cho tin', 'cho tới', 'cho tới khi', 'cho về', 'cho ăn', 'cho đang', 'cho được', 'cho đến', 'cho đến khi', 'cho đến nỗi', 'choa', 'chu cha', 'chui cha', 'chung', 'chung cho', 'chung chung', 'chung cuộc', 'chung cục', 'chung nhau', 'chung qui', 'chung quy', 'chung quy lại', 'chung ái', 'chuyển', 'chuyển tự', 'chuyển đạt', 'chuyện', 'chuẩn bị', 'chành chạnh', 'chí chết', 'chính', 'chính bản', 'chính giữa', 'chính là', 'chính thị', 'chính điểm', 'chùn chùn', 'chùn chũn', 'chú', 'chú dẫn', 'chú khách', 'chú mày', 'chú mình', 'chúng', 'chúng mình', 'chúng ta', 'chúng tôi', 'chúng ông', 'chăn chắn', 'chăng', 'chăng chắc', 'chăng nữa', 'chơi', 'chơi họ', 'chưa', 'chưa bao giờ', 'chưa chắc', 'chưa có', 'chưa cần', 'chưa dùng', 'chưa dễ', 'chưa kể', 'chưa tính', 'chưa từng', 'chầm chập', 'chậc', 'chắc', 'chắc chắn', 'chắc dạ', 'chắc hẳn', 'chắc lòng', 'chắc người', 'chắc vào', 'chắc ăn', 'chẳng lẽ', 'chẳng những', 'chẳng nữa', 'chẳng phải', 'chết nỗi', 'chết thật', 'chết tiệt', 'chỉ', 'chỉ chính', 'chỉ có', 'chỉ là', 'chỉ tên', 'chỉn', 'chị', 'chị bộ', 'chị ấy', 'chịu', 'chịu chưa', 'chịu lời', 'chịu tốt', 'chịu ăn', 'chọn', 'chọn bên', 'chọn ra', 'chốc chốc', 'chớ', 'chớ chi', 'chớ gì', 'chớ không', 'chớ kể', 'chớ như', 'chợt', 'chợt nghe', 'chợt nhìn', 'chủn', 'chứ', 'chứ ai', 'chứ còn', 'chứ gì', 'chứ không', 'chứ không phải', 'chứ lại', 'chứ lị', 'chứ như', 'chứ sao', 'coi bộ', 'coi mòi', 'con', 'con con', 'con dạ', 'con nhà', 'con tính', 'cu cậu', 'cuối', 'cuối cùng', 'cuối điểm', 'cuốn', 'cuộc', 'càng', 'càng càng', 'càng hay', 'cá nhân', 'các', 'các cậu', 'cách', 'cách bức', 'cách không', 'cách nhau', 'cách đều', 'cái', 'cái gì', 'cái họ', 'cái đã', 'cái đó', 'cái ấy', 'câu hỏi', 'cây', 'cây nước', 'còn', 'còn như', 'còn nữa', 'còn thời gian', 'còn về', 'có', 'có ai', 'có chuyện', 'có chăng', 'có chăng là', 'có chứ', 'có cơ', 'có dễ', 'có họ', 'có khi', 'có ngày', 'có người', 'có nhiều', 'có nhà', 'có phải', 'có số', 'có tháng', 'có thế', 'có thể', 'có vẻ', 'có ý', 'có ăn', 'có điều', 'có điều kiện', 'có đáng', 'có đâu', 'có được', 'cóc khô', 'cô', 'cô mình', 'cô quả', 'cô tăng', 'cô ấy', 'công nhiên', 'cùng', 'cùng chung', 'cùng cực', 'cùng nhau', 'cùng tuổi', 'cùng tột', 'cùng với', 'cùng ăn', 'căn', 'căn cái', 'căn cắt', 'căn tính', 'cũng', 'cũng như', 'cũng nên', 'cũng thế', 'cũng vậy', 'cũng vậy thôi', 'cũng được', 'cơ', 'cơ chỉ', 'cơ chừng', 'cơ cùng', 'cơ dẫn', 'cơ hồ', 'cơ hội', 'cơ mà', 'cơn', 'cả', 'cả nghe', 'cả nghĩ', 'cả ngày', 'cả người', 'cả nhà', 'cả năm', 'cả thảy', 'cả thể', 'cả tin', 'cả ăn', 'cả đến', 'cảm thấy', 'cảm ơn', 'cấp', 'cấp số', 'cấp trực tiếp', 'cần', 'cần cấp', 'cần gì', 'cần số', 'cật lực', 'cật sức', 'cậu', 'cổ lai', 'cụ thể', 'cụ thể là', 'cụ thể như', 'của', 'của ngọt', 'của tin', 'cứ', 'cứ như', 'cứ việc', 'cứ điểm', 'cực lực', 'do', 'do vì', 'do vậy', 'do đó', 'duy', 'duy chỉ', 'duy có', 'dài', 'dài lời', 'dài ra', 'dành', 'dành dành', 'dào', 'dì', 'dù', 'dù cho', 'dù dì', 'dù gì', 'dù rằng', 'dù sao', 'dùng', 'dùng cho', 'dùng hết', 'dùng làm', 'dùng đến', 'dưới', 'dưới nước', 'dạ', 'dạ bán', 'dạ con', 'dạ dài', 'dạ dạ', 'dạ khách', 'dần dà', 'dần dần', 'dầu sao', 'dẫn', 'dẫu', 'dẫu mà', 'dẫu rằng', 'dẫu sao', 'dễ', 'dễ dùng', 'dễ gì', 'dễ khiến', 'dễ nghe', 'dễ ngươi', 'dễ như chơi', 'dễ sợ', 'dễ sử dụng', 'dễ thường', 'dễ thấy', 'dễ ăn', 'dễ đâu', 'dở chừng', 'dữ', 'dữ cách', 'em', 'em em', 'giá trị', 'giá trị thực tế', 'giảm', 'giảm chính', 'giảm thấp', 'giảm thế', 'giống', 'giống người', 'giống nhau', 'giống như', 'giờ', 'giờ lâu', 'giờ này', 'giờ đi', 'giờ đây', 'giờ đến', 'giữ', 'giữ lấy', 'giữ ý', 'giữa', 'giữa lúc', 'gây', 'gây cho', 'gây giống', 'gây ra', 'gây thêm', 'gì', 'gì gì', 'gì đó', 'gần', 'gần bên', 'gần hết', 'gần ngày', 'gần như', 'gần xa', 'gần đây', 'gần đến', 'gặp', 'gặp khó khăn', 'gặp phải', 'gồm', 'hay', 'hay biết', 'hay hay', 'hay không', 'hay là', 'hay làm', 'hay nhỉ', 'hay nói', 'hay sao', 'hay tin', 'hay đâu', 'hiểu', 'hiện nay', 'hiện tại', 'hoàn toàn', 'hoặc', 'hoặc là', 'hãy', 'hãy còn', 'hơn', 'hơn cả', 'hơn hết', 'hơn là', 'hơn nữa', 'hơn trước', 'hầu hết', 'hết', 'hết chuyện', 'hết cả', 'hết của', 'hết nói', 'hết ráo', 'hết rồi', 'hết ý', 'họ', 'họ gần', 'họ xa', 'hỏi', 'hỏi lại', 'hỏi xem', 'hỏi xin', 'hỗ trợ', 'khi', 'khi khác', 'khi không', 'khi nào', 'khi nên', 'khi trước', 'khiến', 'khoảng', 'khoảng cách', 'khoảng không', 'khá', 'khá tốt', 'khác', 'khác gì', 'khác khác', 'khác nhau', 'khác nào', 'khác thường', 'khác xa', 'khách', 'khó', 'khó biết', 'khó chơi', 'khó khăn', 'khó làm', 'khó mở', 'khó nghe', 'khó nghĩ', 'khó nói', 'khó thấy', 'khó tránh', 'không', 'không ai', 'không bao giờ', 'không bao lâu', 'không biết', 'không bán', 'không chỉ', 'không còn', 'không có', 'không có gì', 'không cùng', 'không cần', 'không cứ', 'không dùng', 'không gì', 'không hay', 'không khỏi', 'không kể', 'không ngoài', 'không nhận', 'không những', 'không phải', 'không phải không', 'không thể', 'không tính', 'không điều kiện', 'không được', 'không đầy', 'không để', 'khẳng định', 'khỏi', 'khỏi nói', 'kể', 'kể cả', 'kể như', 'kể tới', 'kể từ', 'liên quan', 'loại', 'loại từ', 'luôn', 'luôn cả', 'luôn luôn', 'luôn tay', 'là', 'là cùng', 'là là', 'là nhiều', 'là phải', 'là thế nào', 'là vì', 'là ít', 'làm', 'làm bằng', 'làm cho', 'làm dần dần', 'làm gì', 'làm lòng', 'làm lại', 'làm lấy', 'làm mất', 'làm ngay', 'làm như', 'làm nên', 'làm ra', 'làm riêng', 'làm sao', 'làm theo', 'làm thế nào', 'làm tin', 'làm tôi', 'làm tăng', 'làm tại', 'làm tắp lự', 'làm vì', 'làm đúng', 'làm được', 'lâu', 'lâu các', 'lâu lâu', 'lâu nay', 'lâu ngày', 'lên', 'lên cao', 'lên cơn', 'lên mạnh', 'lên ngôi', 'lên nước', 'lên số', 'lên xuống', 'lên đến', 'lòng', 'lòng không', 'lúc', 'lúc khác', 'lúc lâu', 'lúc nào', 'lúc này', 'lúc sáng', 'lúc trước', 'lúc đi', 'lúc đó', 'lúc đến', 'lúc ấy', 'lý do', 'lượng', 'lượng cả', 'lượng số', 'lượng từ', 'lại', 'lại bộ', 'lại cái', 'lại còn', 'lại giống', 'lại làm', 'lại người', 'lại nói', 'lại nữa', 'lại quả', 'lại thôi', 'lại ăn', 'lại đây', 'lấy', 'lấy có', 'lấy cả', 'lấy giống', 'lấy làm', 'lấy lý do', 'lấy lại', 'lấy ra', 'lấy ráo', 'lấy sau', 'lấy số', 'lấy thêm', 'lấy thế', 'lấy vào', 'lấy xuống', 'lấy được', 'lấy để', 'lần', 'lần khác', 'lần lần', 'lần nào', 'lần này', 'lần sang', 'lần sau', 'lần theo', 'lần trước', 'lần tìm', 'lớn', 'lớn lên', 'lớn nhỏ', 'lời', 'lời chú', 'lời nói', 'mang', 'mang lại', 'mang mang', 'mang nặng', 'mang về', 'muốn', 'mà', 'mà cả', 'mà không', 'mà lại', 'mà thôi', 'mà vẫn', 'mình', 'mạnh', 'mất', 'mất còn', 'mọi', 'mọi giờ', 'mọi khi', 'mọi lúc', 'mọi người', 'mọi nơi', 'mọi sự', 'mọi thứ', 'mọi việc', 'mối', 'mỗi', 'mỗi lúc', 'mỗi lần', 'mỗi một', 'mỗi ngày', 'mỗi người', 'một', 'một cách', 'một cơn', 'một khi', 'một lúc', 'một số', 'một vài', 'một ít', 'mới', 'mới hay', 'mới rồi', 'mới đây', 'mở', 'mở mang', 'mở nước', 'mở ra', 'mợ', 'mức', 'nay', 'ngay', 'ngay bây giờ', 'ngay cả', 'ngay khi', 'ngay khi đến', 'ngay lúc', 'ngay lúc này', 'ngay lập tức', 'ngay thật', 'ngay tức khắc', 'ngay tức thì', 'ngay từ', 'nghe', 'nghe chừng', 'nghe hiểu', 'nghe không', 'nghe lại', 'nghe nhìn', 'nghe như', 'nghe nói', 'nghe ra', 'nghe rõ', 'nghe thấy', 'nghe tin', 'nghe trực tiếp', 'nghe đâu', 'nghe đâu như', 'nghe được', 'nghen', 'nghiễm nhiên', 'nghĩ', 'nghĩ lại', 'nghĩ ra', 'nghĩ tới', 'nghĩ xa', 'nghĩ đến', 'nghỉm', 'ngoài', 'ngoài này', 'ngoài ra', 'ngoài xa', 'ngoải', 'nguồn', 'ngày', 'ngày càng', 'ngày cấp', 'ngày giờ', 'ngày ngày', 'ngày nào', 'ngày này', 'ngày nọ', 'ngày qua', 'ngày rày', 'ngày tháng', 'ngày xưa', 'ngày xửa', 'ngày đến', 'ngày ấy', 'ngôi', 'ngôi nhà', 'ngôi thứ', 'ngõ hầu', 'ngăn ngắt', 'ngươi', 'người', 'người hỏi', 'người khác', 'người khách', 'người mình', 'người nghe', 'người người', 'người nhận', 'ngọn', 'ngọn nguồn', 'ngọt', 'ngồi', 'ngồi bệt', 'ngồi không', 'ngồi sau', 'ngồi trệt', 'ngộ nhỡ', 'nhanh', 'nhanh lên', 'nhanh tay', 'nhau', 'nhiên hậu', 'nhiều', 'nhiều ít', 'nhiệt liệt', 'nhung nhăng', 'nhà', 'nhà chung', 'nhà khó', 'nhà làm', 'nhà ngoài', 'nhà ngươi', 'nhà tôi', 'nhà việc', 'nhân dịp', 'nhân tiện', 'nhé', 'nhìn', 'nhìn chung', 'nhìn lại', 'nhìn nhận', 'nhìn theo', 'nhìn thấy', 'nhìn xuống', 'nhóm', 'nhón nhén', 'như', 'như ai', 'như chơi', 'như không', 'như là', 'như nhau', 'như quả', 'như sau', 'như thường', 'như thế', 'như thế nào', 'như thể', 'như trên', 'như trước', 'như tuồng', 'như vậy', 'như ý', 'nhưng', 'nhưng mà', 'nhược bằng', 'nhất', 'nhất loạt', 'nhất luật', 'nhất là', 'nhất mực', 'nhất nhất', 'nhất quyết', 'nhất sinh', 'nhất thiết', 'nhất thì', 'nhất tâm', 'nhất tề', 'nhất đán', 'nhất định', 'nhận', 'nhận biết', 'nhận họ', 'nhận làm', 'nhận nhau', 'nhận ra', 'nhận thấy', 'nhận việc', 'nhận được', 'nhằm', 'nhằm khi', 'nhằm lúc', 'nhằm vào', 'nhằm để', 'nhỉ', 'nhỏ', 'nhỏ người', 'nhớ', 'nhớ bập bõm', 'nhớ lại', 'nhớ lấy', 'nhớ ra', 'nhờ', 'nhờ chuyển', 'nhờ có', 'nhờ nhờ', 'nhờ đó', 'nhỡ ra', 'những', 'những ai', 'những khi', 'những là', 'những lúc', 'những muốn', 'những như', 'nào', 'nào cũng', 'nào hay', 'nào là', 'nào phải', 'nào đâu', 'nào đó', 'này', 'này nọ', 'nên', 'nên chi', 'nên chăng', 'nên làm', 'nên người', 'nên tránh', 'nó', 'nóc', 'nói', 'nói bông', 'nói chung', 'nói khó', 'nói là', 'nói lên', 'nói lại', 'nói nhỏ', 'nói phải', 'nói qua', 'nói ra', 'nói riêng', 'nói rõ', 'nói thêm', 'nói thật', 'nói toẹt', 'nói trước', 'nói tốt', 'nói với', 'nói xa', 'nói ý', 'nói đến', 'nói đủ', 'năm', 'năm tháng', 'nơi', 'nơi nơi', 'nước', 'nước bài', 'nước cùng', 'nước lên', 'nước nặng', 'nước quả', 'nước xuống', 'nước ăn', 'nước đến', 'nấy', 'nặng', 'nặng căn', 'nặng mình', 'nặng về', 'nếu', 'nếu có', 'nếu cần', 'nếu không', 'nếu mà', 'nếu như', 'nếu thế', 'nếu vậy', 'nếu được', 'nền', 'nọ', 'nớ', 'nức nở', 'nữa', 'nữa khi', 'nữa là', 'nữa rồi', 'oai oái', 'oái', 'pho', 'phè', 'phè phè', 'phía', 'phía bên', 'phía bạn', 'phía dưới', 'phía sau', 'phía trong', 'phía trên', 'phía trước', 'phóc', 'phót', 'phù hợp', 'phăn phắt', 'phương chi', 'phải', 'phải biết', 'phải chi', 'phải chăng', 'phải cách', 'phải cái', 'phải giờ', 'phải khi', 'phải không', 'phải lại', 'phải lời', 'phải người', 'phải như', 'phải rồi', 'phải tay', 'phần', 'phần lớn', 'phần nhiều', 'phần nào', 'phần sau', 'phần việc', 'phắt', 'phỉ phui', 'phỏng', 'phỏng như', 'phỏng nước', 'phỏng theo', 'phỏng tính', 'phốc', 'phụt', 'phứt', 'qua', 'qua chuyện', 'qua khỏi', 'qua lại', 'qua lần', 'qua ngày', 'qua tay', 'qua thì', 'qua đi', 'quan trọng', 'quan trọng vấn đề', 'quan tâm', 'quay', 'quay bước', 'quay lại', 'quay số', 'quay đi', 'quá', 'quá bán', 'quá bộ', 'quá giờ', 'quá lời', 'quá mức', 'quá nhiều', 'quá tay', 'quá thì', 'quá tin', 'quá trình', 'quá tuổi', 'quá đáng', 'quá ư', 'quả', 'quả là', 'quả thật', 'quả thế', 'quả vậy', 'quận', 'ra', 'ra bài', 'ra bộ', 'ra chơi', 'ra gì', 'ra lại', 'ra lời', 'ra ngôi', 'ra người', 'ra sao', 'ra tay', 'ra vào', 'ra ý', 'ra điều', 'ra đây', 'ren rén', 'riu ríu', 'riêng', 'riêng từng', 'riệt', 'rày', 'ráo', 'ráo cả', 'ráo nước', 'ráo trọi', 'rén', 'rén bước', 'rích', 'rón rén', 'rõ', 'rõ là', 'rõ thật', 'rút cục', 'răng', 'răng răng', 'rất', 'rất lâu', 'rằng', 'rằng là', 'rốt cuộc', 'rốt cục', 'rồi', 'rồi nữa', 'rồi ra', 'rồi sao', 'rồi sau', 'rồi tay', 'rồi thì', 'rồi xem', 'rồi đây', 'rứa', 'sa sả', 'sang', 'sang năm', 'sang sáng', 'sang tay', 'sao', 'sao bản', 'sao bằng', 'sao cho', 'sao vậy', 'sao đang', 'sau', 'sau chót', 'sau cuối', 'sau cùng', 'sau hết', 'sau này', 'sau nữa', 'sau sau', 'sau đây', 'sau đó', 'so', 'so với', 'song le', 'suýt', 'suýt nữa', 'sáng', 'sáng ngày', 'sáng rõ', 'sáng thế', 'sáng ý', 'sì', 'sì sì', 'sất', 'sắp', 'sắp đặt', 'sẽ', 'sẽ biết', 'sẽ hay', 'số', 'số cho biết', 'số cụ thể', 'số loại', 'số là', 'số người', 'số phần', 'số thiếu', 'sốt sột', 'sớm', 'sớm ngày', 'sở dĩ', 'sử dụng', 'sự', 'sự thế', 'sự việc', 'tanh', 'tanh tanh', 'tay', 'tay quay', 'tha hồ', 'tha hồ chơi', 'tha hồ ăn', 'than ôi', 'thanh', 'thanh ba', 'thanh chuyển', 'thanh không', 'thanh thanh', 'thanh tính', 'thanh điều kiện', 'thanh điểm', 'thay đổi', 'thay đổi tình trạng', 'theo', 'theo bước', 'theo như', 'theo tin', 'thi thoảng', 'thiếu', 'thiếu gì', 'thiếu điểm', 'thoạt', 'thoạt nghe', 'thoạt nhiên', 'thoắt', 'thuần', 'thuần ái', 'thuộc', 'thuộc bài', 'thuộc cách', 'thuộc lại', 'thuộc từ', 'thà', 'thà là', 'thà rằng', 'thành ra', 'thành thử', 'thái quá', 'tháng', 'tháng ngày', 'tháng năm', 'tháng tháng', 'thêm', 'thêm chuyện', 'thêm giờ', 'thêm vào', 'thì', 'thì giờ', 'thì là', 'thì phải', 'thì ra', 'thì thôi', 'thình lình', 'thích', 'thích cứ', 'thích thuộc', 'thích tự', 'thích ý', 'thím', 'thôi', 'thôi việc', 'thúng thắng', 'thương ôi', 'thường', 'thường bị', 'thường hay', 'thường khi', 'thường số', 'thường sự', 'thường thôi', 'thường thường', 'thường tính', 'thường tại', 'thường xuất hiện', 'thường đến', 'thảo hèn', 'thảo nào', 'thấp', 'thấp cơ', 'thấp thỏm', 'thấp xuống', 'thấy', 'thấy tháng', 'thẩy', 'thậm', 'thậm chí', 'thậm cấp', 'thậm từ', 'thật', 'thật chắc', 'thật là', 'thật lực', 'thật quả', 'thật ra', 'thật sự', 'thật thà', 'thật tốt', 'thật vậy', 'thế', 'thế chuẩn bị', 'thế là', 'thế lại', 'thế mà', 'thế nào', 'thế nên', 'thế ra', 'thế sự', 'thế thì', 'thế thôi', 'thế thường', 'thế thế', 'thế à', 'thế đó', 'thếch', 'thỉnh thoảng', 'thỏm', 'thốc', 'thốc tháo', 'thốt', 'thốt nhiên', 'thốt nói', 'thốt thôi', 'thộc', 'thời gian', 'thời gian sử dụng', 'thời gian tính', 'thời điểm', 'thục mạng', 'thứ', 'thứ bản', 'thứ đến', 'thửa', 'thực hiện', 'thực hiện đúng', 'thực ra', 'thực sự', 'thực tế', 'thực vậy', 'tin', 'tin thêm', 'tin vào', 'tiếp theo', 'tiếp tục', 'tiếp đó', 'tiện thể', 'toà', 'toé khói', 'toẹt', 'trong', 'trong khi', 'trong lúc', 'trong mình', 'trong ngoài', 'trong này', 'trong số', 'trong vùng', 'trong đó', 'trong ấy', 'tránh', 'tránh khỏi', 'tránh ra', 'tránh tình trạng', 'tránh xa', 'trên', 'trên bộ', 'trên dưới', 'trước', 'trước hết', 'trước khi', 'trước kia', 'trước nay', 'trước ngày', 'trước nhất', 'trước sau', 'trước tiên', 'trước tuổi', 'trước đây', 'trước đó', 'trả', 'trả của', 'trả lại', 'trả ngay', 'trả trước', 'trếu tráo', 'trển', 'trệt', 'trệu trạo', 'trỏng', 'trời đất ơi', 'trở thành', 'trừ phi', 'trực tiếp', 'trực tiếp làm', 'tuy', 'tuy có', 'tuy là', 'tuy nhiên', 'tuy rằng', 'tuy thế', 'tuy vậy', 'tuy đã', 'tuyệt nhiên', 'tuần tự', 'tuốt luốt', 'tuốt tuồn tuột', 'tuốt tuột', 'tuổi', 'tuổi cả', 'tuổi tôi', 'tà tà', 'tên', 'tên chính', 'tên cái', 'tên họ', 'tên tự', 'tênh', 'tênh tênh', 'tìm', 'tìm bạn', 'tìm cách', 'tìm hiểu', 'tìm ra', 'tìm việc', 'tình trạng', 'tính', 'tính cách', 'tính căn', 'tính người', 'tính phỏng', 'tính từ', 'tít mù', 'tò te', 'tôi', 'tôi con', 'tông tốc', 'tù tì', 'tăm tắp', 'tăng', 'tăng chúng', 'tăng cấp', 'tăng giảm', 'tăng thêm', 'tăng thế', 'tại', 'tại lòng', 'tại nơi', 'tại sao', 'tại tôi', 'tại vì', 'tại đâu', 'tại đây', 'tại đó', 'tạo', 'tạo cơ hội', 'tạo nên', 'tạo ra', 'tạo ý', 'tạo điều kiện', 'tấm', 'tấm bản', 'tấm các', 'tấn', 'tấn tới', 'tất cả', 'tất cả bao nhiêu', 'tất thảy', 'tất tần tật', 'tất tật', 'tập trung', 'tắp', 'tắp lự', 'tắp tắp', 'tọt', 'tỏ ra', 'tỏ vẻ', 'tốc tả', 'tối ư', 'tốt', 'tốt bạn', 'tốt bộ', 'tốt hơn', 'tốt mối', 'tốt ngày', 'tột', 'tột cùng', 'tớ', 'tới', 'tới gần', 'tới mức', 'tới nơi', 'tới thì', 'tức thì', 'tức tốc', 'từ', 'từ căn', 'từ giờ', 'từ khi', 'từ loại', 'từ nay', 'từ thế', 'từ tính', 'từ tại', 'từ từ', 'từ ái', 'từ điều', 'từ đó', 'từ ấy', 'từng', 'từng cái', 'từng giờ', 'từng nhà', 'từng phần', 'từng thời gian', 'từng đơn vị', 'từng ấy', 'tự', 'tự cao', 'tự khi', 'tự lượng', 'tự tính', 'tự tạo', 'tự vì', 'tự ý', 'tự ăn', 'tựu trung', 'veo', 'veo veo', 'việc', 'việc gì', 'vung thiên địa', 'vung tàn tán', 'vung tán tàn', 'và', 'vài', 'vài ba', 'vài người', 'vài nhà', 'vài nơi', 'vài tên', 'vài điều', 'vào', 'vào gặp', 'vào khoảng', 'vào lúc', 'vào vùng', 'vào đến', 'vâng', 'vâng chịu', 'vâng dạ', 'vâng vâng', 'vâng ý', 'vèo', 'vèo vèo', 'vì', 'vì chưng', 'vì rằng', 'vì sao', 'vì thế', 'vì vậy', 'ví bằng', 'ví dù', 'ví phỏng', 'ví thử', 'vô hình trung', 'vô kể', 'vô luận', 'vô vàn', 'vùng', 'vùng lên', 'vùng nước', 'văng tê', 'vượt', 'vượt khỏi', 'vượt quá', 'vạn nhất', 'vả chăng', 'vả lại', 'vấn đề', 'vấn đề quan trọng', 'vẫn', 'vẫn thế', 'vậy', 'vậy là', 'vậy mà', 'vậy nên', 'vậy ra', 'vậy thì', 'vậy ư', 'về', 'về không', 'về nước', 'về phần', 'về sau', 'về tay', 'vị trí', 'vị tất', 'vốn dĩ', 'với', 'với lại', 'với nhau', 'vở', 'vụt', 'vừa', 'vừa khi', 'vừa lúc', 'vừa mới', 'vừa qua', 'vừa rồi', 'vừa vừa', 'xa', 'xa cách', 'xa gần', 'xa nhà', 'xa tanh', 'xa tắp', 'xa xa', 'xa xả', 'xem', 'xem lại', 'xem ra', 'xem số', 'xin', 'xin gặp', 'xin vâng', 'xiết bao', 'xon xón', 'xoành xoạch', 'xoét', 'xoẳn', 'xoẹt', 'xuất hiện', 'xuất kì bất ý', 'xuất kỳ bất ý', 'xuể', 'xuống', 'xăm xúi', 'xăm xăm', 'xăm xắm', 'xảy ra', 'xềnh xệch', 'xệp', 'xử lý', 'yêu cầu', 'à', 'à này', 'à ơi', 'ào', 'ào vào', 'ào ào', 'á', 'á à', 'ái', 'ái chà', 'ái dà', 'áng', 'áng như', 'âu là', 'ít', 'ít biết', 'ít có', 'ít hơn', 'ít khi', 'ít lâu', 'ít nhiều', 'ít nhất', 'ít nữa', 'ít quá', 'ít ra', 'ít thôi', 'ít thấy', 'ô hay', 'ô hô', 'ô kê', 'ô kìa', 'ôi chao', 'ôi thôi', 'ông', 'ông nhỏ', 'ông tạo', 'ông từ', 'ông ấy', 'ông ổng', 'úi', 'úi chà', 'úi dào', 'ý', 'ý chừng', 'ý da', 'ý hoặc', 'ăn', 'ăn chung', 'ăn chắc', 'ăn chịu', 'ăn cuộc', 'ăn hết', 'ăn hỏi', 'ăn làm', 'ăn người', 'ăn ngồi', 'ăn quá', 'ăn riêng', 'ăn sáng', 'ăn tay', 'ăn trên', 'ăn về', 'đang', 'đang tay', 'đang thì', 'điều', 'điều gì', 'điều kiện', 'điểm', 'điểm chính', 'điểm gặp', 'điểm đầu tiên', 'đành đạch', 'đáng', 'đáng kể', 'đáng lí', 'đáng lý', 'đáng lẽ', 'đáng số', 'đánh giá', 'đánh đùng', 'đáo để', 'đâu', 'đâu có', 'đâu cũng', 'đâu như', 'đâu nào', 'đâu phải', 'đâu đâu', 'đâu đây', 'đâu đó', 'đây', 'đây này', 'đây rồi', 'đây đó', 'đã', 'đã hay', 'đã không', 'đã là', 'đã lâu', 'đã thế', 'đã vậy', 'đã đủ', 'đó', 'đó đây', 'đúng', 'đúng ngày', 'đúng ra', 'đúng tuổi', 'đúng với', 'đơn vị', 'đưa', 'đưa cho', 'đưa chuyện', 'đưa em', 'đưa ra', 'đưa tay', 'đưa tin', 'đưa tới', 'đưa vào', 'đưa về', 'đưa xuống', 'đưa đến', 'được', 'được cái', 'được lời', 'được nước', 'được tin', 'đại loại', 'đại nhân', 'đại phàm', 'đại để', 'đạt', 'đảm bảo', 'đầu tiên', 'đầy', 'đầy năm', 'đầy phè', 'đầy tuổi', 'đặc biệt', 'đặt', 'đặt làm', 'đặt mình', 'đặt mức', 'đặt ra', 'đặt trước', 'đặt để', 'đến', 'đến bao giờ', 'đến cùng', 'đến cùng cực', 'đến cả', 'đến giờ', 'đến gần', 'đến hay', 'đến khi', 'đến lúc', 'đến lời', 'đến nay', 'đến ngày', 'đến nơi', 'đến nỗi', 'đến thì', 'đến thế', 'đến tuổi', 'đến xem', 'đến điều', 'đến đâu', 'đều', 'đều bước', 'đều nhau', 'đều đều', 'để', 'để cho', 'để giống', 'để không', 'để lòng', 'để lại', 'để mà', 'để phần', 'để được', 'để đến nỗi', 'đối với', 'đồng thời', 'đủ', 'đủ dùng', 'đủ nơi', 'đủ số', 'đủ điều', 'đủ điểm', 'ơ', 'ơ hay', 'ơ kìa', 'ơi', 'ơi là', 'ư', 'ạ', 'ạ ơi', 'ấy', 'ấy là', 'ầu ơ', 'ắt', 'ắt hẳn', 'ắt là', 'ắt phải', 'ắt thật', 'ối dào', 'ối giời', 'ối giời ơi', 'ồ', 'ồ ồ', 'ổng', 'ớ', 'ớ này', 'ờ', 'ờ ờ', 'ở', 'ở lại', 'ở như', 'ở nhờ', 'ở năm', 'ở trên', 'ở vào', 'ở đây', 'ở đó', 'ở được', 'ủa', 'ứ hự', 'ứ ừ', 'ừ', 'ừ nhé', 'ừ thì', 'ừ ào', 'ừ ừ', 'ử']\n"
     ]
    }
   ],
   "source": [
    "with open(r'E:\\NLP\\Vietnamese-Text-Classification-master\\data\\vietnamese-stopwords.txt', 'r', encoding='utf-8') as file:\n",
    "    stop_words = file.read().splitlines()\n",
    "print(stop_words)\n",
    "df_['Contents'] = df_['Contents'].apply(lambda x: '' if isinstance(x, float) else x)\n",
    "df_['Contents'] = df_['Contents'].apply(lambda x: ' '.join([word for word in x.split() if word.lower() not in stop_words]))"
   ]
  },
  {
   "cell_type": "code",
   "execution_count": 9,
   "id": "a5aacd68",
   "metadata": {
    "execution": {
     "iopub.execute_input": "2023-11-25T03:33:54.509008Z",
     "iopub.status.busy": "2023-11-25T03:33:54.508649Z",
     "iopub.status.idle": "2023-11-25T03:33:54.512845Z",
     "shell.execute_reply": "2023-11-25T03:33:54.511889Z"
    },
    "papermill": {
     "duration": 0.028884,
     "end_time": "2023-11-25T03:33:54.515051",
     "exception": false,
     "start_time": "2023-11-25T03:33:54.486167",
     "status": "completed"
    },
    "tags": [],
    "ExecuteTime": {
     "end_time": "2023-11-25T10:23:13.907058Z",
     "start_time": "2023-11-25T10:23:13.842433100Z"
    }
   },
   "outputs": [
    {
     "data": {
      "text/plain": "                                               Title  \\\n0  Hà Nội hỗ trợ hơn 4,5 tỉ đồng cho các tỉnh phí...   \n1  Kiên Giang: Xúc tiến thương mại qua đường hàng...   \n2  Xem trực tiếp TP.HCM vs Sài Gòn vòng 4 V.Leagu...   \n3   Những lời chúc ngày Thầy thuốc Việt Nam hay nhất   \n4  TPHCM: Đề nghị xử lý nghiêm vụ trật tự đô thị ...   \n5  Chiến sĩ PCCC nói dối để cứu người, nữ thực tậ...   \n6  Những chiêu trò lừa đảo, chiếm đoạt tiền phổ b...   \n7  Tottenham vs Dortmund: Chờ đợi màn đôi công má...   \n8  Lãnh đạo lâm trường bị đối tượng vi phạm dùng ...   \n9  Google và Amazon giải quyết mâu thuẫn, đưa You...   \n\n                                             Summary  \\\n0  Trước tình hình mưa lớn gây lũ lụt, lũ ống, lũ...   \n1  Kiên Giang - Chiều ngày 14.1, UBND tỉnh tổ chứ...   \n2  Báo Lao Động xin gửi tới quý độc giả link xem ...   \n3  Những lời chúc ngày 27.2 hay và ý nghĩa để dàn...   \n4  UBND quận Bình Tân (TPHCM) đã ra văn bản đề ng...   \n5  Chiến sĩ PCCC đã phải nói dối để trấn an người...   \n6  Lợi dụng thời điểm cận Tết người dân có nhiều ...   \n7  Vào lúc 3h rạng sáng 14.2, Tottenham sẽ tiếp đ...   \n8  Ngày 17.10, Lâm trường Đồng Hới (Quảng Bình) c...   \n9  Amazon (NASDAQ: AMZN) và Google (NASDAQ: GOOGL...   \n\n                                            Contents    Category  \n0  đó, ảnh hưởng tỉnh Sơn La, Yên Bái, tỉnh Lai C...     Thời sự  \n1  Thông hội nghị biết, 2019, tổng lượt du lịch K...  Kinh doanh  \n2  lượt trận vòng 4, bảng xếp hạng V.League 2020 ...    Thể thao  \n3  27.2.1955, Chủ tịch Hồ Chí Minh đích thân viết...    Sức khỏe  \n4  Chiều 11.5, trao đổi PV Lao Động, Nguyễn Gia T...   Pháp luật  \n5  đó, thực tập sinh Phan Thị Hiên (21 tuổi, sinh...    Diễn đàn  \n6  Thủ đoạn cắp thông ngân hàng Lê Hoàng Minh – T...      Xã hội  \n7  Tottenham phong độ đây, 3 trận Premier League ...    Thể thao  \n8  đó, 9h30 16.10, thực hiện nhiệm vụ tuần tra bả...   Pháp luật  \n9  Google YouTube trở thiết Fire TV Amazon 2019. ...  Kinh doanh  ",
      "text/html": "<div>\n<style scoped>\n    .dataframe tbody tr th:only-of-type {\n        vertical-align: middle;\n    }\n\n    .dataframe tbody tr th {\n        vertical-align: top;\n    }\n\n    .dataframe thead th {\n        text-align: right;\n    }\n</style>\n<table border=\"1\" class=\"dataframe\">\n  <thead>\n    <tr style=\"text-align: right;\">\n      <th></th>\n      <th>Title</th>\n      <th>Summary</th>\n      <th>Contents</th>\n      <th>Category</th>\n    </tr>\n  </thead>\n  <tbody>\n    <tr>\n      <th>0</th>\n      <td>Hà Nội hỗ trợ hơn 4,5 tỉ đồng cho các tỉnh phí...</td>\n      <td>Trước tình hình mưa lớn gây lũ lụt, lũ ống, lũ...</td>\n      <td>đó, ảnh hưởng tỉnh Sơn La, Yên Bái, tỉnh Lai C...</td>\n      <td>Thời sự</td>\n    </tr>\n    <tr>\n      <th>1</th>\n      <td>Kiên Giang: Xúc tiến thương mại qua đường hàng...</td>\n      <td>Kiên Giang - Chiều ngày 14.1, UBND tỉnh tổ chứ...</td>\n      <td>Thông hội nghị biết, 2019, tổng lượt du lịch K...</td>\n      <td>Kinh doanh</td>\n    </tr>\n    <tr>\n      <th>2</th>\n      <td>Xem trực tiếp TP.HCM vs Sài Gòn vòng 4 V.Leagu...</td>\n      <td>Báo Lao Động xin gửi tới quý độc giả link xem ...</td>\n      <td>lượt trận vòng 4, bảng xếp hạng V.League 2020 ...</td>\n      <td>Thể thao</td>\n    </tr>\n    <tr>\n      <th>3</th>\n      <td>Những lời chúc ngày Thầy thuốc Việt Nam hay nhất</td>\n      <td>Những lời chúc ngày 27.2 hay và ý nghĩa để dàn...</td>\n      <td>27.2.1955, Chủ tịch Hồ Chí Minh đích thân viết...</td>\n      <td>Sức khỏe</td>\n    </tr>\n    <tr>\n      <th>4</th>\n      <td>TPHCM: Đề nghị xử lý nghiêm vụ trật tự đô thị ...</td>\n      <td>UBND quận Bình Tân (TPHCM) đã ra văn bản đề ng...</td>\n      <td>Chiều 11.5, trao đổi PV Lao Động, Nguyễn Gia T...</td>\n      <td>Pháp luật</td>\n    </tr>\n    <tr>\n      <th>5</th>\n      <td>Chiến sĩ PCCC nói dối để cứu người, nữ thực tậ...</td>\n      <td>Chiến sĩ PCCC đã phải nói dối để trấn an người...</td>\n      <td>đó, thực tập sinh Phan Thị Hiên (21 tuổi, sinh...</td>\n      <td>Diễn đàn</td>\n    </tr>\n    <tr>\n      <th>6</th>\n      <td>Những chiêu trò lừa đảo, chiếm đoạt tiền phổ b...</td>\n      <td>Lợi dụng thời điểm cận Tết người dân có nhiều ...</td>\n      <td>Thủ đoạn cắp thông ngân hàng Lê Hoàng Minh – T...</td>\n      <td>Xã hội</td>\n    </tr>\n    <tr>\n      <th>7</th>\n      <td>Tottenham vs Dortmund: Chờ đợi màn đôi công má...</td>\n      <td>Vào lúc 3h rạng sáng 14.2, Tottenham sẽ tiếp đ...</td>\n      <td>Tottenham phong độ đây, 3 trận Premier League ...</td>\n      <td>Thể thao</td>\n    </tr>\n    <tr>\n      <th>8</th>\n      <td>Lãnh đạo lâm trường bị đối tượng vi phạm dùng ...</td>\n      <td>Ngày 17.10, Lâm trường Đồng Hới (Quảng Bình) c...</td>\n      <td>đó, 9h30 16.10, thực hiện nhiệm vụ tuần tra bả...</td>\n      <td>Pháp luật</td>\n    </tr>\n    <tr>\n      <th>9</th>\n      <td>Google và Amazon giải quyết mâu thuẫn, đưa You...</td>\n      <td>Amazon (NASDAQ: AMZN) và Google (NASDAQ: GOOGL...</td>\n      <td>Google YouTube trở thiết Fire TV Amazon 2019. ...</td>\n      <td>Kinh doanh</td>\n    </tr>\n  </tbody>\n</table>\n</div>"
     },
     "execution_count": 9,
     "metadata": {},
     "output_type": "execute_result"
    }
   ],
   "source": [
    "drop_columns=['Date','Author(s)','Tags','URL']\n",
    "train_data = df_.drop(columns=drop_columns)\n",
    "train_data.head(10)"
   ]
  },
  {
   "cell_type": "code",
   "execution_count": 10,
   "id": "7ac09622",
   "metadata": {
    "execution": {
     "iopub.execute_input": "2023-11-25T03:33:54.592322Z",
     "iopub.status.busy": "2023-11-25T03:33:54.591594Z",
     "iopub.status.idle": "2023-11-25T03:33:54.596116Z",
     "shell.execute_reply": "2023-11-25T03:33:54.594893Z"
    },
    "papermill": {
     "duration": 0.067571,
     "end_time": "2023-11-25T03:33:54.598086",
     "exception": false,
     "start_time": "2023-11-25T03:33:54.530515",
     "status": "completed"
    },
    "tags": [],
    "ExecuteTime": {
     "end_time": "2023-11-25T10:23:13.910063800Z",
     "start_time": "2023-11-25T10:23:13.873051100Z"
    }
   },
   "outputs": [
    {
     "name": "stdout",
     "output_type": "stream",
     "text": [
      "Summary has 5 missing values\n",
      "Train: None\n"
     ]
    }
   ],
   "source": [
    "def display_missing(df,features_columns):\n",
    "    n_rows=df.shape[0]\n",
    "    for col in features_columns:\n",
    "        missing_count=df[col].isnull().sum()\n",
    "        if missing_count>0:\n",
    "            print(f\"{col} has {missing_count} missing values\")\n",
    "column_names = train_data.columns\n",
    "print(\"Train:\",display_missing(train_data,column_names))"
   ]
  },
  {
   "cell_type": "code",
   "execution_count": 11,
   "id": "c47c3f5e",
   "metadata": {
    "execution": {
     "iopub.execute_input": "2023-11-25T03:33:54.630489Z",
     "iopub.status.busy": "2023-11-25T03:33:54.629890Z",
     "iopub.status.idle": "2023-11-25T03:33:54.634625Z",
     "shell.execute_reply": "2023-11-25T03:33:54.633935Z"
    },
    "papermill": {
     "duration": 0.022896,
     "end_time": "2023-11-25T03:33:54.636517",
     "exception": false,
     "start_time": "2023-11-25T03:33:54.613621",
     "status": "completed"
    },
    "tags": [],
    "ExecuteTime": {
     "end_time": "2023-11-25T10:23:14.043591400Z",
     "start_time": "2023-11-25T10:23:13.889062500Z"
    }
   },
   "outputs": [],
   "source": [
    "train_data = train_data.dropna(subset=['Contents'])\n",
    "train_data = train_data.dropna(subset=['Summary'])"
   ]
  },
  {
   "cell_type": "code",
   "execution_count": 12,
   "id": "54d3354d",
   "metadata": {
    "execution": {
     "iopub.execute_input": "2023-11-25T03:33:54.669079Z",
     "iopub.status.busy": "2023-11-25T03:33:54.668721Z",
     "iopub.status.idle": "2023-11-25T03:33:54.672976Z",
     "shell.execute_reply": "2023-11-25T03:33:54.672066Z"
    },
    "papermill": {
     "duration": 0.022853,
     "end_time": "2023-11-25T03:33:54.675062",
     "exception": false,
     "start_time": "2023-11-25T03:33:54.652209",
     "status": "completed"
    },
    "tags": [],
    "ExecuteTime": {
     "end_time": "2023-11-25T10:23:14.200627600Z",
     "start_time": "2023-11-25T10:23:13.920059900Z"
    }
   },
   "outputs": [
    {
     "name": "stdout",
     "output_type": "stream",
     "text": [
      "Số lượng lớp duy nhất trong cột là: Xã hội                 897\n",
      "Thể thao               527\n",
      "Thế giới               485\n",
      "Pháp luật              484\n",
      "Kinh doanh             478\n",
      "Công đoàn              395\n",
      "Giáo dục               368\n",
      "Văn hóa - Giải trí     293\n",
      "Thời sự                291\n",
      "Sức khỏe               192\n",
      "Bạn đọc                135\n",
      "Media                  116\n",
      "Bất động sản           116\n",
      "Xe +                    63\n",
      "Gia đình - Hôn nhân     62\n",
      "Tấm Lòng Vàng           31\n",
      "Công nghệ               27\n",
      "Lao Động cuối tuần       8\n",
      "Tin tức việc làm         6\n",
      "Lưu trữ                  5\n",
      "Lao Động & Đời sống      5\n",
      "Diễn đàn                 3\n",
      "Tin hoạt động            3\n",
      "Tin địa phương           2\n",
      "Quỹ TLV                  1\n",
      "Thông tin tiện ích       1\n",
      "Sự kiện Bình luận        1\n",
      "Name: Category, dtype: int64\n"
     ]
    }
   ],
   "source": [
    "num_unique_classes = train_data['Category'].value_counts()\n",
    "\n",
    "print(\"Số lượng lớp duy nhất trong cột là:\", num_unique_classes)\n",
    "\n",
    "class_counts = train_data['Category'].value_counts()\n",
    "\n",
    "# Tạo danh sách các lớp có số lượng ít hơn 100\n",
    "classes_to_remove = class_counts[class_counts < 100].index.tolist()\n",
    "\n",
    "# Loại bỏ các dòng trong DataFrame có Category thuộc danh sách loại bỏ\n",
    "train_data = train_data[~train_data['Category'].isin(classes_to_remove)]"
   ]
  },
  {
   "cell_type": "code",
   "execution_count": 13,
   "id": "0bfb0d1a",
   "metadata": {
    "execution": {
     "iopub.execute_input": "2023-11-25T03:33:54.707884Z",
     "iopub.status.busy": "2023-11-25T03:33:54.707557Z",
     "iopub.status.idle": "2023-11-25T03:33:54.711346Z",
     "shell.execute_reply": "2023-11-25T03:33:54.710498Z"
    },
    "papermill": {
     "duration": 0.022446,
     "end_time": "2023-11-25T03:33:54.713144",
     "exception": false,
     "start_time": "2023-11-25T03:33:54.690698",
     "status": "completed"
    },
    "tags": [],
    "ExecuteTime": {
     "end_time": "2023-11-25T10:23:14.271629200Z",
     "start_time": "2023-11-25T10:23:13.936060800Z"
    }
   },
   "outputs": [
    {
     "name": "stdout",
     "output_type": "stream",
     "text": [
      "Số lượng lớp duy nhất trong cột là: Xã hội                897\n",
      "Thể thao              527\n",
      "Thế giới              485\n",
      "Pháp luật             484\n",
      "Kinh doanh            478\n",
      "Công đoàn             395\n",
      "Giáo dục              368\n",
      "Văn hóa - Giải trí    293\n",
      "Thời sự               291\n",
      "Sức khỏe              192\n",
      "Bạn đọc               135\n",
      "Media                 116\n",
      "Bất động sản          116\n",
      "Name: Category, dtype: int64\n"
     ]
    }
   ],
   "source": [
    "num_unique_classes = train_data['Category'].value_counts()\n",
    "\n",
    "print(\"Số lượng lớp duy nhất trong cột là:\", num_unique_classes)"
   ]
  },
  {
   "cell_type": "code",
   "execution_count": 14,
   "id": "f8cc4d2c",
   "metadata": {
    "execution": {
     "iopub.execute_input": "2023-11-25T03:33:54.746125Z",
     "iopub.status.busy": "2023-11-25T03:33:54.745340Z",
     "iopub.status.idle": "2023-11-25T03:33:54.749352Z",
     "shell.execute_reply": "2023-11-25T03:33:54.748514Z"
    },
    "papermill": {
     "duration": 0.022151,
     "end_time": "2023-11-25T03:33:54.751118",
     "exception": false,
     "start_time": "2023-11-25T03:33:54.728967",
     "status": "completed"
    },
    "tags": [],
    "ExecuteTime": {
     "end_time": "2023-11-25T10:23:14.271629200Z",
     "start_time": "2023-11-25T10:23:13.951061500Z"
    }
   },
   "outputs": [],
   "source": [
    "from sklearn.preprocessing import LabelEncoder\n",
    "label_encoder = LabelEncoder()\n",
    "train_data['Category'] = label_encoder.fit_transform(train_data['Category'])"
   ]
  },
  {
   "cell_type": "code",
   "execution_count": 15,
   "id": "a98b10b4",
   "metadata": {
    "execution": {
     "iopub.execute_input": "2023-11-25T03:33:54.783697Z",
     "iopub.status.busy": "2023-11-25T03:33:54.782974Z",
     "iopub.status.idle": "2023-11-25T03:33:54.787138Z",
     "shell.execute_reply": "2023-11-25T03:33:54.786229Z"
    },
    "papermill": {
     "duration": 0.022716,
     "end_time": "2023-11-25T03:33:54.789159",
     "exception": false,
     "start_time": "2023-11-25T03:33:54.766443",
     "status": "completed"
    },
    "tags": [],
    "ExecuteTime": {
     "end_time": "2023-11-25T10:23:21.915850800Z",
     "start_time": "2023-11-25T10:23:21.680287500Z"
    }
   },
   "outputs": [],
   "source": [
    "from sklearn.model_selection import train_test_split\n",
    "test_data = train_data.sample(n=3000, random_state=42)\n",
    "\n",
    "train_data = train_data.drop(test_data.index)\n",
    "\n",
    "# Lưu tập dữ liệu huấn luyện và kiểm tra thành các file CSV\n",
    "train_data.to_csv(r'train_data.csv', index=False)\n",
    "test_data.to_csv(r'test_data.csv', index=False)"
   ]
  },
  {
   "cell_type": "code",
   "execution_count": 16,
   "id": "0b0088fb",
   "metadata": {
    "execution": {
     "iopub.execute_input": "2023-11-25T03:33:54.821465Z",
     "iopub.status.busy": "2023-11-25T03:33:54.821144Z",
     "iopub.status.idle": "2023-11-25T03:34:09.073579Z",
     "shell.execute_reply": "2023-11-25T03:34:09.072786Z"
    },
    "papermill": {
     "duration": 14.271355,
     "end_time": "2023-11-25T03:34:09.075992",
     "exception": false,
     "start_time": "2023-11-25T03:33:54.804637",
     "status": "completed"
    },
    "tags": [],
    "ExecuteTime": {
     "end_time": "2023-11-25T10:23:22.864329900Z",
     "start_time": "2023-11-25T10:23:22.642458400Z"
    }
   },
   "outputs": [],
   "source": [
    "TRAIN_FILE_PATH = r'train_data.csv'\n",
    "TEST_FILE_PATH = r'test_data.csv'\n",
    "\n",
    "#Load Data\n",
    "data = pd.read_csv(TRAIN_FILE_PATH)\n",
    "testdata = pd.read_csv(TEST_FILE_PATH)"
   ]
  },
  {
   "cell_type": "code",
   "execution_count": 17,
   "id": "e2c67d7c",
   "metadata": {
    "execution": {
     "iopub.execute_input": "2023-11-25T03:34:09.109775Z",
     "iopub.status.busy": "2023-11-25T03:34:09.109167Z",
     "iopub.status.idle": "2023-11-25T03:34:09.127967Z",
     "shell.execute_reply": "2023-11-25T03:34:09.127001Z"
    },
    "papermill": {
     "duration": 0.037694,
     "end_time": "2023-11-25T03:34:09.130003",
     "exception": false,
     "start_time": "2023-11-25T03:34:09.092309",
     "status": "completed"
    },
    "tags": [],
    "ExecuteTime": {
     "end_time": "2023-11-25T10:23:24.026782800Z",
     "start_time": "2023-11-25T10:23:23.987784800Z"
    }
   },
   "outputs": [
    {
     "data": {
      "text/plain": "                                               Title  \\\n0  Kiên Giang: Xúc tiến thương mại qua đường hàng...   \n1  Xem trực tiếp TP.HCM vs Sài Gòn vòng 4 V.Leagu...   \n2   Những lời chúc ngày Thầy thuốc Việt Nam hay nhất   \n3  TPHCM: Đề nghị xử lý nghiêm vụ trật tự đô thị ...   \n4  Những chiêu trò lừa đảo, chiếm đoạt tiền phổ b...   \n5  Vườn hoa ở vùng mỏ sắt Thạch Khê thành điểm 's...   \n6  Tình báo Israel được điều động theo dõi biến t...   \n7  Đơn vị thành viên Tổng Công ty Rau quả, nông s...   \n8  Cắt giảm điều kiện kinh doanh trước \"giờ G\" 30...   \n9  Hiểu đúng vai trò, trách nhiệm của chủ đầu tư ...   \n\n                                             Summary  \\\n0  Kiên Giang - Chiều ngày 14.1, UBND tỉnh tổ chứ...   \n1  Báo Lao Động xin gửi tới quý độc giả link xem ...   \n2  Những lời chúc ngày 27.2 hay và ý nghĩa để dàn...   \n3  UBND quận Bình Tân (TPHCM) đã ra văn bản đề ng...   \n4  Lợi dụng thời điểm cận Tết người dân có nhiều ...   \n5  Những ngày nghỉ Tết Tân Sửu, hàng trăm người đ...   \n6  Israel là nước đầu tiên trên thế giới điều độn...   \n7  Công đoàn Nông nghiệp và phát triển nông thôn ...   \n8  Thời hạn cắt giảm điều kiện kinh doanh đặt ra ...   \n9  Chủ đầu tư có vai trò vô cùng quan trọng đối v...   \n\n                                            Contents  Category  \n0  Thông hội nghị biết, 2019, tổng lượt du lịch K...         4  \n1  lượt trận vòng 4, bảng xếp hạng V.League 2020 ...         9  \n2  27.2.1955, Chủ tịch Hồ Chí Minh đích thân viết...         7  \n3  Chiều 11.5, trao đổi PV Lao Động, Nguyễn Gia T...         6  \n4  Thủ đoạn cắp thông ngân hàng Lê Hoàng Minh – T...        12  \n5  Chiều 16.2 (mùng 5 Tết), dân khắp xa, đặc biệt...        11  \n6  phủ Israel thị quan tình báo nội SHABAK dõi tu...         8  \n7  4 Công đoàn sở gồm: Công đoàn Công ty Cổ In Ba...         5  \n8  đó, “Không phiên họp Thủ tướng nhắc, văn đôn đ...         4  \n9  Vai trò chủ đầu tư Chủ đầu tư khả năng tổ chức...         1  ",
      "text/html": "<div>\n<style scoped>\n    .dataframe tbody tr th:only-of-type {\n        vertical-align: middle;\n    }\n\n    .dataframe tbody tr th {\n        vertical-align: top;\n    }\n\n    .dataframe thead th {\n        text-align: right;\n    }\n</style>\n<table border=\"1\" class=\"dataframe\">\n  <thead>\n    <tr style=\"text-align: right;\">\n      <th></th>\n      <th>Title</th>\n      <th>Summary</th>\n      <th>Contents</th>\n      <th>Category</th>\n    </tr>\n  </thead>\n  <tbody>\n    <tr>\n      <th>0</th>\n      <td>Kiên Giang: Xúc tiến thương mại qua đường hàng...</td>\n      <td>Kiên Giang - Chiều ngày 14.1, UBND tỉnh tổ chứ...</td>\n      <td>Thông hội nghị biết, 2019, tổng lượt du lịch K...</td>\n      <td>4</td>\n    </tr>\n    <tr>\n      <th>1</th>\n      <td>Xem trực tiếp TP.HCM vs Sài Gòn vòng 4 V.Leagu...</td>\n      <td>Báo Lao Động xin gửi tới quý độc giả link xem ...</td>\n      <td>lượt trận vòng 4, bảng xếp hạng V.League 2020 ...</td>\n      <td>9</td>\n    </tr>\n    <tr>\n      <th>2</th>\n      <td>Những lời chúc ngày Thầy thuốc Việt Nam hay nhất</td>\n      <td>Những lời chúc ngày 27.2 hay và ý nghĩa để dàn...</td>\n      <td>27.2.1955, Chủ tịch Hồ Chí Minh đích thân viết...</td>\n      <td>7</td>\n    </tr>\n    <tr>\n      <th>3</th>\n      <td>TPHCM: Đề nghị xử lý nghiêm vụ trật tự đô thị ...</td>\n      <td>UBND quận Bình Tân (TPHCM) đã ra văn bản đề ng...</td>\n      <td>Chiều 11.5, trao đổi PV Lao Động, Nguyễn Gia T...</td>\n      <td>6</td>\n    </tr>\n    <tr>\n      <th>4</th>\n      <td>Những chiêu trò lừa đảo, chiếm đoạt tiền phổ b...</td>\n      <td>Lợi dụng thời điểm cận Tết người dân có nhiều ...</td>\n      <td>Thủ đoạn cắp thông ngân hàng Lê Hoàng Minh – T...</td>\n      <td>12</td>\n    </tr>\n    <tr>\n      <th>5</th>\n      <td>Vườn hoa ở vùng mỏ sắt Thạch Khê thành điểm 's...</td>\n      <td>Những ngày nghỉ Tết Tân Sửu, hàng trăm người đ...</td>\n      <td>Chiều 16.2 (mùng 5 Tết), dân khắp xa, đặc biệt...</td>\n      <td>11</td>\n    </tr>\n    <tr>\n      <th>6</th>\n      <td>Tình báo Israel được điều động theo dõi biến t...</td>\n      <td>Israel là nước đầu tiên trên thế giới điều độn...</td>\n      <td>phủ Israel thị quan tình báo nội SHABAK dõi tu...</td>\n      <td>8</td>\n    </tr>\n    <tr>\n      <th>7</th>\n      <td>Đơn vị thành viên Tổng Công ty Rau quả, nông s...</td>\n      <td>Công đoàn Nông nghiệp và phát triển nông thôn ...</td>\n      <td>4 Công đoàn sở gồm: Công đoàn Công ty Cổ In Ba...</td>\n      <td>5</td>\n    </tr>\n    <tr>\n      <th>8</th>\n      <td>Cắt giảm điều kiện kinh doanh trước \"giờ G\" 30...</td>\n      <td>Thời hạn cắt giảm điều kiện kinh doanh đặt ra ...</td>\n      <td>đó, “Không phiên họp Thủ tướng nhắc, văn đôn đ...</td>\n      <td>4</td>\n    </tr>\n    <tr>\n      <th>9</th>\n      <td>Hiểu đúng vai trò, trách nhiệm của chủ đầu tư ...</td>\n      <td>Chủ đầu tư có vai trò vô cùng quan trọng đối v...</td>\n      <td>Vai trò chủ đầu tư Chủ đầu tư khả năng tổ chức...</td>\n      <td>1</td>\n    </tr>\n  </tbody>\n</table>\n</div>"
     },
     "execution_count": 17,
     "metadata": {},
     "output_type": "execute_result"
    }
   ],
   "source": [
    "data.head(10)"
   ]
  },
  {
   "cell_type": "code",
   "execution_count": 18,
   "id": "49006396",
   "metadata": {
    "execution": {
     "iopub.execute_input": "2023-11-25T03:34:09.163846Z",
     "iopub.status.busy": "2023-11-25T03:34:09.163484Z",
     "iopub.status.idle": "2023-11-25T03:34:09.187205Z",
     "shell.execute_reply": "2023-11-25T03:34:09.186416Z"
    },
    "papermill": {
     "duration": 0.042973,
     "end_time": "2023-11-25T03:34:09.189306",
     "exception": false,
     "start_time": "2023-11-25T03:34:09.146333",
     "status": "completed"
    },
    "tags": [],
    "ExecuteTime": {
     "end_time": "2023-11-25T10:23:25.698569700Z",
     "start_time": "2023-11-25T10:23:25.659990100Z"
    }
   },
   "outputs": [],
   "source": [
    "drop_columns=['Title','Summary']\n",
    "data = data.drop(columns=drop_columns)\n",
    "testdata = testdata.drop(columns=drop_columns)"
   ]
  },
  {
   "cell_type": "code",
   "execution_count": 19,
   "id": "2852d1ed",
   "metadata": {
    "execution": {
     "iopub.execute_input": "2023-11-25T03:34:09.223210Z",
     "iopub.status.busy": "2023-11-25T03:34:09.222846Z",
     "iopub.status.idle": "2023-11-25T03:34:09.403357Z",
     "shell.execute_reply": "2023-11-25T03:34:09.402575Z"
    },
    "id": "J2g4NfecdWGw",
    "outputId": "cbb5076f-fb25-4736-f519-7746ac812caf",
    "papermill": {
     "duration": 0.200046,
     "end_time": "2023-11-25T03:34:09.405692",
     "exception": false,
     "start_time": "2023-11-25T03:34:09.205646",
     "status": "completed"
    },
    "tags": [],
    "ExecuteTime": {
     "end_time": "2023-11-25T10:23:26.486814600Z",
     "start_time": "2023-11-25T10:23:26.427573100Z"
    }
   },
   "outputs": [],
   "source": [
    "#Set Column Names \n",
    "data.columns = ['Contents','Category']\n",
    "testdata.columns = ['Contents','Category']\n",
    "\n",
    "#Combine Title and Description\n",
    "X_train = data['Contents'] \n",
    "y_train = data['Category'].apply(lambda x: x-1).values # Class labels need to begin from 0\n",
    "\n",
    "x_test = testdata['Contents'] # Combine title and description (better accuracy than using them as separate features)\n",
    "y_test = testdata['Category'].apply(lambda x: x-1).values # Class labels need to begin from 0"
   ]
  },
  {
   "cell_type": "code",
   "execution_count": 20,
   "id": "67afa8a6",
   "metadata": {
    "execution": {
     "iopub.execute_input": "2023-11-25T03:34:09.440629Z",
     "iopub.status.busy": "2023-11-25T03:34:09.439659Z",
     "iopub.status.idle": "2023-11-25T03:34:09.446827Z",
     "shell.execute_reply": "2023-11-25T03:34:09.446059Z"
    },
    "papermill": {
     "duration": 0.026212,
     "end_time": "2023-11-25T03:34:09.448772",
     "exception": false,
     "start_time": "2023-11-25T03:34:09.422560",
     "status": "completed"
    },
    "tags": [],
    "ExecuteTime": {
     "end_time": "2023-11-25T10:23:27.317381300Z",
     "start_time": "2023-11-25T10:23:27.220958900Z"
    }
   },
   "outputs": [
    {
     "data": {
      "text/plain": "0       Thông hội nghị biết, 2019, tổng lượt du lịch K...\n1       lượt trận vòng 4, bảng xếp hạng V.League 2020 ...\n2       27.2.1955, Chủ tịch Hồ Chí Minh đích thân viết...\n3       Chiều 11.5, trao đổi PV Lao Động, Nguyễn Gia T...\n4       Thủ đoạn cắp thông ngân hàng Lê Hoàng Minh – T...\n                              ...                        \n1772    25.3, Công an tỉnh Bình Dương thông tạm nghi c...\n1773    Tuyển Malaysia buộc thắng Indonesia trận đấu t...\n1774    19h45 tối (5.6), đội tuyển Việt Nam trận quân ...\n1775    hội nghị, Nguyễn Minh Dũng - Phó Trưởng Ban Tà...\n1776    24.5, Công an huyện Hương Sơn (Hà Tĩnh) biết, ...\nName: Contents, Length: 1777, dtype: object"
     },
     "execution_count": 20,
     "metadata": {},
     "output_type": "execute_result"
    }
   ],
   "source": [
    "X_train"
   ]
  },
  {
   "cell_type": "code",
   "execution_count": 21,
   "id": "bf83d014",
   "metadata": {
    "execution": {
     "iopub.execute_input": "2023-11-25T03:34:09.483396Z",
     "iopub.status.busy": "2023-11-25T03:34:09.483058Z",
     "iopub.status.idle": "2023-11-25T03:34:17.622925Z",
     "shell.execute_reply": "2023-11-25T03:34:17.621943Z"
    },
    "papermill": {
     "duration": 8.159701,
     "end_time": "2023-11-25T03:34:17.625108",
     "exception": false,
     "start_time": "2023-11-25T03:34:09.465407",
     "status": "completed"
    },
    "tags": [],
    "ExecuteTime": {
     "end_time": "2023-11-25T10:23:29.437399100Z",
     "start_time": "2023-11-25T10:23:29.313544800Z"
    }
   },
   "outputs": [
    {
     "name": "stdout",
     "output_type": "stream",
     "text": [
      "Chiều dài tối đa của chuỗi trong X_train: 5172\n"
     ]
    }
   ],
   "source": [
    "# Loại bỏ các giá trị NaN khỏi X_train trước khi tính toán chiều dài tối đa\n",
    "X_train_cleaned = X_train.dropna()\n",
    "\n",
    "# Tính toán chiều dài tối đa của chuỗi trong X_train sau khi loại bỏ NaN\n",
    "maxlen = X_train_cleaned.map(lambda x: len(x.split())).max()\n",
    "\n",
    "# In ra chiều dài tối đa\n",
    "print(\"Chiều dài tối đa của chuỗi trong X_train:\", maxlen)"
   ]
  },
  {
   "cell_type": "markdown",
   "id": "cf37ac85",
   "metadata": {
    "id": "0lZqq9zLrXMC",
    "papermill": {
     "duration": 0.016678,
     "end_time": "2023-11-25T03:34:17.658709",
     "exception": false,
     "start_time": "2023-11-25T03:34:17.642031",
     "status": "completed"
    },
    "tags": []
   },
   "source": [
    "## Exploratory Data Analysis"
   ]
  },
  {
   "cell_type": "markdown",
   "id": "8034ad64",
   "metadata": {
    "id": "v8vJ7tio9bmR",
    "papermill": {
     "duration": 0.016129,
     "end_time": "2023-11-25T03:34:17.691472",
     "exception": false,
     "start_time": "2023-11-25T03:34:17.675343",
     "status": "completed"
    },
    "tags": []
   },
   "source": [
    "### Data Shape"
   ]
  },
  {
   "cell_type": "code",
   "execution_count": 22,
   "id": "6180cccc",
   "metadata": {
    "execution": {
     "iopub.execute_input": "2023-11-25T03:34:17.726693Z",
     "iopub.status.busy": "2023-11-25T03:34:17.726345Z",
     "iopub.status.idle": "2023-11-25T03:34:17.732435Z",
     "shell.execute_reply": "2023-11-25T03:34:17.731561Z"
    },
    "id": "zSonlU5Ara6n",
    "outputId": "5c4ea250-bafa-4dfe-a36e-ad8d17c1d83e",
    "papermill": {
     "duration": 0.02579,
     "end_time": "2023-11-25T03:34:17.734311",
     "exception": false,
     "start_time": "2023-11-25T03:34:17.708521",
     "status": "completed"
    },
    "tags": [],
    "ExecuteTime": {
     "end_time": "2023-11-25T10:23:32.356782800Z",
     "start_time": "2023-11-25T10:23:32.265549700Z"
    }
   },
   "outputs": [
    {
     "data": {
      "text/plain": "((1777, 2), (3000, 2))"
     },
     "execution_count": 22,
     "metadata": {},
     "output_type": "execute_result"
    }
   ],
   "source": [
    "data.shape, testdata.shape"
   ]
  },
  {
   "cell_type": "markdown",
   "id": "13094266",
   "metadata": {
    "id": "wzpW4SCu9eWl",
    "papermill": {
     "duration": 0.016448,
     "end_time": "2023-11-25T03:34:17.767453",
     "exception": false,
     "start_time": "2023-11-25T03:34:17.751005",
     "status": "completed"
    },
    "tags": []
   },
   "source": [
    "### Value Counts"
   ]
  },
  {
   "cell_type": "code",
   "execution_count": 23,
   "id": "4a7c0a3d",
   "metadata": {
    "execution": {
     "iopub.execute_input": "2023-11-25T03:34:17.802536Z",
     "iopub.status.busy": "2023-11-25T03:34:17.802208Z",
     "iopub.status.idle": "2023-11-25T03:34:17.815954Z",
     "shell.execute_reply": "2023-11-25T03:34:17.815008Z"
    },
    "id": "6ehyOshjromr",
    "outputId": "e2c81a05-ec81-4eb9-d830-a8015eb52bbf",
    "papermill": {
     "duration": 0.0336,
     "end_time": "2023-11-25T03:34:17.817964",
     "exception": false,
     "start_time": "2023-11-25T03:34:17.784364",
     "status": "completed"
    },
    "tags": [],
    "ExecuteTime": {
     "end_time": "2023-11-25T10:23:33.763839600Z",
     "start_time": "2023-11-25T10:23:33.727300800Z"
    }
   },
   "outputs": [
    {
     "data": {
      "text/plain": "12    335\n9     208\n8     203\n4     164\n6     154\n2     143\n3     138\n10    107\n11     94\n7      76\n0      57\n5      50\n1      48\nName: Category, dtype: int64"
     },
     "execution_count": 23,
     "metadata": {},
     "output_type": "execute_result"
    }
   ],
   "source": [
    "#Checking Value counts to determine class balance\n",
    "data.Category.value_counts()"
   ]
  },
  {
   "cell_type": "code",
   "execution_count": 24,
   "id": "e70dbbef",
   "metadata": {
    "execution": {
     "iopub.execute_input": "2023-11-25T03:34:17.853532Z",
     "iopub.status.busy": "2023-11-25T03:34:17.853214Z",
     "iopub.status.idle": "2023-11-25T03:34:17.860676Z",
     "shell.execute_reply": "2023-11-25T03:34:17.859855Z"
    },
    "id": "m_9MdzEss55g",
    "outputId": "f61078e2-9473-4f11-8224-ca579990c98c",
    "papermill": {
     "duration": 0.027631,
     "end_time": "2023-11-25T03:34:17.862612",
     "exception": false,
     "start_time": "2023-11-25T03:34:17.834981",
     "status": "completed"
    },
    "tags": [],
    "ExecuteTime": {
     "end_time": "2023-11-25T10:23:34.633741200Z",
     "start_time": "2023-11-25T10:23:34.551853600Z"
    }
   },
   "outputs": [
    {
     "data": {
      "text/plain": "12    562\n6     330\n9     319\n4     314\n8     282\n2     252\n3     230\n11    199\n10    184\n7     116\n0      78\n1      68\n5      66\nName: Category, dtype: int64"
     },
     "execution_count": 24,
     "metadata": {},
     "output_type": "execute_result"
    }
   ],
   "source": [
    "testdata.Category.value_counts()"
   ]
  },
  {
   "cell_type": "markdown",
   "id": "6f56a305",
   "metadata": {
    "id": "UL-BO8rc9jHC",
    "papermill": {
     "duration": 0.016835,
     "end_time": "2023-11-25T03:34:17.897167",
     "exception": false,
     "start_time": "2023-11-25T03:34:17.880332",
     "status": "completed"
    },
    "tags": []
   },
   "source": [
    "### Null Values"
   ]
  },
  {
   "cell_type": "code",
   "execution_count": 25,
   "id": "04352c0f",
   "metadata": {
    "execution": {
     "iopub.execute_input": "2023-11-25T03:34:17.933652Z",
     "iopub.status.busy": "2023-11-25T03:34:17.933318Z",
     "iopub.status.idle": "2023-11-25T03:34:17.990962Z",
     "shell.execute_reply": "2023-11-25T03:34:17.990072Z"
    },
    "id": "1ZuJcoiJ9Yss",
    "outputId": "9841a0bf-36e1-4171-d583-36f783b17663",
    "papermill": {
     "duration": 0.077563,
     "end_time": "2023-11-25T03:34:17.992855",
     "exception": false,
     "start_time": "2023-11-25T03:34:17.915292",
     "status": "completed"
    },
    "tags": [],
    "ExecuteTime": {
     "end_time": "2023-11-25T10:23:36.319742900Z",
     "start_time": "2023-11-25T10:23:36.246849600Z"
    }
   },
   "outputs": [
    {
     "data": {
      "text/plain": "Contents    23\nCategory     0\ndtype: int64"
     },
     "execution_count": 25,
     "metadata": {},
     "output_type": "execute_result"
    }
   ],
   "source": [
    "# #Train Data\n",
    "data.isnull().sum()"
   ]
  },
  {
   "cell_type": "code",
   "execution_count": 26,
   "id": "3facc3e8",
   "metadata": {
    "execution": {
     "iopub.execute_input": "2023-11-25T03:34:18.030218Z",
     "iopub.status.busy": "2023-11-25T03:34:18.029427Z",
     "iopub.status.idle": "2023-11-25T03:34:18.037353Z",
     "shell.execute_reply": "2023-11-25T03:34:18.036489Z"
    },
    "id": "8e_5I-zc9pJz",
    "outputId": "80df5755-80e5-442c-a0d5-985f2045ec12",
    "papermill": {
     "duration": 0.028846,
     "end_time": "2023-11-25T03:34:18.039447",
     "exception": false,
     "start_time": "2023-11-25T03:34:18.010601",
     "status": "completed"
    },
    "tags": [],
    "ExecuteTime": {
     "end_time": "2023-11-25T10:23:37.198534800Z",
     "start_time": "2023-11-25T10:23:37.118017100Z"
    }
   },
   "outputs": [
    {
     "data": {
      "text/plain": "Contents    56\nCategory     0\ndtype: int64"
     },
     "execution_count": 26,
     "metadata": {},
     "output_type": "execute_result"
    }
   ],
   "source": [
    "# #Test Data\n",
    "testdata.isnull().sum()"
   ]
  },
  {
   "cell_type": "markdown",
   "id": "139a2d7e",
   "metadata": {
    "id": "USpvicJifoQ8",
    "papermill": {
     "duration": 0.017293,
     "end_time": "2023-11-25T03:34:18.074090",
     "exception": false,
     "start_time": "2023-11-25T03:34:18.056797",
     "status": "completed"
    },
    "tags": []
   },
   "source": [
    "## Tokenize and Pad Data\n",
    "\n",
    "### Tokenization\n",
    "\n",
    "Tokenization is a common task in Natural Language Processing (NLP). It’s a fundamental step in both traditional NLP methods like Count Vectorizer and Advanced Deep Learning-based architectures like Transformers.\n",
    "\n",
    "Tokenization is a way of separating a piece of text into smaller units called tokens. Here, tokens can be either words, characters, or subwords. Hence, tokenization can be broadly classified into 3 types – word, character, and subword (n-gram characters) tokenization.\n",
    "\n",
    "For example, consider the sentence: “Never give up”.\n",
    "\n",
    "The most common way of forming tokens is based on space. Assuming space as a delimiter, the tokenization of the sentence results in 3 tokens – Never-give-up. As each token is a word, it becomes an example of Word tokenization.\n",
    "\n",
    "Similarly, tokens can be either characters or subwords. For example, let us consider “smarter”:\n",
    "\n",
    "1. Character tokens: s-m-a-r-t-e-r\n",
    "2. Subword tokens: smart-er\n",
    "\n",
    "### Padding\n",
    "All the neural networks require to have inputs that have the same shape and size. However, when we pre-process and use the texts as inputs for our model e.g. LSTM, not all the sentences have the same length. In other words, naturally, some of the sentences are longer or shorter. We need to have the inputs with the same size, this is where the padding is necessary."
   ]
  },
  {
   "cell_type": "code",
   "execution_count": 27,
   "id": "248f34ae",
   "metadata": {
    "execution": {
     "iopub.execute_input": "2023-11-25T03:34:18.110317Z",
     "iopub.status.busy": "2023-11-25T03:34:18.109618Z",
     "iopub.status.idle": "2023-11-25T03:38:15.685152Z",
     "shell.execute_reply": "2023-11-25T03:38:15.684147Z"
    },
    "id": "QIaVaaiDe9m4",
    "papermill": {
     "duration": 237.596526,
     "end_time": "2023-11-25T03:38:15.687838",
     "exception": false,
     "start_time": "2023-11-25T03:34:18.091312",
     "status": "completed"
    },
    "tags": [],
    "ExecuteTime": {
     "end_time": "2023-11-25T10:23:40.673758300Z",
     "start_time": "2023-11-25T10:23:39.123283200Z"
    }
   },
   "outputs": [],
   "source": [
    "vocab_size = 5000 # arbitrarily chosen\n",
    "embed_size = 32 # arbitrarily chosen\n",
    "maxlen=5000\n",
    "X_train = X_train.astype(str)\n",
    "x_test=x_test.astype(str)\n",
    "# Create and Fit tokenizer\n",
    "tok = Tokenizer(num_words=vocab_size)\n",
    "tok.fit_on_texts(X_train.values)\n",
    "\n",
    "# Tokenize data\n",
    "X_train = tok.texts_to_sequences(X_train)\n",
    "x_test = tok.texts_to_sequences(x_test)\n",
    "\n",
    "# Pad data\n",
    "X_train = pad_sequences(X_train, maxlen=maxlen)\n",
    "x_test = pad_sequences(x_test, maxlen=maxlen)"
   ]
  },
  {
   "cell_type": "code",
   "execution_count": 28,
   "id": "919cb017",
   "metadata": {
    "execution": {
     "iopub.execute_input": "2023-11-25T03:38:15.731028Z",
     "iopub.status.busy": "2023-11-25T03:38:15.730627Z",
     "iopub.status.idle": "2023-11-25T03:38:15.737900Z",
     "shell.execute_reply": "2023-11-25T03:38:15.736921Z"
    },
    "papermill": {
     "duration": 0.03082,
     "end_time": "2023-11-25T03:38:15.739939",
     "exception": false,
     "start_time": "2023-11-25T03:38:15.709119",
     "status": "completed"
    },
    "tags": [],
    "ExecuteTime": {
     "end_time": "2023-11-25T10:23:41.763237600Z",
     "start_time": "2023-11-25T10:23:41.718134500Z"
    }
   },
   "outputs": [
    {
     "data": {
      "text/plain": "array([[   0,    0,    0, ...,   27,  108,   86],\n       [   0,    0,    0, ..., 1084,  857,  908],\n       [   0,    0,    0, ...,  478,   36,   15],\n       ...,\n       [   0,    0,    0, ...,  902,  606,  553],\n       [   0,    0,    0, ...,   40,   14,  581],\n       [   0,    0,    0, ...,   38,  216,   46]])"
     },
     "execution_count": 28,
     "metadata": {},
     "output_type": "execute_result"
    }
   ],
   "source": [
    "X_train"
   ]
  },
  {
   "cell_type": "markdown",
   "id": "e510ec85",
   "metadata": {
    "id": "0UP_HEHffwLi",
    "papermill": {
     "duration": 0.019388,
     "end_time": "2023-11-25T03:38:15.779911",
     "exception": false,
     "start_time": "2023-11-25T03:38:15.760523",
     "status": "completed"
    },
    "tags": []
   },
   "source": [
    "## Model"
   ]
  },
  {
   "cell_type": "markdown",
   "id": "c2fa9e5f",
   "metadata": {
    "id": "kKh4ldNJmeBk",
    "papermill": {
     "duration": 0.019338,
     "end_time": "2023-11-25T03:38:15.818608",
     "exception": false,
     "start_time": "2023-11-25T03:38:15.799270",
     "status": "completed"
    },
    "tags": []
   },
   "source": [
    "### LSTM - \n",
    "To solve the problem of Vanishing and Exploding Gradients in a deep Recurrent Neural Network, many variations were developed. One of the most famous of them is the Long Short Term Memory Network(LSTM). In concept, an LSTM recurrent unit tries to “remember” all the past knowledge that the network is seen so far and to “forget” irrelevant data. This is done by introducing different activation function layers called “gates” for different purposes. Each LSTM recurrent unit also maintains a vector called the Internal Cell State which conceptually describes the information that was chosen to be retained by the previous LSTM recurrent unit. A Long Short Term Memory Network consists of four different gates for different purposes as described below:-\n",
    "\n",
    "1. **Forget Gate(f)**: It determines to what extent to forget the previous data.\n",
    "\n",
    "2. **Input Gate(i)**: It determines the extent of information to be written onto the Internal Cell State.\n",
    "\n",
    "3. **Input Modulation Gate(g**): It is often considered as a sub-part of the input gate and many literatures on LSTM’s do not even mention it and assume it inside the Input gate. It is used to modulate the information that the Input gate will write onto the Internal State Cell by adding non-linearity to the information and making the information Zero-mean. This is done to reduce the learning time as Zero-mean input has faster convergence. Although this gate’s actions are less important than the others and is often treated as a finesse-providing concept, it is good practice to include this gate into the structure of the LSTM unit.\n",
    "\n",
    "4. **Output Gate(o)**: It determines what output(next Hidden State) to generate from the current Internal Cell State.\n",
    "\n",
    "The basic work-flow of a Long Short Term Memory Network is similar to the work-flow of a Recurrent Neural Network with only difference being that the Internal Cell State is also passed forward along with the Hidden State.\n",
    "\n",
    "### BiDirectional LSTM - \n",
    "Using bidirectional will run our inputs in two ways, one from past to future and one from future to past and what differs this approach from unidirectional is that in the LSTM that runs backwards we preserve information from the future and using the two hidden states combined we are able in any point in time to preserve information from both past and future."
   ]
  },
  {
   "cell_type": "code",
   "execution_count": 29,
   "id": "18f5d631",
   "metadata": {
    "execution": {
     "iopub.execute_input": "2023-11-25T03:38:15.859703Z",
     "iopub.status.busy": "2023-11-25T03:38:15.859332Z",
     "iopub.status.idle": "2023-11-25T03:38:46.236891Z",
     "shell.execute_reply": "2023-11-25T03:38:46.235394Z"
    },
    "papermill": {
     "duration": 30.412809,
     "end_time": "2023-11-25T03:38:46.251310",
     "exception": false,
     "start_time": "2023-11-25T03:38:15.838501",
     "status": "completed"
    },
    "tags": [],
    "ExecuteTime": {
     "end_time": "2023-11-25T10:23:47.452509100Z",
     "start_time": "2023-11-25T10:23:45.169351400Z"
    }
   },
   "outputs": [
    {
     "data": {
      "text/plain": "VBox(children=(Label(value='Waiting for wandb.init()...\\r'), FloatProgress(value=0.011277777779226502, max=1.0…",
      "application/vnd.jupyter.widget-view+json": {
       "version_major": 2,
       "version_minor": 0,
       "model_id": "fe47282dfc8043c4875b99fcc4908340"
      }
     },
     "metadata": {},
     "output_type": "display_data"
    },
    {
     "data": {
      "text/plain": "<IPython.core.display.HTML object>",
      "text/html": "Tracking run with wandb version 0.16.0"
     },
     "metadata": {},
     "output_type": "display_data"
    },
    {
     "data": {
      "text/plain": "<IPython.core.display.HTML object>",
      "text/html": "Run data is saved locally in <code>E:\\NLP\\Vietnamese-Text-Classification-master\\code\\wandb\\run-20231125_172345-8wyy4f8k</code>"
     },
     "metadata": {},
     "output_type": "display_data"
    },
    {
     "data": {
      "text/plain": "<IPython.core.display.HTML object>",
      "text/html": "Syncing run <strong><a href='https://wandb.ai/nguyen_dat2/Vietnamese%20News%20Classification/runs/8wyy4f8k' target=\"_blank\">elated-water-6</a></strong> to <a href='https://wandb.ai/nguyen_dat2/Vietnamese%20News%20Classification' target=\"_blank\">Weights & Biases</a> (<a href='https://wandb.me/run' target=\"_blank\">docs</a>)<br/>"
     },
     "metadata": {},
     "output_type": "display_data"
    },
    {
     "data": {
      "text/plain": "<IPython.core.display.HTML object>",
      "text/html": " View project at <a href='https://wandb.ai/nguyen_dat2/Vietnamese%20News%20Classification' target=\"_blank\">https://wandb.ai/nguyen_dat2/Vietnamese%20News%20Classification</a>"
     },
     "metadata": {},
     "output_type": "display_data"
    },
    {
     "data": {
      "text/plain": "<IPython.core.display.HTML object>",
      "text/html": " View run at <a href='https://wandb.ai/nguyen_dat2/Vietnamese%20News%20Classification/runs/8wyy4f8k' target=\"_blank\">https://wandb.ai/nguyen_dat2/Vietnamese%20News%20Classification/runs/8wyy4f8k</a>"
     },
     "metadata": {},
     "output_type": "display_data"
    }
   ],
   "source": [
    "run = wandb.init(project='Vietnamese News Classification', config= WANDB_CONFIG)"
   ]
  },
  {
   "cell_type": "code",
   "execution_count": 30,
   "id": "84aaa44b",
   "metadata": {
    "execution": {
     "iopub.execute_input": "2023-11-25T03:38:46.296064Z",
     "iopub.status.busy": "2023-11-25T03:38:46.295164Z",
     "iopub.status.idle": "2023-11-25T03:38:50.223325Z",
     "shell.execute_reply": "2023-11-25T03:38:50.222234Z"
    },
    "id": "Zr0tX6QofrHd",
    "outputId": "c382e70b-5d77-4199-9370-e5b4921290cf",
    "papermill": {
     "duration": 3.952824,
     "end_time": "2023-11-25T03:38:50.225262",
     "exception": false,
     "start_time": "2023-11-25T03:38:46.272438",
     "status": "completed"
    },
    "tags": [],
    "ExecuteTime": {
     "end_time": "2023-11-25T10:24:03.976691300Z",
     "start_time": "2023-11-25T10:23:57.833300700Z"
    }
   },
   "outputs": [
    {
     "name": "stdout",
     "output_type": "stream",
     "text": [
      "Model: \"sequential\"\n",
      "_________________________________________________________________\n",
      " Layer (type)                Output Shape              Param #   \n",
      "=================================================================\n",
      " embedding (Embedding)       (None, 5000, 32)          160000    \n",
      "                                                                 \n",
      " bidirectional (Bidirection  (None, 5000, 256)         164864    \n",
      " al)                                                             \n",
      "                                                                 \n",
      " bidirectional_1 (Bidirecti  (None, 5000, 128)         164352    \n",
      " onal)                                                           \n",
      "                                                                 \n",
      " global_max_pooling1d (Glob  (None, 128)               0         \n",
      " alMaxPooling1D)                                                 \n",
      "                                                                 \n",
      " dense (Dense)               (None, 1024)              132096    \n",
      "                                                                 \n",
      " dropout (Dropout)           (None, 1024)              0         \n",
      "                                                                 \n",
      " dense_1 (Dense)             (None, 512)               524800    \n",
      "                                                                 \n",
      " dropout_1 (Dropout)         (None, 512)               0         \n",
      "                                                                 \n",
      " dense_2 (Dense)             (None, 256)               131328    \n",
      "                                                                 \n",
      " dropout_2 (Dropout)         (None, 256)               0         \n",
      "                                                                 \n",
      " dense_3 (Dense)             (None, 128)               32896     \n",
      "                                                                 \n",
      " dropout_3 (Dropout)         (None, 128)               0         \n",
      "                                                                 \n",
      " dense_4 (Dense)             (None, 64)                8256      \n",
      "                                                                 \n",
      " dropout_4 (Dropout)         (None, 64)                0         \n",
      "                                                                 \n",
      " dense_5 (Dense)             (None, 23)                1495      \n",
      "                                                                 \n",
      "=================================================================\n",
      "Total params: 1320087 (5.04 MB)\n",
      "Trainable params: 1320087 (5.04 MB)\n",
      "Non-trainable params: 0 (0.00 Byte)\n",
      "_________________________________________________________________\n"
     ]
    }
   ],
   "source": [
    "model = Sequential()\n",
    "model.add(Embedding(vocab_size, embed_size, input_length=maxlen))\n",
    "model.add(Bidirectional(LSTM(128, return_sequences=True))) \n",
    "model.add(Bidirectional(LSTM(64, return_sequences=True)))\n",
    "model.add(GlobalMaxPooling1D()) #Pooling Layer decreases sensitivity to features, thereby creating more generalised data for better test results.\n",
    "model.add(Dense(1024))\n",
    "model.add(Dropout(0.25)) #Dropout layer nullifies certain random input values to generate a more general dataset and prevent the problem of overfitting.\n",
    "model.add(Dense(512))\n",
    "model.add(Dropout(0.25))\n",
    "model.add(Dense(256))\n",
    "model.add(Dropout(0.25))\n",
    "model.add(Dense(128))\n",
    "model.add(Dropout(0.25))\n",
    "model.add(Dense(64))\n",
    "model.add(Dropout(0.25))\n",
    "model.add(Dense(23, activation='softmax')) #softmax is used as the activation function for multi-class classification problems where class membership is required on more than two class labels.\n",
    "model.summary()"
   ]
  },
  {
   "cell_type": "markdown",
   "id": "8989008e",
   "metadata": {
    "id": "sgzzfcVpf1gA",
    "papermill": {
     "duration": 0.021488,
     "end_time": "2023-11-25T03:38:50.270203",
     "exception": false,
     "start_time": "2023-11-25T03:38:50.248715",
     "status": "completed"
    },
    "tags": []
   },
   "source": [
    "## Compile and Fit Model"
   ]
  },
  {
   "cell_type": "code",
   "execution_count": 31,
   "id": "3ee26686",
   "metadata": {
    "execution": {
     "iopub.execute_input": "2023-11-25T03:38:50.315656Z",
     "iopub.status.busy": "2023-11-25T03:38:50.314805Z",
     "iopub.status.idle": "2023-11-25T03:39:05.726999Z",
     "shell.execute_reply": "2023-11-25T03:39:05.726036Z"
    },
    "id": "5-q_1d0zfvex",
    "papermill": {
     "duration": 15.437642,
     "end_time": "2023-11-25T03:39:05.729318",
     "exception": false,
     "start_time": "2023-11-25T03:38:50.291676",
     "status": "completed"
    },
    "tags": [],
    "ExecuteTime": {
     "end_time": "2023-11-25T10:24:47.357796700Z",
     "start_time": "2023-11-25T10:24:47.230567600Z"
    }
   },
   "outputs": [
    {
     "name": "stderr",
     "output_type": "stream",
     "text": [
      "\u001B[34m\u001B[1mwandb\u001B[0m: \u001B[33mWARNING\u001B[0m The save_model argument by default saves the model in the HDF5 format that cannot save custom objects like subclassed models and custom layers. This behavior will be deprecated in a future release in favor of the SavedModel format. Meanwhile, the HDF5 model is saved as W&B files and the SavedModel as W&B Artifacts.\n"
     ]
    }
   ],
   "source": [
    "callbacks = [\n",
    "    EarlyStopping(     #EarlyStopping is used to stop at the epoch where val_accuracy does not improve significantly\n",
    "        monitor='val_accuracy',\n",
    "        min_delta=1e-4,\n",
    "        patience=4,\n",
    "        verbose=1\n",
    "    ),\n",
    "    ModelCheckpoint(\n",
    "        filepath='weights.h5',\n",
    "        monitor='val_accuracy', \n",
    "        mode='max', \n",
    "        save_best_only=True,\n",
    "        save_weights_only=True,\n",
    "        verbose=1\n",
    "    ),\n",
    "    WandbCallback()\n",
    "]"
   ]
  },
  {
   "cell_type": "code",
   "execution_count": null,
   "id": "f429b8d2",
   "metadata": {
    "execution": {
     "iopub.execute_input": "2023-11-25T03:39:05.774615Z",
     "iopub.status.busy": "2023-11-25T03:39:05.774297Z",
     "iopub.status.idle": "2023-11-25T03:39:31.177336Z",
     "shell.execute_reply": "2023-11-25T03:39:31.176092Z"
    },
    "id": "VtRefm2uf1Az",
    "outputId": "ad9130e5-44f9-4fad-ee2c-e94fc9a60f33",
    "papermill": {
     "duration": 25.427715,
     "end_time": "2023-11-25T03:39:31.179074",
     "exception": true,
     "start_time": "2023-11-25T03:39:05.751359",
     "status": "failed"
    },
    "tags": [],
    "is_executing": true,
    "ExecuteTime": {
     "start_time": "2023-11-25T10:24:48.556267700Z"
    }
   },
   "outputs": [
    {
     "name": "stdout",
     "output_type": "stream",
     "text": [
      "Epoch 1/30\n"
     ]
    }
   ],
   "source": [
    "#Compile and Fit Model\n",
    "\n",
    "model.compile(loss='sparse_categorical_crossentropy', #Sparse Categorical Crossentropy Loss because data is not one-hot encoded\n",
    "              optimizer='adam', \n",
    "              metrics=['accuracy']) \n",
    "\n",
    "model.fit(X_train, \n",
    "          y_train, \n",
    "          batch_size=15000, \n",
    "          validation_data=(x_test, y_test), \n",
    "          epochs=30, \n",
    "          callbacks=callbacks)\n",
    "keras.backend.clear_session()\n",
    "gc.collect()\n",
    "\n",
    "# Close W&B run\n",
    "wandb.finish()"
   ]
  },
  {
   "cell_type": "markdown",
   "id": "c679de35",
   "metadata": {
    "id": "wDTCvp8GgBrZ",
    "papermill": {
     "duration": null,
     "end_time": null,
     "exception": null,
     "start_time": null,
     "status": "pending"
    },
    "tags": []
   },
   "source": [
    "## Load Weights with Best val Accuracy"
   ]
  },
  {
   "cell_type": "code",
   "execution_count": null,
   "id": "f3f373b3",
   "metadata": {
    "id": "T-MMQ-HDf8Oo",
    "papermill": {
     "duration": null,
     "end_time": null,
     "exception": null,
     "start_time": null,
     "status": "pending"
    },
    "tags": []
   },
   "outputs": [],
   "source": [
    "#model.load_weights('weights.h5')\n",
    "model.save(r'/kaggle/working/model.hdf5')"
   ]
  },
  {
   "cell_type": "markdown",
   "id": "9ff0719f",
   "metadata": {
    "id": "s_kfJnmngKKE",
    "papermill": {
     "duration": null,
     "end_time": null,
     "exception": null,
     "start_time": null,
     "status": "pending"
    },
    "tags": []
   },
   "source": [
    "## Model Demo"
   ]
  },
  {
   "cell_type": "code",
   "execution_count": null,
   "id": "fa67e774",
   "metadata": {
    "id": "ZQuZfwhBD4Ie",
    "papermill": {
     "duration": null,
     "end_time": null,
     "exception": null,
     "start_time": null,
     "status": "pending"
    },
    "tags": []
   },
   "outputs": [],
   "source": [
    "# def modelDemo(news_text):\n",
    "\n",
    "#   #News Labels\n",
    "#   labels = ['World News', 'Sports News', 'Business News', 'Science-Technology News']\n",
    "\n",
    "#   test_seq = pad_sequences(tok.texts_to_sequences(news_text), maxlen=maxlen)\n",
    "\n",
    "#   test_preds = [labels[np.argmax(i)] for i in model.predict(test_seq)]\n",
    "\n",
    "#   for news, label in zip(news_text, test_preds):\n",
    "#       # print('{} - {}'.format(news, label))\n",
    "#       print('{} - {}'.format(colored(news, 'yellow'), colored(label, 'blue')))\n"
   ]
  },
  {
   "cell_type": "code",
   "execution_count": null,
   "id": "e5bed5fe",
   "metadata": {
    "id": "CDf9lcCbgMio",
    "outputId": "65ae9ab0-748d-48d0-adb4-7dc52219617e",
    "papermill": {
     "duration": null,
     "end_time": null,
     "exception": null,
     "start_time": null,
     "status": "pending"
    },
    "tags": []
   },
   "outputs": [],
   "source": [
    "# modelDemo(['New evidence of virus risks from wildlife trade'])"
   ]
  },
  {
   "cell_type": "code",
   "execution_count": null,
   "id": "166632fb",
   "metadata": {
    "id": "eHGCrE5QGM8h",
    "outputId": "0411d085-851c-491e-954e-f96b780d26dd",
    "papermill": {
     "duration": null,
     "end_time": null,
     "exception": null,
     "start_time": null,
     "status": "pending"
    },
    "tags": []
   },
   "outputs": [],
   "source": [
    "# modelDemo(['Coronavirus: Bank pumps £100bn into UK economy to aid recovery'])"
   ]
  },
  {
   "cell_type": "code",
   "execution_count": null,
   "id": "f128b56d",
   "metadata": {
    "id": "RwR7WtOsGPKr",
    "outputId": "7b596a86-cbda-40b4-d7ad-b0739518c858",
    "papermill": {
     "duration": null,
     "end_time": null,
     "exception": null,
     "start_time": null,
     "status": "pending"
    },
    "tags": []
   },
   "outputs": [],
   "source": [
    "# modelDemo(['Trump\\'s bid to end Obama-era immigration policy ruled unlawful'])"
   ]
  },
  {
   "cell_type": "code",
   "execution_count": null,
   "id": "c9ec0fe1",
   "metadata": {
    "id": "CV_QQqOvGRP-",
    "outputId": "01e6c123-c25d-4608-b69e-5641d6ef7904",
    "papermill": {
     "duration": null,
     "end_time": null,
     "exception": null,
     "start_time": null,
     "status": "pending"
    },
    "tags": []
   },
   "outputs": [],
   "source": [
    "# modelDemo(['David Luiz’s future with Arsenal to be decided this week'])"
   ]
  },
  {
   "cell_type": "code",
   "execution_count": null,
   "id": "81f79dce",
   "metadata": {
    "id": "_xT-m6eSGTwB",
    "outputId": "98ab8f22-7b20-4cd0-971a-5ba35422babf",
    "papermill": {
     "duration": null,
     "end_time": null,
     "exception": null,
     "start_time": null,
     "status": "pending"
    },
    "tags": []
   },
   "outputs": [],
   "source": [
    "# modelDemo(['Indian Economic budget supports the underprivileged sections of society'])"
   ]
  },
  {
   "cell_type": "markdown",
   "id": "e66b96b9",
   "metadata": {
    "id": "pbry6RbQgQzQ",
    "papermill": {
     "duration": null,
     "end_time": null,
     "exception": null,
     "start_time": null,
     "status": "pending"
    },
    "tags": []
   },
   "source": [
    "## Model Evaluation"
   ]
  },
  {
   "cell_type": "markdown",
   "id": "c59cc50f",
   "metadata": {
    "id": "cLEKOeTUoSI9",
    "papermill": {
     "duration": null,
     "end_time": null,
     "exception": null,
     "start_time": null,
     "status": "pending"
    },
    "tags": []
   },
   "source": [
    "### Confusion Matrix"
   ]
  },
  {
   "cell_type": "code",
   "execution_count": null,
   "id": "d7a5c075",
   "metadata": {
    "id": "HZow3p11gUex",
    "outputId": "693f663d-3af0-4f1f-8d94-2c09944d6e79",
    "papermill": {
     "duration": null,
     "end_time": null,
     "exception": null,
     "start_time": null,
     "status": "pending"
    },
    "tags": []
   },
   "outputs": [],
   "source": [
    "# labels = ['World News', 'Sports News', 'Business News', 'Science-Technology News']\n",
    "# preds = [np.argmax(i) for i in model.predict(x_test)]\n",
    "# cm  = confusion_matrix(y_test, preds)\n",
    "# plt.figure()\n",
    "# plot_confusion_matrix(cm, figsize=(16,12), hide_ticks=True, cmap=plt.cm.Blues)\n",
    "# plt.xticks(range(4), labels, fontsize=12)\n",
    "# plt.yticks(range(4), labels, fontsize=12)\n",
    "# plt.show()"
   ]
  },
  {
   "cell_type": "markdown",
   "id": "47babe0d",
   "metadata": {
    "id": "LtJzlv3agZqq",
    "papermill": {
     "duration": null,
     "end_time": null,
     "exception": null,
     "start_time": null,
     "status": "pending"
    },
    "tags": []
   },
   "source": [
    "### Recall, Precision and Accuracy"
   ]
  },
  {
   "cell_type": "code",
   "execution_count": null,
   "id": "8dc3a530",
   "metadata": {
    "id": "AO_8EartgbcE",
    "outputId": "1802de9c-f20a-4879-c960-62670e4d4b02",
    "papermill": {
     "duration": null,
     "end_time": null,
     "exception": null,
     "start_time": null,
     "status": "pending"
    },
    "tags": []
   },
   "outputs": [],
   "source": [
    "# print(\"Recall of the model is {:.2f}\".format(recall_score(y_test, preds, average='micro')))\n",
    "# print(\"Precision of the model is {:.2f}\".format(precision_score(y_test, preds, average='micro')))\n",
    "# print(\"Accuracy of the model is {:.2f}\".format(accuracy_score(y_test, preds)))"
   ]
  }
 ],
 "metadata": {
  "kaggle": {
   "accelerator": "gpu",
   "dataSources": [
    {
     "datasetId": 612351,
     "sourceId": 1095715,
     "sourceType": "datasetVersion"
    },
    {
     "datasetId": 2222238,
     "sourceId": 3715281,
     "sourceType": "datasetVersion"
    },
    {
     "datasetId": 4050386,
     "sourceId": 7040111,
     "sourceType": "datasetVersion"
    }
   ],
   "isGpuEnabled": true,
   "isInternetEnabled": true,
   "language": "python",
   "sourceType": "notebook"
  },
  "kernelspec": {
   "display_name": "Python 3",
   "language": "python",
   "name": "python3"
  },
  "language_info": {
   "codemirror_mode": {
    "name": "ipython",
    "version": 3
   },
   "file_extension": ".py",
   "mimetype": "text/x-python",
   "name": "python",
   "nbconvert_exporter": "python",
   "pygments_lexer": "ipython3",
   "version": "3.10.12"
  },
  "papermill": {
   "default_parameters": {},
   "duration": 393.01445,
   "end_time": "2023-11-25T03:39:34.524529",
   "environment_variables": {},
   "exception": true,
   "input_path": "__notebook__.ipynb",
   "output_path": "__notebook__.ipynb",
   "parameters": {},
   "start_time": "2023-11-25T03:33:01.510079",
   "version": "2.4.0"
  }
 },
 "nbformat": 4,
 "nbformat_minor": 5
}
