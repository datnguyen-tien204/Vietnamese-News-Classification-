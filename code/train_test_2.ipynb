{
 "cells": [
  {
   "cell_type": "code",
   "execution_count": 1,
   "metadata": {
    "ExecuteTime": {
     "end_time": "2023-11-22T09:48:20.918450300Z",
     "start_time": "2023-11-22T09:48:16.828165600Z"
    }
   },
   "outputs": [],
   "source": [
    "%load_ext autoreload\n",
    "%autoreload 2\n",
    "\n",
    "import torch\n",
    "import torch.nn as nn\n",
    "import numpy as np\n",
    "from tqdm import tqdm\n",
    "from sklearn.model_selection import train_test_split\n",
    "from torch.utils.data import DataLoader\n",
    "from torch.optim import lr_scheduler\n",
    "import pandas as pd\n",
    "import os\n",
    "import matplotlib.pyplot as plt\n",
    "from sklearn.metrics import confusion_matrix\n",
    "from sklearn.metrics import f1_score\n",
    "\n",
    "from sklearn.utils import class_weight\n",
    "from pyvi import ViTokenizer\n",
    "from sklearn.metrics import confusion_matrix,classification_report\n",
    "from collections import Counter\n",
    "from sklearn.utils import resample\n",
    "from utils import load_checkpoint"
   ]
  },
  {
   "cell_type": "code",
   "execution_count": 2,
   "metadata": {
    "ExecuteTime": {
     "end_time": "2023-11-22T09:48:24.886981300Z",
     "start_time": "2023-11-22T09:48:20.918450300Z"
    }
   },
   "outputs": [],
   "source": [
    "from model import AttentionModel\n",
    "from dataset import TextDataset"
   ]
  },
  {
   "cell_type": "code",
   "execution_count": 3,
   "metadata": {
    "ExecuteTime": {
     "end_time": "2023-11-22T09:48:25.151446100Z",
     "start_time": "2023-11-22T09:48:24.888988100Z"
    }
   },
   "outputs": [],
   "source": [
    "from torch.utils.tensorboard import SummaryWriter\n",
    "writer = SummaryWriter()"
   ]
  },
  {
   "cell_type": "markdown",
   "metadata": {},
   "source": [
    "# Load data"
   ]
  },
  {
   "cell_type": "code",
   "execution_count": 4,
   "metadata": {
    "ExecuteTime": {
     "end_time": "2023-11-22T09:48:25.400579900Z",
     "start_time": "2023-11-22T09:48:25.152680100Z"
    }
   },
   "outputs": [],
   "source": [
    "data_path = '../data'\n",
    "model_path = '../model'"
   ]
  },
  {
   "cell_type": "code",
   "execution_count": 5,
   "metadata": {
    "ExecuteTime": {
     "end_time": "2023-11-22T09:48:50.488651800Z",
     "start_time": "2023-11-22T09:48:47.158279500Z"
    }
   },
   "outputs": [],
   "source": [
    "df_ = pd.read_csv(os.path.join(r'E:\\NLP\\Vietnamese-Text-Classification-master\\data\\labeled_data.csv'))"
   ]
  },
  {
   "cell_type": "code",
   "execution_count": 6,
   "metadata": {
    "ExecuteTime": {
     "end_time": "2023-11-22T09:48:51.841534900Z",
     "start_time": "2023-11-22T09:48:51.587220600Z"
    }
   },
   "outputs": [
    {
     "name": "stderr",
     "output_type": "stream",
     "text": [
      "C:\\Users\\nguye\\AppData\\Local\\Temp\\ipykernel_28524\\288649093.py:2: SettingWithCopyWarning: \n",
      "A value is trying to be set on a copy of a slice from a DataFrame.\n",
      "Try using .loc[row_indexer,col_indexer] = value instead\n",
      "\n",
      "See the caveats in the documentation: https://pandas.pydata.org/pandas-docs/stable/user_guide/indexing.html#returning-a-view-versus-a-copy\n",
      "  question['label'] = [item-1 for item in list(question['label'])]\n"
     ]
    },
    {
     "data": {
      "text/plain": "     label                                            content\n0        0  thầy cho em hỏi nếu mình đã trúng tuyển chương...\n2        0  cho em hỏi chương trình chất lượng cao ở bách ...\n3        0  cho em hỏi nếu em đã trúng tuyển chương trình ...\n5        1  cho em hỏi chỉ tiêu ngành khoa học máy tính nă...\n8        1  cho em hỏi ngành khoa học máy tính có những hì...\n..     ...                                                ...\n428      2  cho em hỏi về ngành kỹ thuật hoá học và cơ hội...\n429      2    cho em xin giới thiệu về ngành kỹ thuật robot ạ\n430      2  ngành khoa học máy tính sau này ra làm công vi...\n431      2  em muốn học tự động hoá thì tương lai sẽ có ng...\n432      2  dạ cho em hỏi về đầu ra và cơ hội nghề nghiệp ...\n\n[346 rows x 2 columns]",
      "text/html": "<div>\n<style scoped>\n    .dataframe tbody tr th:only-of-type {\n        vertical-align: middle;\n    }\n\n    .dataframe tbody tr th {\n        vertical-align: top;\n    }\n\n    .dataframe thead th {\n        text-align: right;\n    }\n</style>\n<table border=\"1\" class=\"dataframe\">\n  <thead>\n    <tr style=\"text-align: right;\">\n      <th></th>\n      <th>label</th>\n      <th>content</th>\n    </tr>\n  </thead>\n  <tbody>\n    <tr>\n      <th>0</th>\n      <td>0</td>\n      <td>thầy cho em hỏi nếu mình đã trúng tuyển chương...</td>\n    </tr>\n    <tr>\n      <th>2</th>\n      <td>0</td>\n      <td>cho em hỏi chương trình chất lượng cao ở bách ...</td>\n    </tr>\n    <tr>\n      <th>3</th>\n      <td>0</td>\n      <td>cho em hỏi nếu em đã trúng tuyển chương trình ...</td>\n    </tr>\n    <tr>\n      <th>5</th>\n      <td>1</td>\n      <td>cho em hỏi chỉ tiêu ngành khoa học máy tính nă...</td>\n    </tr>\n    <tr>\n      <th>8</th>\n      <td>1</td>\n      <td>cho em hỏi ngành khoa học máy tính có những hì...</td>\n    </tr>\n    <tr>\n      <th>...</th>\n      <td>...</td>\n      <td>...</td>\n    </tr>\n    <tr>\n      <th>428</th>\n      <td>2</td>\n      <td>cho em hỏi về ngành kỹ thuật hoá học và cơ hội...</td>\n    </tr>\n    <tr>\n      <th>429</th>\n      <td>2</td>\n      <td>cho em xin giới thiệu về ngành kỹ thuật robot ạ</td>\n    </tr>\n    <tr>\n      <th>430</th>\n      <td>2</td>\n      <td>ngành khoa học máy tính sau này ra làm công vi...</td>\n    </tr>\n    <tr>\n      <th>431</th>\n      <td>2</td>\n      <td>em muốn học tự động hoá thì tương lai sẽ có ng...</td>\n    </tr>\n    <tr>\n      <th>432</th>\n      <td>2</td>\n      <td>dạ cho em hỏi về đầu ra và cơ hội nghề nghiệp ...</td>\n    </tr>\n  </tbody>\n</table>\n<p>346 rows × 2 columns</p>\n</div>"
     },
     "execution_count": 6,
     "metadata": {},
     "output_type": "execute_result"
    }
   ],
   "source": [
    "question = df_[df_['label']!=0]\n",
    "question['label'] = [item-1 for item in list(question['label'])]\n",
    "question"
   ]
  },
  {
   "cell_type": "code",
   "execution_count": 7,
   "metadata": {
    "ExecuteTime": {
     "end_time": "2023-11-22T09:48:52.815816900Z",
     "start_time": "2023-11-22T09:48:52.581817900Z"
    }
   },
   "outputs": [],
   "source": [
    "class_0 = question[question['label']==0]\n",
    "class_0_upsampled = resample(class_0,random_state=42,n_samples=90-len(class_0),replace=True)\n",
    "question_upsampled = pd.concat([question, class_0_upsampled])"
   ]
  },
  {
   "cell_type": "code",
   "execution_count": 8,
   "metadata": {
    "ExecuteTime": {
     "end_time": "2023-11-22T09:48:53.809609300Z",
     "start_time": "2023-11-22T09:48:53.567698Z"
    }
   },
   "outputs": [
    {
     "data": {
      "text/plain": "2    148\n1    122\n0     90\nName: label, dtype: int64"
     },
     "execution_count": 8,
     "metadata": {},
     "output_type": "execute_result"
    }
   ],
   "source": [
    "question_upsampled['label'].value_counts()"
   ]
  },
  {
   "cell_type": "code",
   "execution_count": 9,
   "metadata": {
    "ExecuteTime": {
     "end_time": "2023-11-22T09:48:54.284626100Z",
     "start_time": "2023-11-22T09:48:54.082592700Z"
    }
   },
   "outputs": [],
   "source": [
    "question  = question_upsampled"
   ]
  },
  {
   "cell_type": "code",
   "execution_count": 10,
   "metadata": {
    "ExecuteTime": {
     "end_time": "2023-11-22T09:48:54.916680Z",
     "start_time": "2023-11-22T09:48:54.704038800Z"
    }
   },
   "outputs": [],
   "source": [
    "question['length'] = [len(item) for item in list(question['content'])]\n",
    "question['num_word'] = [len(item.split(' ')) for item in list(question['content'])]"
   ]
  },
  {
   "cell_type": "code",
   "execution_count": 11,
   "outputs": [
    {
     "name": "stdout",
     "output_type": "stream",
     "text": [
      "     label                                            content  length  \\\n",
      "0        0  thầy cho em hỏi nếu mình đã trúng tuyển chương...     159   \n",
      "2        0  cho em hỏi chương trình chất lượng cao ở bách ...     106   \n",
      "3        0  cho em hỏi nếu em đã trúng tuyển chương trình ...     148   \n",
      "5        1  cho em hỏi chỉ tiêu ngành khoa học máy tính nă...     108   \n",
      "8        1  cho em hỏi ngành khoa học máy tính có những hì...      70   \n",
      "..     ...                                                ...     ...   \n",
      "118      0  cho em hỏi là học xây dựng trường mình xong th...      87   \n",
      "262      0           chương trình việt pháp học phí thế nào ạ      40   \n",
      "2        0  cho em hỏi chương trình chất lượng cao ở bách ...     106   \n",
      "145      0  dạ cho em hỏi ngành hóa liên kết quốc tế với t...      57   \n",
      "182      0  cho em hỏi thời gian pre uni học tiếng anh đối...     109   \n",
      "\n",
      "     num_word  \n",
      "0          33  \n",
      "2          24  \n",
      "3          31  \n",
      "5          25  \n",
      "8          16  \n",
      "..        ...  \n",
      "118        21  \n",
      "262         9  \n",
      "2          24  \n",
      "145        14  \n",
      "182        24  \n",
      "\n",
      "[360 rows x 4 columns]\n"
     ]
    }
   ],
   "source": [
    "print(question)"
   ],
   "metadata": {
    "collapsed": false,
    "ExecuteTime": {
     "end_time": "2023-11-22T09:48:55.466675300Z",
     "start_time": "2023-11-22T09:48:55.240327600Z"
    }
   }
  },
  {
   "cell_type": "code",
   "execution_count": 12,
   "metadata": {
    "ExecuteTime": {
     "end_time": "2023-11-22T09:48:56.071580200Z",
     "start_time": "2023-11-22T09:48:55.878730300Z"
    }
   },
   "outputs": [
    {
     "data": {
      "text/plain": "17.336111111111112"
     },
     "execution_count": 12,
     "metadata": {},
     "output_type": "execute_result"
    }
   ],
   "source": [
    "np.mean(question['num_word'])"
   ]
  },
  {
   "cell_type": "code",
   "execution_count": 13,
   "metadata": {
    "ExecuteTime": {
     "end_time": "2023-11-22T09:48:56.816831900Z",
     "start_time": "2023-11-22T09:48:56.420338600Z"
    }
   },
   "outputs": [
    {
     "data": {
      "text/plain": "(array([36., 81., 77., 61., 39., 30., 25.,  5.,  3.,  3.]),\n array([ 6. ,  9.6, 13.2, 16.8, 20.4, 24. , 27.6, 31.2, 34.8, 38.4, 42. ]),\n <BarContainer object of 10 artists>)"
     },
     "execution_count": 13,
     "metadata": {},
     "output_type": "execute_result"
    },
    {
     "data": {
      "text/plain": "<Figure size 640x480 with 1 Axes>",
      "image/png": "[encoded data removed]"
     },
     "metadata": {},
     "output_type": "display_data"
    }
   ],
   "source": [
    "plt.hist(list(question['num_word']), bins = 10)"
   ]
  },
  {
   "cell_type": "code",
   "execution_count": 14,
   "metadata": {
    "ExecuteTime": {
     "end_time": "2023-11-22T09:48:57.122648Z",
     "start_time": "2023-11-22T09:48:56.925319800Z"
    }
   },
   "outputs": [],
   "source": [
    "def tokenize(text):\n",
    "    list_token = ViTokenizer.tokenize(text)\n",
    "    return list_token.split(' ')"
   ]
  },
  {
   "cell_type": "code",
   "execution_count": 15,
   "metadata": {
    "scrolled": true,
    "ExecuteTime": {
     "end_time": "2023-11-22T09:48:57.928961600Z",
     "start_time": "2023-11-22T09:48:57.642902300Z"
    }
   },
   "outputs": [],
   "source": [
    "counts = Counter()\n",
    "for index, row in question.iterrows():\n",
    "    counts.update(tokenize(row['content']))"
   ]
  },
  {
   "cell_type": "code",
   "execution_count": 16,
   "outputs": [
    {
     "name": "stdout",
     "output_type": "stream",
     "text": [
      "dict_items([('thầy', 70), ('cho', 182), ('em', 191), ('hỏi', 174), ('nếu', 13), ('mình', 33), ('đã', 4), ('trúng_tuyển', 4), ('chương_trình', 78), ('đại_trà', 19), ('thì', 61), ('có_thể', 22), ('đổi', 1), ('sang', 8), ('chất_lượng', 56), ('cao', 61), ('tiếng', 20), ('anh', 22), ('hoặc', 4), ('tiên_tiến', 4), ('được', 57), ('không', 138), ('ạ', 329), ('ở', 22), ('bách_khoa', 13), ('có', 140), ('học', 73), ('hoàn_toàn', 4), ('trên', 3), ('cơ_sở', 2), ('lý', 2), ('thường', 7), ('kiệt', 2), ('chuyển', 6), ('chỉ_tiêu', 20), ('ngành', 184), ('khoa_học', 35), ('máy_tính', 43), ('năm', 28), ('nay', 17), ('bao_nhiêu', 31), ('và', 60), ('giới_thiệu', 3), ('về', 79), ('với', 31), ('những', 30), ('hình_thức', 3), ('tuyển_sinh', 12), ('nào', 46), ('sau', 10), ('khi', 25), ('xong', 4), ('4', 3), ('kỹ_sư', 20), ('việt', 20), ('nhật', 12), ('trường', 52), ('sẽ', 22), ('qua', 3), ('tiếp_tục', 1), ('hay', 21), ('làm_việc', 4), ('giảng_dạy', 3), ('bằng', 15), ('sao', 17), ('kỹ', 2), ('thật', 2), ('điện', 15), ('điện_tử', 10), ('cơ_hội', 23), ('việc_làm', 17), ('ra', 19), ('kỹ_thuật', 100), ('hàng', 10), ('tăng_cường', 1), ('là', 47), ('quản_lí', 4), ('công_nghiệp', 12), ('nó', 4), ('triển_vọng', 2), ('như', 39), ('thế_nào', 41), ('thưa', 4), ('các', 12), ('muốn', 19), ('fce', 1), ('b2', 1), ('rồi', 3), ('cần', 10), ('phải', 8), ('thi', 17), ('ielts', 2), ('vào', 13), ('e', 42), ('tự_động', 6), ('hóa', 8), ('cơ_điện_tử', 7), ('khác', 32), ('nhau', 23), ('chỗ', 3), ('ứng_dụng', 1), ('thực_tế', 1), ('tại', 1), ('nam', 2), ('tốt', 4), ('hơn', 10), ('nữ', 1), ('vật_liệu', 4), ('nhiều', 5), ('dễ', 2), ('xin', 19), ('việc', 8), ('nên', 8), ('pháp', 11), ('bên', 6), ('chừng', 1), ('mới', 3), ('điểm_chuẩn', 2), ('logistics', 10), ('hàng_không', 3), ('của', 41), ('làm', 17), ('gì', 33), ('sau_này', 10), ('còn', 5), ('kiến_trúc', 14), ('dạy', 5), ('toàn', 1), ('anh_chị', 3), ('chia_sẻ', 1), ('1', 5), ('vài', 1), ('kinh_nghiệm', 1), ('để', 7), ('tiếp_thu', 1), ('cơ', 6), ('thêm', 8), ('giúp', 5), ('sự', 5), ('khác_biệt', 3), ('giữa', 5), ('đk', 3), ('anh_em', 2), ('vậy', 32), ('hệ', 15), ('rủi_ro', 1), ('trung_học', 7), ('phổ_thông', 8), ('khoảng', 3), ('nhiêu', 3), ('ơi', 25), ('con_gái', 1), ('có_học', 3), ('mê', 1), ('lắm', 2), ('rộng', 2), ('hẹp', 2), ('so', 3), ('chú', 2), ('con', 3), ('đang', 2), ('bắt_đầu', 1), ('thứ', 2), ('2', 5), ('đại_học', 6), ('đâu', 8), ('cháu', 1), ('đào_tạo', 11), ('chuyên_sâu', 1), ('từng', 1), ('nội_dung', 1), ('thấy', 3), ('quá', 2), ('nhìu', 1), ('mảng', 2), ('đạo', 1), ('tạo', 1), ('viễn_thông', 3), ('hỏi_thăm', 1), ('sinh_viên', 6), ('tốt_nghiệp', 12), ('đăng_ký', 8), ('văn_bằng', 1), ('đăng_kí', 8), ('số', 1), ('nguyện_vọng', 6), ('theo', 15), ('phuong', 1), ('thức', 1), ('cũng', 2), ('đúng', 3), ('208', 2), ('mn', 1), ('ai', 6), ('điểm', 28), ('nhát', 1), ('nhóm', 3), ('xây_dựng', 9), ('chọn', 2), ('xíu', 1), ('môi_trường', 12), ('quản_lý_tài_nguyên', 1), ('nghề_nghiệp', 5), ('nữa', 3), ('đi', 14), ('vật_lý', 3), ('điều_khiển', 6), ('tự_động_hoá', 3), ('giống', 2), ('phần_mềm', 1), ('dầu_khí', 14), ('phân_tích', 1), ('thử', 1), ('cơ_khí', 6), ('bão', 2), ('dưỡng', 2), ('tư_vấn', 15), ('dùm', 1), ('khó', 1), ('cô', 12), ('yêu_cầu', 4), ('chuẩn', 3), ('đầu_ra', 4), ('dạ', 21), ('xét', 93), ('tuyển', 79), ('cách', 3), ('làm_sao', 3), ('quay', 2), ('lại', 4), ('priev', 2), ('vô', 1), ('chào', 4), ('khoa', 7), ('hướng', 4), ('hôm_nay', 1), ('nói', 8), ('này', 7), ('nhỉ', 1), ('công_nghệ', 32), ('sinh_học', 10), ('kết_quả', 7), ('đánh_giá', 21), ('năng_lực', 20), ('bình_thường', 1), ('ví_dụ', 1), ('tín_chỉ', 1), ('thuộc', 3), ('dt', 1), ('đối_tượng', 1), ('vùng', 1), ('giảm', 2), ('học_phí', 4), ('du_học', 3), ('máy_tính_chất_lượng', 3), ('cao_vậy', 4), ('biết', 5), ('bảo_dưỡng', 6), ('hộ', 1), ('chút', 1), ('học_bạ', 16), ('hồ_sơ', 8), ('gồm', 2), ('loại', 1), ('thời_gian', 6), ('nộp', 8), ('thông_tin', 13), ('điều_kiện', 3), ('liên_kết', 19), ('vẫn', 5), ('tài_năng', 6), ('hoá_ra', 3), ('hoá_học', 10), ('vay', 1), ('chi', 1), ('giỏi', 7), ('rõ', 5), ('cụ_thể', 2), ('trong', 4), ('công_việc', 5), ('dạ_con', 1), ('câu', 1), ('trí_tuệ', 4), ('nhân_tạo', 3), ('kỹ_thuật_hóa', 5), ('bách_khoa_hóa', 1), ('nước_ngoài', 4), ('nhưng', 2), ('chưa', 5), ('6', 1), ('0', 1), ('điều', 1), ('khiểu', 1), ('quý', 1), ('vơi', 1), ('xu_hướng', 1), ('tuyển_dụng', 1), ('xậy', 1), ('dựng', 1), ('robot', 4), ('cảm_ơn', 5), ('ngành_hóa', 2), ('quốc_tế', 6), ('chuyên_ngành', 2), ('rẽ', 1), ('đầu_vào', 2), ('đảm_bảo', 2), ('định_hướng', 2), ('ô_tô', 9), ('tương_lai', 5), ('hả', 1), ('quy_chế', 1), ('thay_đổi', 1), ('xu_thế', 2), ('phương_thức', 10), ('điều_chỉnh', 1), ('y_sinh', 2), ('cuộc', 1), ('lịch', 1), ('chính_thức', 1), ('chứng_chỉ', 2), ('liên_thông', 1), ('từ_trường', 1), ('trung_cấp', 1), ('nghề', 2), ('lên', 2), ('ưu_tiên', 41), ('3', 2), ('môn', 4), ('khối', 3), ('thôi', 1), ('hay_là', 2), ('trung_bình', 2), ('tất_cả', 1), ('tiêu_chí', 4), ('thẳng', 6), ('hòi', 1), ('hoc', 1), ('tư', 2), ('đông_hóa', 1), ('nhât', 1), ('bản', 1), ('thi_tuyển', 1), ('năm_ngoái', 3), ('dự_định', 4), ('cấp', 3), ('ba', 3), ('đều', 2), ('học_sinh', 6), ('tổng_kết_toán', 1), ('lí', 1), ('hoá', 2), ('83', 1), ('giấy', 1), ('chứng_nhận', 1), ('tỉnh', 4), ('giải', 5), ('đầu_tiên', 1), ('từ', 2), ('cái', 3), ('phú', 1), ('nhuận', 1), ('thành_phố', 2), ('hồ', 2), ('chí', 2), ('minh', 2), ('chính_quy', 5), ('pre', 3), ('uni', 2), ('đối_với', 5), ('kéo_dài', 2), ('ứng_tuyển', 1), ('dao_động', 1), ('chuyên', 4), ('ad', 6), ('chẳng_hạn', 1), ('lấy', 11), ('kì', 2), ('lớp', 8), ('10', 2), ('đề_tài', 1), ('đặt', 1), ('quốc_gia', 6), ('lĩnh_vực', 1), ('tôi', 1), ('11', 1), ('ky', 1), ('12', 2), ('hy_vọng', 1), ('đạt', 1), ('học_kỳ', 1), ('lê_thánh', 1), ('tông', 1), ('hội', 1), ('an', 1), ('quảng_nam', 1), ('top', 1), ('nhất', 1), ('đó', 1), ('thí_sinh', 1), ('tự_do', 1), ('dùng', 2), ('2020', 1), ('mong', 1), ('btv', 1), ('trả_lời', 2), ('chấm', 1), ('chủ_yếu', 1), ('cả', 3), ('mọi', 1), ('danh_sách', 2), ('xem', 3), ('diện', 4), ('quản_lý', 2), ('a00', 1), ('phụ', 2), ('văn', 1), ('chuẩn_bị', 2), ('hạn', 1), ('chót', 1), ('bao_giờ', 2), ('theo_dõi', 1), ('nhà_trường', 1), ('bào', 1), ('phần_trăm', 1), ('mục', 1), ('duy_trì', 1), ('vừa', 4), ('oto', 1), ('chỉ_tiêu_thế', 2), ('dự_kiến', 1), ('ôtô', 3), ('hết', 1), ('ngày', 3), ('công_bố', 5), ('trước', 3), ('ngoài', 2), ('bắc', 1), ('chắc_chắn', 1), ('thực_phẩm', 6), ('thế', 2), ('review', 3), ('hoá_sinh', 1), ('mở', 1), ('công_nghệ_sinh', 1), ('a', 1), ('chị', 1), ('tí', 1), ('đây', 3), ('ôn', 1), ('đề', 1), ('thi_công_nghệ_nhiệt', 1), ('tính', 2), ('chốt', 1), ('bn', 1), ('mỗi', 1), ('thằng', 1), ('link', 2), ('kỳ', 3), ('xác_suất', 1), ('đậu', 1), ('điện_lực', 1), ('vẽ', 1), ('tối_đa', 1), ('tầm', 1), ('an_toàn', 1), ('lộ_trình', 1), ('nhận', 1), ('đội_tuyển', 1), ('triết', 1), ('sinh', 1), ('thực_phẩm_chất_lượng', 1), ('nhu_cầu', 1), ('nhân_lực', 1), ('xã_hội', 1), ('viết', 2), ('bài', 1), ('luận', 1), ('dạng', 1), ('bây_giờ', 1), ('hiền', 1), ('hệ_thống', 2), ('dệt', 6), ('may', 3), ('công_ty', 1), ('logistic', 2), ('bằng_cấp', 1), ('cử_nhân', 1), ('ban', 1), ('công_nghệ_nhiệt', 1), ('lạnh', 1), ('cụ_thể_nào', 1), ('kinh_tế', 1), ('giờ', 2), ('giá', 1), ('dầu', 1), ('thế_giới', 1), ('trời', 1), ('tự_động_hóa', 2), ('máy_móc', 1), ('thiết_kế', 2), ('thời_trang', 1), ('hóa_dược', 1), ('khoa_hóa', 2), ('dược', 2), ('y', 1), ('thắc_mắc', 1), ('địa_chất', 2), ('hóa_dầu', 1), ('cám_ơn', 1), ('chuyên_môn', 1), ('tiềm_năng', 2), ('sắp', 1), ('tới', 1), ('khoan', 1), ('khai_thác', 1), ('thực_tập', 1), ('tàu', 1), ('thủy_nhờ', 1), ('giao_thông', 1), ('máy_bay', 2), ('chế_tạo', 1), ('nghe', 1), ('đơn', 1), ('xet', 1), ('bạn', 1), ('liên_quan', 2), ('hiểu', 1), ('nhiệt', 1), ('đến', 1), ('nhân', 1), ('tao', 1), ('ạh', 1), ('ngành_nghề', 1), ('phù_hợp', 1)])\n"
     ]
    }
   ],
   "source": [
    "print(counts.items())"
   ],
   "metadata": {
    "collapsed": false,
    "ExecuteTime": {
     "end_time": "2023-11-22T09:48:58.776687500Z",
     "start_time": "2023-11-22T09:48:58.561599200Z"
    }
   }
  },
  {
   "cell_type": "code",
   "execution_count": 17,
   "outputs": [],
   "source": [
    "from collections import Counter\n",
    "with open(\"file.txt\", 'w', encoding='utf-8') as f:\n",
    "    for key, value in counts.items():\n",
    "        f.write(f\"{key}: {value},\")"
   ],
   "metadata": {
    "collapsed": false,
    "ExecuteTime": {
     "end_time": "2023-11-22T09:48:59.718660300Z",
     "start_time": "2023-11-22T09:48:59.526516700Z"
    }
   }
  },
  {
   "cell_type": "code",
   "execution_count": 18,
   "metadata": {
    "ExecuteTime": {
     "end_time": "2023-11-22T09:49:00.493009Z",
     "start_time": "2023-11-22T09:49:00.306702Z"
    }
   },
   "outputs": [
    {
     "name": "stdout",
     "output_type": "stream",
     "text": [
      "num_words before: 535\n",
      "num_words after: 323\n"
     ]
    }
   ],
   "source": [
    "#deleting infrequent words\n",
    "print(\"num_words before:\",len(counts.keys()))\n",
    "for word in list(counts):\n",
    "    if counts[word] < 2:\n",
    "        del counts[word]\n",
    "print(\"num_words after:\",len(counts.keys()))"
   ]
  },
  {
   "cell_type": "code",
   "execution_count": 19,
   "metadata": {
    "ExecuteTime": {
     "end_time": "2023-11-22T09:49:01.335860700Z",
     "start_time": "2023-11-22T09:49:01.139687200Z"
    }
   },
   "outputs": [],
   "source": [
    "vocab2index = {\"\":0, \"UNK\":1}\n",
    "words = [\"\", \"UNK\"]\n",
    "for word in counts:\n",
    "    vocab2index[word] = len(words)\n",
    "    words.append(word)"
   ]
  },
  {
   "cell_type": "code",
   "execution_count": 20,
   "metadata": {
    "ExecuteTime": {
     "end_time": "2023-11-22T09:49:02.195601700Z",
     "start_time": "2023-11-22T09:49:01.996545900Z"
    }
   },
   "outputs": [],
   "source": [
    "def encode_sentence(text, vocab2index, N=75):\n",
    "    tokenized = tokenize(text)\n",
    "    encoded = np.zeros(N, dtype=int)\n",
    "    enc1 = np.array([vocab2index.get(word, vocab2index[\"UNK\"]) for word in tokenized])\n",
    "#     print(len(enc1))\n",
    "    length = min(N, len(enc1))\n",
    "    encoded[:length] = enc1[:length]\n",
    "#     print(len(encoded))\n",
    "    return [encoded]\n",
    "#     return encoded, length"
   ]
  },
  {
   "cell_type": "code",
   "execution_count": 20,
   "outputs": [],
   "source": [],
   "metadata": {
    "collapsed": false,
    "ExecuteTime": {
     "end_time": "2023-11-22T09:49:02.800048400Z",
     "start_time": "2023-11-22T09:49:02.760816300Z"
    }
   }
  },
  {
   "cell_type": "code",
   "execution_count": 21,
   "outputs": [
    {
     "name": "stdout",
     "output_type": "stream",
     "text": [
      "['', 'UNK', 'thầy', 'cho', 'em', 'hỏi', 'nếu', 'mình', 'đã', 'trúng_tuyển', 'chương_trình', 'đại_trà', 'thì', 'có_thể', 'sang', 'chất_lượng', 'cao', 'tiếng', 'anh', 'hoặc', 'tiên_tiến', 'được', 'không', 'ạ', 'ở', 'bách_khoa', 'có', 'học', 'hoàn_toàn', 'trên', 'cơ_sở', 'lý', 'thường', 'kiệt', 'chuyển', 'chỉ_tiêu', 'ngành', 'khoa_học', 'máy_tính', 'năm', 'nay', 'bao_nhiêu', 'và', 'giới_thiệu', 'về', 'với', 'những', 'hình_thức', 'tuyển_sinh', 'nào', 'sau', 'khi', 'xong', '4', 'kỹ_sư', 'việt', 'nhật', 'trường', 'sẽ', 'qua', 'hay', 'làm_việc', 'giảng_dạy', 'bằng', 'sao', 'kỹ', 'thật', 'điện', 'điện_tử', 'cơ_hội', 'việc_làm', 'ra', 'kỹ_thuật', 'hàng', 'là', 'quản_lí', 'công_nghiệp', 'nó', 'triển_vọng', 'như', 'thế_nào', 'thưa', 'các', 'muốn', 'rồi', 'cần', 'phải', 'thi', 'ielts', 'vào', 'e', 'tự_động', 'hóa', 'cơ_điện_tử', 'khác', 'nhau', 'chỗ', 'nam', 'tốt', 'hơn', 'vật_liệu', 'nhiều', 'dễ', 'xin', 'việc', 'nên', 'pháp', 'bên', 'mới', 'điểm_chuẩn', 'logistics', 'hàng_không', 'của', 'làm', 'gì', 'sau_này', 'còn', 'kiến_trúc', 'dạy', 'anh_chị', '1', 'để', 'cơ', 'thêm', 'giúp', 'sự', 'khác_biệt', 'giữa', 'đk', 'anh_em', 'vậy', 'hệ', 'trung_học', 'phổ_thông', 'khoảng', 'nhiêu', 'ơi', 'có_học', 'lắm', 'rộng', 'hẹp', 'so', 'chú', 'con', 'đang', 'thứ', '2', 'đại_học', 'đâu', 'đào_tạo', 'thấy', 'quá', 'mảng', 'viễn_thông', 'sinh_viên', 'tốt_nghiệp', 'đăng_ký', 'đăng_kí', 'nguyện_vọng', 'theo', 'cũng', 'đúng', '208', 'ai', 'điểm', 'nhóm', 'xây_dựng', 'chọn', 'môi_trường', 'nghề_nghiệp', 'nữa', 'đi', 'vật_lý', 'điều_khiển', 'tự_động_hoá', 'giống', 'dầu_khí', 'cơ_khí', 'bão', 'dưỡng', 'tư_vấn', 'cô', 'yêu_cầu', 'chuẩn', 'đầu_ra', 'dạ', 'xét', 'tuyển', 'cách', 'làm_sao', 'quay', 'lại', 'priev', 'chào', 'khoa', 'hướng', 'nói', 'này', 'công_nghệ', 'sinh_học', 'kết_quả', 'đánh_giá', 'năng_lực', 'thuộc', 'giảm', 'học_phí', 'du_học', 'máy_tính_chất_lượng', 'cao_vậy', 'biết', 'bảo_dưỡng', 'học_bạ', 'hồ_sơ', 'gồm', 'thời_gian', 'nộp', 'thông_tin', 'điều_kiện', 'liên_kết', 'vẫn', 'tài_năng', 'hoá_ra', 'hoá_học', 'giỏi', 'rõ', 'cụ_thể', 'trong', 'công_việc', 'trí_tuệ', 'nhân_tạo', 'kỹ_thuật_hóa', 'nước_ngoài', 'nhưng', 'chưa', 'robot', 'cảm_ơn', 'ngành_hóa', 'quốc_tế', 'chuyên_ngành', 'đầu_vào', 'đảm_bảo', 'định_hướng', 'ô_tô', 'tương_lai', 'xu_thế', 'phương_thức', 'y_sinh', 'chứng_chỉ', 'nghề', 'lên', 'ưu_tiên', '3', 'môn', 'khối', 'hay_là', 'trung_bình', 'tiêu_chí', 'thẳng', 'tư', 'năm_ngoái', 'dự_định', 'cấp', 'ba', 'đều', 'học_sinh', 'hoá', 'tỉnh', 'giải', 'từ', 'cái', 'thành_phố', 'hồ', 'chí', 'minh', 'chính_quy', 'pre', 'uni', 'đối_với', 'kéo_dài', 'chuyên', 'ad', 'lấy', 'kì', 'lớp', '10', 'quốc_gia', '12', 'dùng', 'trả_lời', 'cả', 'danh_sách', 'xem', 'diện', 'quản_lý', 'phụ', 'chuẩn_bị', 'bao_giờ', 'vừa', 'chỉ_tiêu_thế', 'ôtô', 'ngày', 'công_bố', 'trước', 'ngoài', 'thực_phẩm', 'thế', 'review', 'đây', 'tính', 'link', 'kỳ', 'viết', 'hệ_thống', 'dệt', 'may', 'logistic', 'giờ', 'tự_động_hóa', 'thiết_kế', 'khoa_hóa', 'dược', 'địa_chất', 'tiềm_năng', 'máy_bay', 'liên_quan']\n"
     ]
    }
   ],
   "source": [
    "print(words)"
   ],
   "metadata": {
    "collapsed": false,
    "ExecuteTime": {
     "end_time": "2023-11-22T09:49:03.388531900Z",
     "start_time": "2023-11-22T09:49:03.165460500Z"
    }
   }
  },
  {
   "cell_type": "code",
   "execution_count": 22,
   "metadata": {
    "ExecuteTime": {
     "end_time": "2023-11-22T09:49:04.389531300Z",
     "start_time": "2023-11-22T09:49:04.095721400Z"
    }
   },
   "outputs": [
    {
     "data": {
      "text/plain": "   label                                            content  length  num_word  \\\n0      0  thầy cho em hỏi nếu mình đã trúng tuyển chương...     159        33   \n2      0  cho em hỏi chương trình chất lượng cao ở bách ...     106        24   \n3      0  cho em hỏi nếu em đã trúng tuyển chương trình ...     148        31   \n5      1  cho em hỏi chỉ tiêu ngành khoa học máy tính nă...     108        25   \n8      1  cho em hỏi ngành khoa học máy tính có những hì...      70        16   \n\n                                             encoded  \n0  [[2, 3, 4, 5, 6, 7, 8, 9, 10, 11, 12, 13, 1, 1...  \n2  [[3, 4, 5, 10, 15, 16, 24, 25, 26, 21, 27, 28,...  \n3  [[3, 4, 5, 6, 4, 8, 9, 10, 11, 12, 4, 13, 34, ...  \n5  [[3, 4, 5, 35, 36, 37, 38, 39, 40, 41, 42, 43,...  \n8  [[3, 4, 5, 36, 37, 38, 26, 46, 47, 48, 49, 23,...  ",
      "text/html": "<div>\n<style scoped>\n    .dataframe tbody tr th:only-of-type {\n        vertical-align: middle;\n    }\n\n    .dataframe tbody tr th {\n        vertical-align: top;\n    }\n\n    .dataframe thead th {\n        text-align: right;\n    }\n</style>\n<table border=\"1\" class=\"dataframe\">\n  <thead>\n    <tr style=\"text-align: right;\">\n      <th></th>\n      <th>label</th>\n      <th>content</th>\n      <th>length</th>\n      <th>num_word</th>\n      <th>encoded</th>\n    </tr>\n  </thead>\n  <tbody>\n    <tr>\n      <th>0</th>\n      <td>0</td>\n      <td>thầy cho em hỏi nếu mình đã trúng tuyển chương...</td>\n      <td>159</td>\n      <td>33</td>\n      <td>[[2, 3, 4, 5, 6, 7, 8, 9, 10, 11, 12, 13, 1, 1...</td>\n    </tr>\n    <tr>\n      <th>2</th>\n      <td>0</td>\n      <td>cho em hỏi chương trình chất lượng cao ở bách ...</td>\n      <td>106</td>\n      <td>24</td>\n      <td>[[3, 4, 5, 10, 15, 16, 24, 25, 26, 21, 27, 28,...</td>\n    </tr>\n    <tr>\n      <th>3</th>\n      <td>0</td>\n      <td>cho em hỏi nếu em đã trúng tuyển chương trình ...</td>\n      <td>148</td>\n      <td>31</td>\n      <td>[[3, 4, 5, 6, 4, 8, 9, 10, 11, 12, 4, 13, 34, ...</td>\n    </tr>\n    <tr>\n      <th>5</th>\n      <td>1</td>\n      <td>cho em hỏi chỉ tiêu ngành khoa học máy tính nă...</td>\n      <td>108</td>\n      <td>25</td>\n      <td>[[3, 4, 5, 35, 36, 37, 38, 39, 40, 41, 42, 43,...</td>\n    </tr>\n    <tr>\n      <th>8</th>\n      <td>1</td>\n      <td>cho em hỏi ngành khoa học máy tính có những hì...</td>\n      <td>70</td>\n      <td>16</td>\n      <td>[[3, 4, 5, 36, 37, 38, 26, 46, 47, 48, 49, 23,...</td>\n    </tr>\n  </tbody>\n</table>\n</div>"
     },
     "execution_count": 22,
     "metadata": {},
     "output_type": "execute_result"
    }
   ],
   "source": [
    "N = 22\n",
    "question['encoded'] = question['content'].apply(lambda x: np.array(encode_sentence(x,vocab2index,N)))\n",
    "question.head()"
   ]
  },
  {
   "cell_type": "code",
   "execution_count": 23,
   "outputs": [
    {
     "name": "stdout",
     "output_type": "stream",
     "text": [
      "Cột 'encoded' là một mảng NumPy.\n"
     ]
    }
   ],
   "source": [
    "column_to_check = 'encoded'\n",
    "if isinstance(question[column_to_check].values, np.ndarray):\n",
    "    print(f\"Cột '{column_to_check}' là một mảng NumPy.\")\n",
    "else:\n",
    "    print(f\"Cột '{column_to_check}' không phải là một mảng NumPy.\")"
   ],
   "metadata": {
    "collapsed": false,
    "ExecuteTime": {
     "end_time": "2023-11-22T09:49:04.898324Z",
     "start_time": "2023-11-22T09:49:04.702489900Z"
    }
   }
  },
  {
   "cell_type": "code",
   "execution_count": 24,
   "outputs": [
    {
     "data": {
      "text/plain": "(360,)"
     },
     "execution_count": 24,
     "metadata": {},
     "output_type": "execute_result"
    }
   ],
   "source": [
    "column_name = 'encoded'\n",
    "numpy_array = question[column_name].values\n",
    "shape_column = numpy_array.shape\n",
    "shape_column"
   ],
   "metadata": {
    "collapsed": false,
    "ExecuteTime": {
     "end_time": "2023-11-22T09:49:05.618667500Z",
     "start_time": "2023-11-22T09:49:05.400239500Z"
    }
   }
  },
  {
   "cell_type": "code",
   "execution_count": 25,
   "outputs": [
    {
     "name": "stdout",
     "output_type": "stream",
     "text": [
      "object\n",
      "Cột 'encoded' có dạng chuỗi (string) trong NumPy.\n"
     ]
    }
   ],
   "source": [
    "column_to_check = 'encoded'\n",
    "numpy_array = question[column_to_check].values\n",
    "dtype_column = numpy_array.dtype\n",
    "print(dtype_column)\n",
    "\n",
    "if dtype_column == 'object':\n",
    "    print(f\"Cột '{column_to_check}' có dạng chuỗi (string) trong NumPy.\")\n",
    "else:\n",
    "    print(f\"Cột '{column_to_check}' không phải dạng chuỗi (string) trong NumPy.\")"
   ],
   "metadata": {
    "collapsed": false,
    "ExecuteTime": {
     "end_time": "2023-11-22T09:49:06.168932700Z",
     "start_time": "2023-11-22T09:49:05.960153400Z"
    }
   }
  },
  {
   "cell_type": "code",
   "execution_count": 26,
   "metadata": {
    "ExecuteTime": {
     "end_time": "2023-11-22T09:49:06.654593600Z",
     "start_time": "2023-11-22T09:49:06.457752800Z"
    }
   },
   "outputs": [],
   "source": [
    "X = list(question['encoded'])\n",
    "y = list(question['label'])\n",
    "\n",
    "X_train, X_valid, y_train, y_valid = train_test_split(X, y, test_size=0.25,random_state=42)"
   ]
  },
  {
   "cell_type": "code",
   "execution_count": 27,
   "outputs": [
    {
     "name": "stdout",
     "output_type": "stream",
     "text": [
      "[array([[ 2,  3,  4,  5,  6,  7,  8,  9, 10, 11, 12, 13,  1, 14, 10, 15,\n",
      "        16, 17, 18, 19, 10, 20]])]\n"
     ]
    }
   ],
   "source": [
    "print(X[:1])"
   ],
   "metadata": {
    "collapsed": false,
    "ExecuteTime": {
     "end_time": "2023-11-22T09:49:07.220298100Z",
     "start_time": "2023-11-22T09:49:07.025837100Z"
    }
   }
  },
  {
   "cell_type": "code",
   "execution_count": 28,
   "outputs": [
    {
     "name": "stdout",
     "output_type": "stream",
     "text": [
      "[0, 0, 0, 1, 1, 0, 0, 2, 0, 2, 0, 2, 2, 2, 1, 2, 2, 1, 2, 0, 2, 2, 2, 0, 1, 2, 2, 2, 2, 2, 0, 0, 1, 2, 2, 2, 2, 2, 1, 2, 2, 2, 2, 2, 2, 2, 2, 2, 2, 2, 2, 2, 2, 2, 2, 0, 2, 2, 2, 0, 2, 1, 1, 0, 0, 0, 2, 2, 0, 2, 2, 1, 1, 0, 0, 0, 0, 2, 1, 1, 0, 2, 0, 2, 0, 0, 2, 2, 1, 0, 2, 2, 2, 0, 0, 2, 2, 0, 2, 2, 2, 2, 2, 0, 0, 2, 0, 2, 2, 2, 2, 2, 1, 2, 1, 2, 2, 2, 1, 2, 0, 0, 1, 1, 1, 1, 1, 1, 1, 0, 0, 0, 1, 1, 2, 0, 1, 1, 0, 1, 0, 0, 1, 1, 0, 1, 0, 0, 1, 1, 0, 0, 1, 1, 1, 1, 1, 1, 1, 1, 1, 1, 1, 1, 1, 0, 1, 1, 1, 1, 1, 1, 1, 1, 1, 1, 1, 1, 1, 1, 0, 1, 1, 1, 1, 1, 0, 1, 0, 1, 1, 1, 1, 2, 0, 1, 0, 1, 1, 2, 1, 2, 1, 2, 0, 2, 1, 1, 2, 1, 1, 1, 1, 1, 0, 1, 1, 1, 1, 1, 2, 0, 1, 1, 1, 2, 2, 1, 1, 2, 0, 1, 0, 1, 1, 1, 2, 1, 1, 1, 1, 1, 1, 1, 0, 1, 0, 0, 0, 2, 1, 1, 0, 0, 2, 0, 0, 0, 1, 2, 1, 1, 0, 0, 1, 1, 1, 2, 2, 0, 0, 0, 0, 1, 1, 1, 1, 2, 1, 1, 2, 2, 2, 2, 2, 2, 2, 2, 2, 2, 2, 2, 2, 2, 2, 2, 2, 2, 2, 2, 2, 0, 2, 2, 2, 2, 2, 2, 2, 2, 2, 2, 2, 2, 2, 2, 2, 2, 2, 2, 1, 2, 2, 1, 2, 2, 1, 0, 2, 2, 2, 2, 2, 2, 0, 2, 2, 0, 2, 2, 2, 2, 2, 2, 2, 2, 0, 0, 0, 0, 0, 0, 0, 0, 0, 0, 0, 0, 0, 0]\n"
     ]
    }
   ],
   "source": [
    "print(y)"
   ],
   "metadata": {
    "collapsed": false,
    "ExecuteTime": {
     "end_time": "2023-11-22T09:49:07.715470700Z",
     "start_time": "2023-11-22T09:49:07.504839200Z"
    }
   }
  },
  {
   "cell_type": "code",
   "execution_count": 29,
   "metadata": {
    "ExecuteTime": {
     "end_time": "2023-11-22T09:49:08.293642100Z",
     "start_time": "2023-11-22T09:49:08.090858800Z"
    }
   },
   "outputs": [
    {
     "data": {
      "text/plain": "(270, 90)"
     },
     "execution_count": 29,
     "metadata": {},
     "output_type": "execute_result"
    }
   ],
   "source": [
    "len(X_train),len(X_valid)"
   ]
  },
  {
   "cell_type": "code",
   "execution_count": 30,
   "metadata": {
    "scrolled": true,
    "ExecuteTime": {
     "end_time": "2023-11-22T09:49:09.113042200Z",
     "start_time": "2023-11-22T09:49:08.829803900Z"
    }
   },
   "outputs": [
    {
     "name": "stderr",
     "output_type": "stream",
     "text": [
      "E:\\Anaconda\\envs\\word_spelling_autocorrect\\lib\\site-packages\\sklearn\\utils\\validation.py:67: FutureWarning: Pass classes=[0, 1, 2], y=[2, 1, 1, 2, 1, 2, 1, 1, 1, 2, 2, 1, 2, 1, 1, 2, 0, 2, 1, 1, 1, 2, 0, 2, 1, 1, 2, 0, 0, 1, 1, 0, 2, 1, 1, 2, 2, 1, 1, 0, 2, 2, 0, 1, 0, 0, 0, 0, 2, 1, 1, 1, 1, 1, 1, 2, 2, 1, 2, 1, 1, 0, 0, 0, 0, 2, 0, 1, 2, 2, 2, 2, 1, 1, 0, 2, 2, 2, 1, 2, 1, 2, 0, 0, 1, 0, 0, 1, 2, 1, 2, 1, 1, 1, 1, 2, 2, 0, 0, 1, 1, 0, 1, 1, 0, 0, 2, 1, 1, 2, 0, 2, 0, 2, 1, 0, 2, 2, 2, 2, 2, 2, 1, 1, 1, 2, 2, 2, 0, 2, 0, 0, 2, 1, 2, 2, 2, 1, 1, 0, 1, 0, 0, 2, 2, 2, 2, 1, 1, 0, 1, 2, 0, 2, 1, 1, 2, 0, 0, 0, 2, 1, 0, 2, 2, 0, 2, 2, 2, 1, 1, 2, 1, 1, 2, 1, 1, 1, 2, 2, 0, 1, 1, 2, 0, 1, 0, 1, 0, 0, 1, 1, 2, 0, 2, 1, 1, 2, 2, 1, 1, 2, 1, 0, 2, 0, 2, 1, 2, 1, 1, 2, 2, 2, 0, 2, 0, 2, 2, 0, 2, 2, 1, 1, 2, 2, 1, 1, 1, 0, 2, 2, 2, 2, 1, 2, 2, 1, 1, 0, 1, 1, 2, 2, 1, 0, 2, 2, 1, 1, 1, 2, 0, 2, 1, 0, 0, 2, 2, 2, 0, 0, 0, 2, 0, 1, 0, 0, 0, 2] as keyword args. From version 0.25 passing these as positional arguments will result in an error\n",
      "  warnings.warn(\"Pass {} as keyword args. From version 0.25 \"\n"
     ]
    },
    {
     "data": {
      "text/plain": "tensor([1.3636, 0.9091, 0.8571])"
     },
     "execution_count": 30,
     "metadata": {},
     "output_type": "execute_result"
    }
   ],
   "source": [
    "# class_weights = class_weight.compute_class_weight('balanced',np.unique(y).tolist(),y)\n",
    "class_weights = class_weight.compute_class_weight('balanced',np.unique(y_train).tolist(),y_train)\n",
    "class_weights = torch.tensor(class_weights,dtype=torch.float)\n",
    "class_weights"
   ]
  },
  {
   "cell_type": "code",
   "execution_count": 31,
   "metadata": {
    "ExecuteTime": {
     "end_time": "2023-11-22T09:49:10.294763700Z",
     "start_time": "2023-11-22T09:49:10.077685600Z"
    }
   },
   "outputs": [
    {
     "name": "stdout",
     "output_type": "stream",
     "text": [
      "<dataset.TextDataset object at 0x000001CF7644A6A0>\n"
     ]
    }
   ],
   "source": [
    "train_ds = TextDataset(X_train, y_train)\n",
    "print(train_ds)\n",
    "valid_ds = TextDataset(X_valid, y_valid)"
   ]
  },
  {
   "cell_type": "code",
   "execution_count": 32,
   "metadata": {
    "ExecuteTime": {
     "end_time": "2023-11-22T09:49:14.418603300Z",
     "start_time": "2023-11-22T09:49:14.218544500Z"
    }
   },
   "outputs": [],
   "source": [
    "batch_size = 30\n",
    "vocab_size = len(words)\n",
    "train_dl = DataLoader(train_ds, batch_size=batch_size, shuffle=True)\n",
    "val_dl = DataLoader(valid_ds, batch_size=batch_size)"
   ]
  },
  {
   "cell_type": "code",
   "execution_count": 33,
   "metadata": {
    "ExecuteTime": {
     "end_time": "2023-11-22T09:49:15.088865900Z",
     "start_time": "2023-11-22T09:49:14.853960600Z"
    }
   },
   "outputs": [],
   "source": [
    "model = AttentionModel(\n",
    "                    batch_size=batch_size, \n",
    "                    output_size=class_weights.shape[0], \n",
    "                    hidden_size=128, \n",
    "                    vocab_size=vocab_size, \n",
    "                    embedding_length=400\n",
    "                    )"
   ]
  },
  {
   "cell_type": "code",
   "execution_count": 34,
   "metadata": {
    "ExecuteTime": {
     "end_time": "2023-11-22T09:49:15.712753400Z",
     "start_time": "2023-11-22T09:49:15.502753Z"
    }
   },
   "outputs": [
    {
     "data": {
      "text/plain": "AttentionModel(\n  (word_embeddings): Embedding(325, 400)\n  (lstm): LSTM(400, 128)\n  (label): Linear(in_features=128, out_features=3, bias=True)\n)"
     },
     "execution_count": 34,
     "metadata": {},
     "output_type": "execute_result"
    }
   ],
   "source": [
    "model = model.train()\n",
    "model.cpu()"
   ]
  },
  {
   "cell_type": "code",
   "execution_count": 35,
   "metadata": {
    "ExecuteTime": {
     "end_time": "2023-11-22T09:49:18.831579900Z",
     "start_time": "2023-11-22T09:49:16.436318500Z"
    }
   },
   "outputs": [],
   "source": [
    "optimizer = torch.optim.Adam(model.parameters(), lr=1e-3)\n",
    "criterion = nn.CrossEntropyLoss(weight = class_weights)\n",
    "exp_lr_scheduler = lr_scheduler.StepLR(optimizer, step_size=5, gamma=0.8)"
   ]
  },
  {
   "cell_type": "code",
   "execution_count": 36,
   "metadata": {
    "ExecuteTime": {
     "end_time": "2023-11-22T09:49:20.673778900Z",
     "start_time": "2023-11-22T09:49:20.462506100Z"
    }
   },
   "outputs": [],
   "source": [
    "def train_one_epoch(model,train_dl,optimizer,criterion,writer,epoch):\n",
    "    \n",
    "    epoch_loss = 0\n",
    "    epoch_acc = 0\n",
    "    list_pred = []\n",
    "    for x, y in train_dl:\n",
    "        y = y.type(torch.int64)\n",
    "        x = x.long()\n",
    "\n",
    "        y_pred = model(x)\n",
    "\n",
    "        optimizer.zero_grad()\n",
    "\n",
    "\n",
    "        loss = criterion(y_pred,y)\n",
    "        \n",
    "        writer.add_scalar(\"Loss/train\", loss, epoch)\n",
    "        \n",
    "        loss.backward()\n",
    "        optimizer.step()\n",
    "        \n",
    "        epoch_loss += loss.item()\n",
    "        list_pred.append(y_pred.argmax())\n",
    "    return epoch_loss / len(train_dl)"
   ]
  },
  {
   "cell_type": "code",
   "execution_count": 37,
   "metadata": {
    "ExecuteTime": {
     "end_time": "2023-11-22T09:49:21.937102300Z",
     "start_time": "2023-11-22T09:49:21.741897800Z"
    }
   },
   "outputs": [],
   "source": [
    "def evaluate_one_epoch(model, valid_dl,criterion,writer,epoch):\n",
    "    model.eval()\n",
    "    epoch_acc = 0\n",
    "    epoch_loss = 0\n",
    "    list_true = []\n",
    "    list_pred = []\n",
    "    with torch.no_grad():\n",
    "        for x, y in valid_dl:\n",
    "            y = y.type(torch.int64)\n",
    "            x = x.long()\n",
    "            y_hat = model(x)\n",
    "#             acc = binary_accuracy(y_hat,y)\n",
    "            loss = criterion(y_hat,y)\n",
    "            writer.add_scalar(\"Loss/valid\", loss, epoch)\n",
    "            epoch_loss += loss.item()\n",
    "\n",
    "    return epoch_loss/len(valid_dl)"
   ]
  },
  {
   "cell_type": "code",
   "execution_count": 38,
   "metadata": {
    "scrolled": true,
    "ExecuteTime": {
     "end_time": "2023-11-22T09:49:24.506328600Z",
     "start_time": "2023-11-22T09:49:22.580272600Z"
    }
   },
   "outputs": [
    {
     "name": "stdout",
     "output_type": "stream",
     "text": [
      "Epoch-0 lr: 0.001\n",
      "\tTrain Loss: 1.135 | Valid Loss: 1.161\n",
      "Epoch-1 lr: 0.001\n",
      "\tTrain Loss: 1.087 | Valid Loss: 1.074\n",
      "Epoch-2 lr: 0.001\n",
      "\tTrain Loss: 1.055 | Valid Loss: 1.061\n",
      "Epoch-3 lr: 0.001\n",
      "\tTrain Loss: 0.992 | Valid Loss: 1.023\n",
      "Epoch-4 lr: 0.001\n",
      "\tTrain Loss: 0.880 | Valid Loss: 0.913\n"
     ]
    },
    {
     "ename": "RuntimeError",
     "evalue": "File ../model\\checkpoint_0.9130431811014811.pth cannot be opened.",
     "output_type": "error",
     "traceback": [
      "\u001B[1;31m---------------------------------------------------------------------------\u001B[0m",
      "\u001B[1;31mRuntimeError\u001B[0m                              Traceback (most recent call last)",
      "Cell \u001B[1;32mIn[38], line 22\u001B[0m\n\u001B[0;32m     18\u001B[0m         checkpoint \u001B[38;5;241m=\u001B[39m {\u001B[38;5;124m'\u001B[39m\u001B[38;5;124mmodel\u001B[39m\u001B[38;5;124m'\u001B[39m: model,\n\u001B[0;32m     19\u001B[0m           \u001B[38;5;124m'\u001B[39m\u001B[38;5;124mstate_dict\u001B[39m\u001B[38;5;124m'\u001B[39m: model\u001B[38;5;241m.\u001B[39mstate_dict(),\n\u001B[0;32m     20\u001B[0m           \u001B[38;5;124m'\u001B[39m\u001B[38;5;124moptimizer\u001B[39m\u001B[38;5;124m'\u001B[39m : optimizer\u001B[38;5;241m.\u001B[39mstate_dict()}\n\u001B[0;32m     21\u001B[0m \u001B[38;5;66;03m#         valis_loss_save = str(valis_loss_min).replace('.','_')[:10]\u001B[39;00m\n\u001B[1;32m---> 22\u001B[0m         \u001B[43mtorch\u001B[49m\u001B[38;5;241;43m.\u001B[39;49m\u001B[43msave\u001B[49m\u001B[43m(\u001B[49m\u001B[43mcheckpoint\u001B[49m\u001B[43m,\u001B[49m\u001B[43m \u001B[49m\u001B[43mos\u001B[49m\u001B[38;5;241;43m.\u001B[39;49m\u001B[43mpath\u001B[49m\u001B[38;5;241;43m.\u001B[39;49m\u001B[43mjoin\u001B[49m\u001B[43m(\u001B[49m\u001B[43mmodel_path\u001B[49m\u001B[43m,\u001B[49m\u001B[38;5;124;43m'\u001B[39;49m\u001B[38;5;124;43mcheckpoint_\u001B[39;49m\u001B[38;5;132;43;01m{}\u001B[39;49;00m\u001B[38;5;124;43m.pth\u001B[39;49m\u001B[38;5;124;43m'\u001B[39;49m\u001B[38;5;241;43m.\u001B[39;49m\u001B[43mformat\u001B[49m\u001B[43m(\u001B[49m\u001B[43mvalis_loss_min\u001B[49m\u001B[43m)\u001B[49m\u001B[43m)\u001B[49m\u001B[43m)\u001B[49m\n\u001B[0;32m     24\u001B[0m     exp_lr_scheduler\u001B[38;5;241m.\u001B[39mstep()\n\u001B[0;32m     26\u001B[0m writer\u001B[38;5;241m.\u001B[39mflush()\n",
      "File \u001B[1;32mE:\\Anaconda\\envs\\word_spelling_autocorrect\\lib\\site-packages\\torch\\serialization.py:618\u001B[0m, in \u001B[0;36msave\u001B[1;34m(obj, f, pickle_module, pickle_protocol, _use_new_zipfile_serialization, _disable_byteorder_record)\u001B[0m\n\u001B[0;32m    615\u001B[0m _check_save_filelike(f)\n\u001B[0;32m    617\u001B[0m \u001B[38;5;28;01mif\u001B[39;00m _use_new_zipfile_serialization:\n\u001B[1;32m--> 618\u001B[0m     \u001B[38;5;28;01mwith\u001B[39;00m \u001B[43m_open_zipfile_writer\u001B[49m\u001B[43m(\u001B[49m\u001B[43mf\u001B[49m\u001B[43m)\u001B[49m \u001B[38;5;28;01mas\u001B[39;00m opened_zipfile:\n\u001B[0;32m    619\u001B[0m         _save(obj, opened_zipfile, pickle_module, pickle_protocol, _disable_byteorder_record)\n\u001B[0;32m    620\u001B[0m         \u001B[38;5;28;01mreturn\u001B[39;00m\n",
      "File \u001B[1;32mE:\\Anaconda\\envs\\word_spelling_autocorrect\\lib\\site-packages\\torch\\serialization.py:492\u001B[0m, in \u001B[0;36m_open_zipfile_writer\u001B[1;34m(name_or_buffer)\u001B[0m\n\u001B[0;32m    490\u001B[0m \u001B[38;5;28;01melse\u001B[39;00m:\n\u001B[0;32m    491\u001B[0m     container \u001B[38;5;241m=\u001B[39m _open_zipfile_writer_buffer\n\u001B[1;32m--> 492\u001B[0m \u001B[38;5;28;01mreturn\u001B[39;00m \u001B[43mcontainer\u001B[49m\u001B[43m(\u001B[49m\u001B[43mname_or_buffer\u001B[49m\u001B[43m)\u001B[49m\n",
      "File \u001B[1;32mE:\\Anaconda\\envs\\word_spelling_autocorrect\\lib\\site-packages\\torch\\serialization.py:463\u001B[0m, in \u001B[0;36m_open_zipfile_writer_file.__init__\u001B[1;34m(self, name)\u001B[0m\n\u001B[0;32m    461\u001B[0m     \u001B[38;5;28msuper\u001B[39m()\u001B[38;5;241m.\u001B[39m\u001B[38;5;21m__init__\u001B[39m(torch\u001B[38;5;241m.\u001B[39m_C\u001B[38;5;241m.\u001B[39mPyTorchFileWriter(\u001B[38;5;28mself\u001B[39m\u001B[38;5;241m.\u001B[39mfile_stream))\n\u001B[0;32m    462\u001B[0m \u001B[38;5;28;01melse\u001B[39;00m:\n\u001B[1;32m--> 463\u001B[0m     \u001B[38;5;28msuper\u001B[39m()\u001B[38;5;241m.\u001B[39m\u001B[38;5;21m__init__\u001B[39m(\u001B[43mtorch\u001B[49m\u001B[38;5;241;43m.\u001B[39;49m\u001B[43m_C\u001B[49m\u001B[38;5;241;43m.\u001B[39;49m\u001B[43mPyTorchFileWriter\u001B[49m\u001B[43m(\u001B[49m\u001B[38;5;28;43mself\u001B[39;49m\u001B[38;5;241;43m.\u001B[39;49m\u001B[43mname\u001B[49m\u001B[43m)\u001B[49m)\n",
      "\u001B[1;31mRuntimeError\u001B[0m: File ../model\\checkpoint_0.9130431811014811.pth cannot be opened."
     ]
    }
   ],
   "source": [
    "\n",
    "loss=[]\n",
    "acc=[]\n",
    "val_loss=[]\n",
    "acc_max = 0\n",
    "\n",
    "valid_loss_min = 1.\n",
    "\n",
    "for epoch in range(30):\n",
    "    \n",
    "    train_loss = train_one_epoch(model,train_dl,optimizer,criterion,writer,epoch)\n",
    "    valid_loss = evaluate_one_epoch(model, val_dl,criterion,writer,epoch)\n",
    "    print('Epoch-{0} lr: {1}'.format(epoch, optimizer.param_groups[0]['lr']))\n",
    "\n",
    "    print(f'\\tTrain Loss: {train_loss:.3f} | Valid Loss: {valid_loss:.3f}')\n",
    "    \n",
    "    if valid_loss < valid_loss_min:\n",
    "        valis_loss_min = valid_loss\n",
    "        checkpoint = {'model': model,\n",
    "          'state_dict': model.state_dict(),\n",
    "          'optimizer' : optimizer.state_dict()}\n",
    "#         valis_loss_save = str(valis_loss_min).replace('.','_')[:10]\n",
    "        torch.save(checkpoint, os.path.join(model_path,'checkpoint_{}.pth'.format(valis_loss_min)))\n",
    "\n",
    "    exp_lr_scheduler.step()\n",
    "    \n",
    "writer.flush()\n",
    "writer.close()"
   ]
  },
  {
   "cell_type": "code",
   "execution_count": null,
   "metadata": {
    "ExecuteTime": {
     "start_time": "2023-11-21T14:39:44.077367Z"
    }
   },
   "outputs": [],
   "source": [
    "load_model = load_checkpoint(os.path.join(model_path,'checkpoint_0.38374345004558563.pth'))"
   ]
  },
  {
   "cell_type": "code",
   "execution_count": null,
   "metadata": {
    "ExecuteTime": {
     "start_time": "2023-11-21T14:39:44.081889200Z"
    }
   },
   "outputs": [],
   "source": [
    "from pytorch_model_summary import summary\n",
    "print(summary(load_model, torch.zeros([30,22]).long(), show_input=True))"
   ]
  },
  {
   "cell_type": "code",
   "execution_count": null,
   "metadata": {
    "ExecuteTime": {
     "start_time": "2023-11-21T14:39:44.084920800Z"
    }
   },
   "outputs": [],
   "source": [
    "load_model"
   ]
  },
  {
   "cell_type": "code",
   "execution_count": null,
   "metadata": {
    "ExecuteTime": {
     "start_time": "2023-11-21T14:39:44.091960300Z"
    }
   },
   "outputs": [],
   "source": [
    "print(classification_report(list_pred,list_true))"
   ]
  },
  {
   "cell_type": "code",
   "execution_count": null,
   "metadata": {
    "ExecuteTime": {
     "start_time": "2023-11-21T14:39:44.096395800Z"
    }
   },
   "outputs": [],
   "source": [
    "confusion_matrix(list_pred,list_true)"
   ]
  },
  {
   "cell_type": "code",
   "execution_count": null,
   "metadata": {
    "ExecuteTime": {
     "start_time": "2023-11-21T14:39:44.099404900Z"
    }
   },
   "outputs": [],
   "source": [
    "import numpy as np\n",
    "\n",
    "\n",
    "def plot_confusion_matrix(cm,\n",
    "                          target_names,\n",
    "                          title='Confusion matrix',\n",
    "                          cmap=None,\n",
    "                          normalize=True):\n",
    "    \"\"\"\n",
    "    given a sklearn confusion matrix (cm), make a nice plot\n",
    "\n",
    "    Arguments\n",
    "    ---------\n",
    "    cm:           confusion matrix from sklearn.metrics.confusion_matrix\n",
    "\n",
    "    target_names: given classification classes such as [0, 1, 2]\n",
    "                  the class names, for example: ['high', 'medium', 'low']\n",
    "\n",
    "    title:        the text to display at the top of the matrix\n",
    "\n",
    "    cmap:         the gradient of the values displayed from matplotlib.pyplot.cm\n",
    "                  see http://matplotlib.org/examples/color/colormaps_reference.html\n",
    "                  plt.get_cmap('jet') or plt.cm.Blues\n",
    "\n",
    "    normalize:    If False, plot the raw numbers\n",
    "                  If True, plot the proportions\n",
    "\n",
    "    Usage\n",
    "    -----\n",
    "    plot_confusion_matrix(cm           = cm,                  # confusion matrix created by\n",
    "                                                              # sklearn.metrics.confusion_matrix\n",
    "                          normalize    = True,                # show proportions\n",
    "                          target_names = y_labels_vals,       # list of names of the classes\n",
    "                          title        = best_estimator_name) # title of graph\n",
    "\n",
    "    Citiation\n",
    "    ---------\n",
    "    http://scikit-learn.org/stable/auto_examples/model_selection/plot_confusion_matrix.html\n",
    "\n",
    "    \"\"\"\n",
    "    import matplotlib.pyplot as plt\n",
    "    import numpy as np\n",
    "    import itertools\n",
    "\n",
    "    accuracy = np.trace(cm) / float(np.sum(cm))\n",
    "    misclass = 1 - accuracy\n",
    "\n",
    "    if cmap is None:\n",
    "        cmap = plt.get_cmap('Blues')\n",
    "\n",
    "    plt.figure(figsize=(8, 6))\n",
    "    plt.imshow(cm, interpolation='nearest', cmap=cmap)\n",
    "    plt.title(title)\n",
    "    plt.colorbar()\n",
    "\n",
    "    if target_names is not None:\n",
    "        tick_marks = np.arange(len(target_names))\n",
    "        plt.xticks(tick_marks, target_names, rotation=45)\n",
    "        plt.yticks(tick_marks, target_names)\n",
    "\n",
    "    if normalize:\n",
    "        cm = cm.astype('float') / cm.sum(axis=1)[:, np.newaxis]\n",
    "\n",
    "\n",
    "    thresh = cm.max() / 1.5 if normalize else cm.max() / 2\n",
    "    for i, j in itertools.product(range(cm.shape[0]), range(cm.shape[1])):\n",
    "        if normalize:\n",
    "            plt.text(j, i, \"{:0.4f}\".format(cm[i, j]),\n",
    "                     horizontalalignment=\"center\",\n",
    "                     color=\"white\" if cm[i, j] > thresh else \"black\")\n",
    "        else:\n",
    "            plt.text(j, i, \"{:,}\".format(cm[i, j]),\n",
    "                     horizontalalignment=\"center\",\n",
    "                     color=\"white\" if cm[i, j] > thresh else \"black\")\n",
    "\n",
    "\n",
    "    plt.tight_layout()\n",
    "    plt.ylabel('True label')\n",
    "    plt.xlabel('Predicted label\\naccuracy={:0.4f}; misclass={:0.4f}'.format(accuracy, misclass))\n",
    "    plt.show()"
   ]
  },
  {
   "cell_type": "code",
   "execution_count": null,
   "metadata": {
    "ExecuteTime": {
     "start_time": "2023-11-21T14:39:44.102926600Z"
    }
   },
   "outputs": [],
   "source": [
    "# from sklearn.metrics import plot_confusion_matrix\n",
    "\n",
    "plot_confusion_matrix(cm = confusion_matrix(list_pred,list_true),\n",
    "                      normalize    = True,\n",
    "                      target_names = ['type_edu', 'case', 'career'],\n",
    "                      title        = \"Confusion Matrix, Bi-LSTM+Attention\")"
   ]
  },
  {
   "cell_type": "code",
   "execution_count": null,
   "metadata": {
    "ExecuteTime": {
     "start_time": "2023-11-21T14:39:44.105016300Z"
    }
   },
   "outputs": [],
   "source": [
    "np.average(f1_score(list_true, list_pred, average=None))"
   ]
  },
  {
   "cell_type": "markdown",
   "metadata": {},
   "source": [
    "# Test"
   ]
  },
  {
   "cell_type": "code",
   "execution_count": null,
   "metadata": {
    "ExecuteTime": {
     "start_time": "2023-11-21T14:39:44.108565800Z"
    }
   },
   "outputs": [],
   "source": [
    "# load_model"
   ]
  },
  {
   "cell_type": "code",
   "execution_count": null,
   "metadata": {
    "ExecuteTime": {
     "start_time": "2023-11-21T14:39:44.110630400Z"
    }
   },
   "outputs": [],
   "source": [
    "# filename = os.path.join(model_path,'model_intent.pth')\n",
    "# joblib.dump(load_model, filename)\n",
    "# # with open('vectorizer.pickle', 'wb') as handle:\n",
    "# #     pickle.dump(vectorizer, handle, protocol=pickle.HIGHEST_PROTOCOL)"
   ]
  },
  {
   "cell_type": "code",
   "execution_count": null,
   "metadata": {
    "scrolled": true,
    "ExecuteTime": {
     "start_time": "2023-11-21T14:39:44.113373500Z"
    }
   },
   "outputs": [],
   "source": [
    "# import requests\n",
    "# url = 'https://api-intent.herokuapp.com/predict'\n",
    "# pred = requests.post(url,json={'message':'ad cho em hỏi chương trình tiên tiến với chất lượng cao khác nhau thế nào ạ'})\n",
    "# print(pred.json())\n"
   ]
  },
  {
   "cell_type": "code",
   "execution_count": null,
   "metadata": {
    "ExecuteTime": {
     "start_time": "2023-11-21T14:39:44.117031500Z"
    }
   },
   "outputs": [],
   "source": [
    "# for x,y in val_dl:\n",
    "#     print(x.shape)"
   ]
  },
  {
   "cell_type": "code",
   "execution_count": null,
   "metadata": {
    "ExecuteTime": {
     "end_time": "2023-11-21T14:39:44.230585500Z",
     "start_time": "2023-11-21T14:39:44.121045100Z"
    }
   },
   "outputs": [],
   "source": [
    "# vocab2index"
   ]
  },
  {
   "cell_type": "code",
   "execution_count": null,
   "metadata": {
    "ExecuteTime": {
     "start_time": "2023-11-21T14:39:44.123647600Z"
    }
   },
   "outputs": [],
   "source": [
    "torch.save(vocab2index,os.path.join(model_path,'vocab_12jul.pth'))"
   ]
  },
  {
   "cell_type": "code",
   "execution_count": null,
   "metadata": {
    "ExecuteTime": {
     "start_time": "2023-11-21T14:39:44.126211Z"
    }
   },
   "outputs": [],
   "source": [
    "vocab2index = torch.load(os.path.join(model_path,'vocab_12jul.pth'))"
   ]
  },
  {
   "cell_type": "code",
   "execution_count": null,
   "metadata": {
    "ExecuteTime": {
     "start_time": "2023-11-21T14:39:44.129221Z"
    }
   },
   "outputs": [],
   "source": [
    "N"
   ]
  },
  {
   "cell_type": "code",
   "execution_count": null,
   "metadata": {
    "ExecuteTime": {
     "start_time": "2023-11-21T14:39:44.131746Z"
    }
   },
   "outputs": [],
   "source": [
    "pad_enc = torch.zeros([29,22])\n",
    "# pad_enc.shape"
   ]
  },
  {
   "cell_type": "code",
   "execution_count": null,
   "metadata": {
    "scrolled": true,
    "ExecuteTime": {
     "start_time": "2023-11-21T14:39:44.133742700Z"
    }
   },
   "outputs": [],
   "source": [
    "test_sent = 'ad cho em hỏi ngành điện tử viễn thông có ổn không ạ'\n",
    "test_enc =  torch.from_numpy(encode_sentence(test_sent, vocab2index, N)[0].astype(np.float32))\n",
    "test_enc = torch.reshape(test_enc,(1,N))\n",
    "test_enc"
   ]
  },
  {
   "cell_type": "code",
   "execution_count": null,
   "metadata": {
    "ExecuteTime": {
     "start_time": "2023-11-21T14:39:44.137332700Z"
    }
   },
   "outputs": [],
   "source": [
    "test_enc_pad = torch.cat([test_enc,pad_enc])\n",
    "test_enc_pad.shape"
   ]
  },
  {
   "cell_type": "code",
   "execution_count": null,
   "metadata": {
    "scrolled": true,
    "ExecuteTime": {
     "start_time": "2023-11-21T14:39:44.139377600Z"
    }
   },
   "outputs": [],
   "source": [
    "\n",
    "preds = load_model(test_enc_pad.long())\n",
    "prop_preds = nn.functional.softmax(preds,dim=1)\n",
    "print(prop_preds[0])\n",
    "pred_label = prop_preds.argmax().item()\n",
    "pred_label"
   ]
  }
 ],
 "metadata": {
  "kernelspec": {
   "name": "python3",
   "language": "python",
   "display_name": "Python 3 (ipykernel)"
  },
  "language_info": {
   "codemirror_mode": {
    "name": "ipython",
    "version": 3
   },
   "file_extension": ".py",
   "mimetype": "text/x-python",
   "name": "python",
   "nbconvert_exporter": "python",
   "pygments_lexer": "ipython3",
   "version": "3.6.13"
  }
 },
 "nbformat": 4,
 "nbformat_minor": 4
}
