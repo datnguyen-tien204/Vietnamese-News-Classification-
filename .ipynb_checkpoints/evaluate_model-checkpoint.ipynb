{
 "cells": [
  {
   "cell_type": "code",
   "execution_count": 2,
   "metadata": {
    "ExecuteTime": {
     "end_time": "2023-12-20T03:50:33.307866700Z",
     "start_time": "2023-12-20T03:50:31.493531900Z"
    },
    "id": "mul7yOV2HmZh"
   },
   "outputs": [],
   "source": [
    "import tensorflow as tf\n",
    "from keras.models import load_model\n",
    "import pandas as pd"
   ]
  },
  {
   "cell_type": "code",
   "execution_count": 3,
   "metadata": {
    "ExecuteTime": {
     "end_time": "2023-12-20T03:50:35.028516900Z",
     "start_time": "2023-12-20T03:50:33.311871400Z"
    },
    "id": "BXnKXACEK01C"
   },
   "outputs": [],
   "source": [
    "X_test=pd.read_csv(r\"E:\\NLP\\Vietnamese-Text-Classification-master\\Model NLP\\BiGRU\\Concat with Summary and Title\\results_4\\X_test_concat_title_summary.csv\")\n",
    "y_test=pd.read_csv(r\"E:\\NLP\\Vietnamese-Text-Classification-master\\Model NLP\\BiGRU\\Concat with Summary and Title\\results_4\\y_test_concat_title_summary.csv\")"
   ]
  },
  {
   "cell_type": "code",
   "execution_count": 4,
   "metadata": {
    "ExecuteTime": {
     "end_time": "2023-12-20T03:50:35.075613100Z",
     "start_time": "2023-12-20T03:50:35.034523200Z"
    },
    "colab": {
     "base_uri": "https://localhost:8080/"
    },
    "id": "Qc0yObZBMx2P",
    "outputId": "71fe949d-5e8e-4374-bc83-3149208b5312"
   },
   "outputs": [
    {
     "data": {
      "text/plain": [
       "(45113, 1)"
      ]
     },
     "execution_count": 4,
     "metadata": {},
     "output_type": "execute_result"
    }
   ],
   "source": [
    "X_test.shape"
   ]
  },
  {
   "cell_type": "code",
   "execution_count": 5,
   "metadata": {
    "ExecuteTime": {
     "end_time": "2023-12-20T03:50:35.120600800Z",
     "start_time": "2023-12-20T03:50:35.046606200Z"
    },
    "colab": {
     "base_uri": "https://localhost:8080/"
    },
    "id": "5V-2-rOJNDLy",
    "outputId": "1700549f-1871-468c-9ffe-865d7340bb14"
   },
   "outputs": [
    {
     "data": {
      "text/plain": [
       "(45113, 1)"
      ]
     },
     "execution_count": 5,
     "metadata": {},
     "output_type": "execute_result"
    }
   ],
   "source": [
    "y_test.shape"
   ]
  },
  {
   "cell_type": "code",
   "execution_count": 6,
   "metadata": {
    "ExecuteTime": {
     "end_time": "2023-12-20T03:50:36.485814300Z",
     "start_time": "2023-12-20T03:50:35.065604700Z"
    },
    "id": "hvAmqTx0JdNm"
   },
   "outputs": [],
   "source": [
    "model = tf.keras.models.load_model(r\"E:\\NLP\\Vietnamese-Text-Classification-master\\Model NLP\\BiGRU\\Concat with Summary\\results_4\\model_bi_gru_news.h5\", compile=False)"
   ]
  },
  {
   "cell_type": "code",
   "execution_count": 7,
   "metadata": {
    "ExecuteTime": {
     "end_time": "2023-12-20T03:50:36.540334500Z",
     "start_time": "2023-12-20T03:50:36.494809400Z"
    }
   },
   "outputs": [],
   "source": [
    "model.compile(optimizer='adam',\n",
    "              loss='binary_crossentropy',\n",
    "              metrics=['accuracy'])"
   ]
  },
  {
   "cell_type": "code",
   "execution_count": 8,
   "metadata": {
    "ExecuteTime": {
     "end_time": "2023-12-20T03:50:36.540334500Z",
     "start_time": "2023-12-20T03:50:36.520807600Z"
    },
    "id": "lzIb-KCRH2LV"
   },
   "outputs": [],
   "source": [
    "from keras.preprocessing.text import Tokenizer\n",
    "from keras.utils import pad_sequences\n",
    "\n",
    "max_words = 50000\n",
    "\n",
    "tok = Tokenizer(num_words = max_words)"
   ]
  },
  {
   "cell_type": "code",
   "execution_count": 9,
   "metadata": {
    "ExecuteTime": {
     "end_time": "2023-12-20T03:50:36.612607600Z",
     "start_time": "2023-12-20T03:50:36.535819300Z"
    }
   },
   "outputs": [
    {
     "data": {
      "text/plain": [
       "array(['Bạn đọc', 'Bất động sản', 'Công nghệ', 'Công đoàn', 'Diễn đàn',\n",
       "       'Gia đình - Hôn nhân', 'Giáo dục', 'Kinh doanh',\n",
       "       'Lao Động & Đời sống', 'Lao Động cuối tuần', 'Lưu trữ', 'Media',\n",
       "       'Pháp luật', 'Phóng sự', 'Sức khỏe', 'Sự kiện Bình luận',\n",
       "       'Thông tin tiện ích', 'Thế giới', 'Thể thao', 'Thời sự',\n",
       "       'Tin hoạt động', 'Tin tức việc làm', 'Tấm Lòng Vàng',\n",
       "       'Văn hóa - Giải trí', 'Xe +', 'Xã hội'], dtype=object)"
      ]
     },
     "execution_count": 9,
     "metadata": {},
     "output_type": "execute_result"
    }
   ],
   "source": [
    "import numpy as np\n",
    "unique_classes_test = np.unique(y_test)\n",
    "unique_classes_test"
   ]
  },
  {
   "cell_type": "code",
   "execution_count": 10,
   "metadata": {
    "ExecuteTime": {
     "end_time": "2023-12-20T03:50:36.612607600Z",
     "start_time": "2023-12-20T03:50:36.565605Z"
    }
   },
   "outputs": [],
   "source": [
    "# from sklearn.preprocessing import LabelEncoder\n",
    "# \n",
    "# # Danh sách các nhãn theo thứ tự mong muốn\n",
    "# label_order = ['Bạn đọc', 'Bất động sản', 'Công nghệ', 'Công đoàn', 'Diễn đàn',\n",
    "#                'Gia đình - Hôn nhân', 'Giáo dục', 'Kinh doanh', 'Lao Động & Đời sống',\n",
    "#                'Lao Động cuối tuần', 'Lưu trữ', 'Media', 'Pháp luật', 'Phóng sự', 'Sức khỏe',\n",
    "#                'Sự kiện Bình luận', 'Thông tin tiện ích', 'Thế giới', 'Thể thao', 'Thời sự',\n",
    "#                'Tin hoạt động', 'Tin tức việc làm', 'Tấm Lòng Vàng', 'Văn hóa - Giải trí',\n",
    "#                'Xe +', 'Xã hội']\n",
    "# \n",
    "# # Khởi tạo LabelEncoder và fit với label_order\n",
    "# label_encoder = LabelEncoder()\n",
    "# label_encoder.fit(label_order)\n",
    "# \n",
    "# # Ánh xạ các nhãn trong y_train thành các số tương ứng\n",
    "# Y_test = label_encoder.transform(y_test)\n"
   ]
  },
  {
   "cell_type": "code",
   "execution_count": 11,
   "metadata": {
    "ExecuteTime": {
     "end_time": "2023-12-20T03:50:36.615607600Z",
     "start_time": "2023-12-20T03:50:36.583601300Z"
    }
   },
   "outputs": [
    {
     "data": {
      "text/html": [
       "<div>\n",
       "<style scoped>\n",
       "    .dataframe tbody tr th:only-of-type {\n",
       "        vertical-align: middle;\n",
       "    }\n",
       "\n",
       "    .dataframe tbody tr th {\n",
       "        vertical-align: top;\n",
       "    }\n",
       "\n",
       "    .dataframe thead th {\n",
       "        text-align: right;\n",
       "    }\n",
       "</style>\n",
       "<table border=\"1\" class=\"dataframe\">\n",
       "  <thead>\n",
       "    <tr style=\"text-align: right;\">\n",
       "      <th></th>\n",
       "      <th>Category</th>\n",
       "    </tr>\n",
       "  </thead>\n",
       "  <tbody>\n",
       "    <tr>\n",
       "      <th>0</th>\n",
       "      <td>Thế giới</td>\n",
       "    </tr>\n",
       "    <tr>\n",
       "      <th>1</th>\n",
       "      <td>Thể thao</td>\n",
       "    </tr>\n",
       "    <tr>\n",
       "      <th>2</th>\n",
       "      <td>Kinh doanh</td>\n",
       "    </tr>\n",
       "    <tr>\n",
       "      <th>3</th>\n",
       "      <td>Thể thao</td>\n",
       "    </tr>\n",
       "    <tr>\n",
       "      <th>4</th>\n",
       "      <td>Sức khỏe</td>\n",
       "    </tr>\n",
       "    <tr>\n",
       "      <th>...</th>\n",
       "      <td>...</td>\n",
       "    </tr>\n",
       "    <tr>\n",
       "      <th>45108</th>\n",
       "      <td>Kinh doanh</td>\n",
       "    </tr>\n",
       "    <tr>\n",
       "      <th>45109</th>\n",
       "      <td>Thời sự</td>\n",
       "    </tr>\n",
       "    <tr>\n",
       "      <th>45110</th>\n",
       "      <td>Thể thao</td>\n",
       "    </tr>\n",
       "    <tr>\n",
       "      <th>45111</th>\n",
       "      <td>Kinh doanh</td>\n",
       "    </tr>\n",
       "    <tr>\n",
       "      <th>45112</th>\n",
       "      <td>Media</td>\n",
       "    </tr>\n",
       "  </tbody>\n",
       "</table>\n",
       "<p>45113 rows × 1 columns</p>\n",
       "</div>"
      ],
      "text/plain": [
       "         Category\n",
       "0        Thế giới\n",
       "1        Thể thao\n",
       "2      Kinh doanh\n",
       "3        Thể thao\n",
       "4        Sức khỏe\n",
       "...           ...\n",
       "45108  Kinh doanh\n",
       "45109     Thời sự\n",
       "45110    Thể thao\n",
       "45111  Kinh doanh\n",
       "45112       Media\n",
       "\n",
       "[45113 rows x 1 columns]"
      ]
     },
     "execution_count": 11,
     "metadata": {},
     "output_type": "execute_result"
    }
   ],
   "source": [
    "y_test"
   ]
  },
  {
   "cell_type": "code",
   "execution_count": 19,
   "metadata": {
    "ExecuteTime": {
     "end_time": "2023-12-20T03:51:38.427456100Z",
     "start_time": "2023-12-20T03:51:38.336829400Z"
    },
    "colab": {
     "base_uri": "https://localhost:8080/"
    },
    "id": "xpa1IPeKNRXm",
    "outputId": "d0f1d4ce-664e-4631-d691-4bf62b64aa75"
   },
   "outputs": [
    {
     "name": "stderr",
     "output_type": "stream",
     "text": [
      "E:\\Anaconda\\envs\\word_spelling_autocorrect\\lib\\site-packages\\sklearn\\preprocessing\\_label.py:97: DataConversionWarning: A column-vector y was passed when a 1d array was expected. Please change the shape of y to (n_samples, ), for example using ravel().\n",
      "  y = column_or_1d(y, warn=True)\n",
      "E:\\Anaconda\\envs\\word_spelling_autocorrect\\lib\\site-packages\\sklearn\\preprocessing\\_label.py:132: DataConversionWarning: A column-vector y was passed when a 1d array was expected. Please change the shape of y to (n_samples, ), for example using ravel().\n",
      "  y = column_or_1d(y, dtype=self.classes_.dtype, warn=True)\n"
     ]
    }
   ],
   "source": [
    "from sklearn.preprocessing import LabelEncoder\n",
    "from tensorflow.keras.utils import to_categorical\n",
    "num_classes=26\n",
    "label_encoder = LabelEncoder()\n",
    "label_encoder.fit(y_test)\n",
    "Y_test = label_encoder.transform(y_test)\n",
    "Y_test = to_categorical(Y_test, num_classes)"
   ]
  },
  {
   "cell_type": "code",
   "execution_count": 20,
   "metadata": {
    "ExecuteTime": {
     "end_time": "2023-12-20T03:51:39.505495100Z",
     "start_time": "2023-12-20T03:51:39.454401500Z"
    }
   },
   "outputs": [
    {
     "data": {
      "text/plain": [
       "array([0., 1.], dtype=float32)"
      ]
     },
     "execution_count": 20,
     "metadata": {},
     "output_type": "execute_result"
    }
   ],
   "source": [
    "import numpy as np\n",
    "unique_classes_test = np.unique(Y_test)\n",
    "unique_classes_test"
   ]
  },
  {
   "cell_type": "code",
   "execution_count": 21,
   "metadata": {
    "ExecuteTime": {
     "end_time": "2023-12-20T03:51:40.081533800Z",
     "start_time": "2023-12-20T03:51:39.946790800Z"
    },
    "colab": {
     "base_uri": "https://localhost:8080/"
    },
    "id": "zNrqrjy6OdYi",
    "outputId": "f0eb23a9-0832-4f02-bf55-5394dcd4e0d1"
   },
   "outputs": [
    {
     "data": {
      "text/plain": [
       "array([[0., 0., 0., ..., 0., 0., 0.],\n",
       "       [0., 0., 0., ..., 0., 0., 0.],\n",
       "       [0., 0., 0., ..., 0., 0., 0.],\n",
       "       ...,\n",
       "       [0., 0., 0., ..., 0., 0., 0.],\n",
       "       [0., 0., 0., ..., 0., 0., 0.],\n",
       "       [0., 0., 0., ..., 0., 0., 0.]], dtype=float32)"
      ]
     },
     "execution_count": 21,
     "metadata": {},
     "output_type": "execute_result"
    }
   ],
   "source": [
    "Y_test"
   ]
  },
  {
   "cell_type": "code",
   "execution_count": 22,
   "metadata": {
    "ExecuteTime": {
     "end_time": "2023-12-20T03:51:40.837861Z",
     "start_time": "2023-12-20T03:51:40.664813100Z"
    },
    "colab": {
     "base_uri": "https://localhost:8080/",
     "height": 461
    },
    "id": "C0LVaxKBPliO",
    "outputId": "48c87cb5-a600-48cf-e242-7c1789f37711"
   },
   "outputs": [
    {
     "data": {
      "text/html": [
       "<div>\n",
       "<style scoped>\n",
       "    .dataframe tbody tr th:only-of-type {\n",
       "        vertical-align: middle;\n",
       "    }\n",
       "\n",
       "    .dataframe tbody tr th {\n",
       "        vertical-align: top;\n",
       "    }\n",
       "\n",
       "    .dataframe thead th {\n",
       "        text-align: right;\n",
       "    }\n",
       "</style>\n",
       "<table border=\"1\" class=\"dataframe\">\n",
       "  <thead>\n",
       "    <tr style=\"text-align: right;\">\n",
       "      <th></th>\n",
       "      <th>text</th>\n",
       "    </tr>\n",
       "  </thead>\n",
       "  <tbody>\n",
       "    <tr>\n",
       "      <th>0</th>\n",
       "      <td>eu xử rắn quyết buông_tha nga vụ hạ_độc cựu_đi...</td>\n",
       "    </tr>\n",
       "    <tr>\n",
       "      <th>1</th>\n",
       "      <td>cơ_sở trọng_tài cướp bàn thắng văn_toàn tình_h...</td>\n",
       "    </tr>\n",
       "    <tr>\n",
       "      <th>2</th>\n",
       "      <td>đánh nữ tiếp_viên hàng_không nam hành_khách ph...</td>\n",
       "    </tr>\n",
       "    <tr>\n",
       "      <th>3</th>\n",
       "      <td>hoàng gia_lai sài_gòn đổ lỗi thất_bại trận thu...</td>\n",
       "    </tr>\n",
       "    <tr>\n",
       "      <th>4</th>\n",
       "      <td>31 trẻ nghi_ngộ_độc bếp ăn_trường mầm_non dừng...</td>\n",
       "    </tr>\n",
       "    <tr>\n",
       "      <th>...</th>\n",
       "      <td>...</td>\n",
       "    </tr>\n",
       "    <tr>\n",
       "      <th>45108</th>\n",
       "      <td>vụ nhà_máy soda chu_lai đắp chiếu gỉ sét nhà_m...</td>\n",
       "    </tr>\n",
       "    <tr>\n",
       "      <th>45109</th>\n",
       "      <td>bình_dương giám_đốc công_an tỉnh phó bí_thư tỉ...</td>\n",
       "    </tr>\n",
       "    <tr>\n",
       "      <th>45110</th>\n",
       "      <td>vff nhấn_mạnh mục_tiêu vô_địch aff cup 2020 độ...</td>\n",
       "    </tr>\n",
       "    <tr>\n",
       "      <th>45111</th>\n",
       "      <td>1 triệu thuê bao 1 000 tỉ đồng 0 đồng_tiền thu...</td>\n",
       "    </tr>\n",
       "    <tr>\n",
       "      <th>45112</th>\n",
       "      <td>lđlđ sơn_la hỗ_trợ nước_sạch trường_học vùng_c...</td>\n",
       "    </tr>\n",
       "  </tbody>\n",
       "</table>\n",
       "<p>45113 rows × 1 columns</p>\n",
       "</div>"
      ],
      "text/plain": [
       "                                                    text\n",
       "0      eu xử rắn quyết buông_tha nga vụ hạ_độc cựu_đi...\n",
       "1      cơ_sở trọng_tài cướp bàn thắng văn_toàn tình_h...\n",
       "2      đánh nữ tiếp_viên hàng_không nam hành_khách ph...\n",
       "3      hoàng gia_lai sài_gòn đổ lỗi thất_bại trận thu...\n",
       "4      31 trẻ nghi_ngộ_độc bếp ăn_trường mầm_non dừng...\n",
       "...                                                  ...\n",
       "45108  vụ nhà_máy soda chu_lai đắp chiếu gỉ sét nhà_m...\n",
       "45109  bình_dương giám_đốc công_an tỉnh phó bí_thư tỉ...\n",
       "45110  vff nhấn_mạnh mục_tiêu vô_địch aff cup 2020 độ...\n",
       "45111  1 triệu thuê bao 1 000 tỉ đồng 0 đồng_tiền thu...\n",
       "45112  lđlđ sơn_la hỗ_trợ nước_sạch trường_học vùng_c...\n",
       "\n",
       "[45113 rows x 1 columns]"
      ]
     },
     "execution_count": 22,
     "metadata": {},
     "output_type": "execute_result"
    }
   ],
   "source": [
    "X_test"
   ]
  },
  {
   "cell_type": "code",
   "execution_count": 23,
   "metadata": {
    "ExecuteTime": {
     "end_time": "2023-12-20T03:51:41.616691700Z",
     "start_time": "2023-12-20T03:51:41.541504300Z"
    },
    "colab": {
     "base_uri": "https://localhost:8080/"
    },
    "id": "4tzDVvRgO-33",
    "outputId": "c24db857-c232-4f93-fddb-e76f13ee9ddb"
   },
   "outputs": [
    {
     "name": "stdout",
     "output_type": "stream",
     "text": [
      "(45113, 1)\n",
      "(45113, 26)\n"
     ]
    }
   ],
   "source": [
    "print(X_test.shape)\n",
    "print(Y_test.shape)"
   ]
  },
  {
   "cell_type": "code",
   "execution_count": 28,
   "metadata": {
    "ExecuteTime": {
     "end_time": "2023-12-20T03:52:58.029888500Z",
     "start_time": "2023-12-20T03:52:57.950854900Z"
    },
    "colab": {
     "base_uri": "https://localhost:8080/",
     "height": 477
    },
    "id": "dqUXxO7VJLEZ",
    "outputId": "d7862f1e-feca-4de5-930d-487ef74398f9"
   },
   "outputs": [
    {
     "ename": "ValueError",
     "evalue": "Data cardinality is ambiguous:\n  x sizes: 1\n  y sizes: 45113\nMake sure all arrays contain the same number of samples.",
     "output_type": "error",
     "traceback": [
      "\u001b[1;31m---------------------------------------------------------------------------\u001b[0m",
      "\u001b[1;31mValueError\u001b[0m                                Traceback (most recent call last)",
      "Cell \u001b[1;32mIn[28], line 4\u001b[0m\n\u001b[0;32m      2\u001b[0m max_len \u001b[38;5;241m=\u001b[39m \u001b[38;5;241m2000\u001b[39m\n\u001b[0;32m      3\u001b[0m test_sequences_matrix \u001b[38;5;241m=\u001b[39m pad_sequences(test_sequences,maxlen \u001b[38;5;241m=\u001b[39m max_len,padding\u001b[38;5;241m=\u001b[39m\u001b[38;5;124m'\u001b[39m\u001b[38;5;124mpost\u001b[39m\u001b[38;5;124m'\u001b[39m)\n\u001b[1;32m----> 4\u001b[0m score \u001b[38;5;241m=\u001b[39m \u001b[43mmodel\u001b[49m\u001b[38;5;241;43m.\u001b[39;49m\u001b[43mevaluate\u001b[49m\u001b[43m(\u001b[49m\u001b[43mtest_sequences_matrix\u001b[49m\u001b[43m,\u001b[49m\u001b[43m \u001b[49m\u001b[43mY_test\u001b[49m\u001b[43m,\u001b[49m\u001b[43m \u001b[49m\u001b[43mverbose\u001b[49m\u001b[38;5;241;43m=\u001b[39;49m\u001b[38;5;241;43m0\u001b[39;49m\u001b[43m)\u001b[49m\n\u001b[0;32m      5\u001b[0m \u001b[38;5;28mprint\u001b[39m(score)\n\u001b[0;32m      7\u001b[0m y_predict \u001b[38;5;241m=\u001b[39m model\u001b[38;5;241m.\u001b[39mpredict(test_sequences_matrix)\n",
      "File \u001b[1;32mE:\\Anaconda\\envs\\word_spelling_autocorrect\\lib\\site-packages\\keras\\utils\\traceback_utils.py:70\u001b[0m, in \u001b[0;36mfilter_traceback.<locals>.error_handler\u001b[1;34m(*args, **kwargs)\u001b[0m\n\u001b[0;32m     67\u001b[0m     filtered_tb \u001b[38;5;241m=\u001b[39m _process_traceback_frames(e\u001b[38;5;241m.\u001b[39m__traceback__)\n\u001b[0;32m     68\u001b[0m     \u001b[38;5;66;03m# To get the full stack trace, call:\u001b[39;00m\n\u001b[0;32m     69\u001b[0m     \u001b[38;5;66;03m# `tf.debugging.disable_traceback_filtering()`\u001b[39;00m\n\u001b[1;32m---> 70\u001b[0m     \u001b[38;5;28;01mraise\u001b[39;00m e\u001b[38;5;241m.\u001b[39mwith_traceback(filtered_tb) \u001b[38;5;28;01mfrom\u001b[39;00m \u001b[38;5;28;01mNone\u001b[39;00m\n\u001b[0;32m     71\u001b[0m \u001b[38;5;28;01mfinally\u001b[39;00m:\n\u001b[0;32m     72\u001b[0m     \u001b[38;5;28;01mdel\u001b[39;00m filtered_tb\n",
      "File \u001b[1;32mE:\\Anaconda\\envs\\word_spelling_autocorrect\\lib\\site-packages\\keras\\engine\\data_adapter.py:1851\u001b[0m, in \u001b[0;36m_check_data_cardinality\u001b[1;34m(data)\u001b[0m\n\u001b[0;32m   1844\u001b[0m     msg \u001b[38;5;241m+\u001b[39m\u001b[38;5;241m=\u001b[39m \u001b[38;5;124m\"\u001b[39m\u001b[38;5;124m  \u001b[39m\u001b[38;5;132;01m{}\u001b[39;00m\u001b[38;5;124m sizes: \u001b[39m\u001b[38;5;132;01m{}\u001b[39;00m\u001b[38;5;130;01m\\n\u001b[39;00m\u001b[38;5;124m\"\u001b[39m\u001b[38;5;241m.\u001b[39mformat(\n\u001b[0;32m   1845\u001b[0m         label,\n\u001b[0;32m   1846\u001b[0m         \u001b[38;5;124m\"\u001b[39m\u001b[38;5;124m, \u001b[39m\u001b[38;5;124m\"\u001b[39m\u001b[38;5;241m.\u001b[39mjoin(\n\u001b[0;32m   1847\u001b[0m             \u001b[38;5;28mstr\u001b[39m(i\u001b[38;5;241m.\u001b[39mshape[\u001b[38;5;241m0\u001b[39m]) \u001b[38;5;28;01mfor\u001b[39;00m i \u001b[38;5;129;01min\u001b[39;00m tf\u001b[38;5;241m.\u001b[39mnest\u001b[38;5;241m.\u001b[39mflatten(single_data)\n\u001b[0;32m   1848\u001b[0m         ),\n\u001b[0;32m   1849\u001b[0m     )\n\u001b[0;32m   1850\u001b[0m msg \u001b[38;5;241m+\u001b[39m\u001b[38;5;241m=\u001b[39m \u001b[38;5;124m\"\u001b[39m\u001b[38;5;124mMake sure all arrays contain the same number of samples.\u001b[39m\u001b[38;5;124m\"\u001b[39m\n\u001b[1;32m-> 1851\u001b[0m \u001b[38;5;28;01mraise\u001b[39;00m \u001b[38;5;167;01mValueError\u001b[39;00m(msg)\n",
      "\u001b[1;31mValueError\u001b[0m: Data cardinality is ambiguous:\n  x sizes: 1\n  y sizes: 45113\nMake sure all arrays contain the same number of samples."
     ]
    }
   ],
   "source": [
    "test_sequences = tok.texts_to_sequences(X_test)\n",
    "max_len = 2000\n",
    "test_sequences_matrix = pad_sequences(test_sequences,maxlen = max_len,padding='post')\n",
    "score = model.evaluate(test_sequences_matrix, Y_test, verbose=0)\n",
    "print(score)\n",
    "\n",
    "y_predict = model.predict(test_sequences_matrix)"
   ]
  },
  {
   "cell_type": "code",
   "execution_count": null,
   "metadata": {
    "ExecuteTime": {
     "start_time": "2023-12-20T03:50:38.697861100Z"
    },
    "id": "n2cM9zkPMWJu"
   },
   "outputs": [],
   "source": [
    "import pickle\n",
    "dict_label={}\n",
    "# Đường dẫn tới tệp .pkl của bạn\n",
    "file_path = '/content/drive/MyDrive/NLP/dict_label.pkl'\n",
    "\n",
    "# Tải từ điển\n",
    "with open(file_path, 'rb') as f:\n",
    "    dict_label = pickle.load(f)"
   ]
  },
  {
   "cell_type": "code",
   "execution_count": null,
   "metadata": {
    "ExecuteTime": {
     "end_time": "2023-12-20T03:50:38.702867700Z",
     "start_time": "2023-12-20T03:50:38.700869300Z"
    },
    "colab": {
     "base_uri": "https://localhost:8080/",
     "height": 227
    },
    "id": "QZgeXPwxMf8a",
    "outputId": "70d91666-5847-49f5-91b6-a92933e813f5"
   },
   "outputs": [],
   "source": [
    "i = 0\n",
    "import numpy as np\n",
    "print(f\"Câu test: {list(X_test)[i]}\\nGiá trị dự đoán: {dict_label[str(np.argmax(y_predict[0]))]}\")"
   ]
  },
  {
   "cell_type": "code",
   "execution_count": null,
   "metadata": {
    "ExecuteTime": {
     "start_time": "2023-12-20T03:50:38.702867700Z"
    },
    "id": "gCoNrHPHMnNG"
   },
   "outputs": [],
   "source": []
  }
 ],
 "metadata": {
  "accelerator": "GPU",
  "colab": {
   "gpuType": "T4",
   "provenance": []
  },
  "kernelspec": {
   "display_name": "Python 3 (ipykernel)",
   "language": "python",
   "name": "python3"
  },
  "language_info": {
   "codemirror_mode": {
    "name": "ipython",
    "version": 3
   },
   "file_extension": ".py",
   "mimetype": "text/x-python",
   "name": "python",
   "nbconvert_exporter": "python",
   "pygments_lexer": "ipython3",
   "version": "3.8.18"
  }
 },
 "nbformat": 4,
 "nbformat_minor": 1
}
